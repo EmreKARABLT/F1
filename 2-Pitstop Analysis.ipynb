{
 "cells": [
  {
   "cell_type": "raw",
   "id": "7932dc39",
   "metadata": {},
   "source": [
    "This notebook is made for visualization purposes.\n",
    "\n",
    "First the data is read from multiple csv files and then merged into dataframes so that we can draw with entities that are from different csv files. "
   ]
  },
  {
   "cell_type": "code",
   "execution_count": 53,
   "id": "a3f227f1",
   "metadata": {
    "scrolled": true,
    "ExecuteTime": {
     "end_time": "2024-05-23T17:24:34.838253Z",
     "start_time": "2024-05-23T17:24:34.559038400Z"
    }
   },
   "outputs": [
    {
     "name": "stdout",
     "output_type": "stream",
     "text": [
      "Dataset\\circuits.csv\n",
      "Dataset\\constructors.csv\n",
      "Dataset\\constructor_results.csv\n",
      "Dataset\\constructor_standings.csv\n",
      "Dataset\\drivers.csv\n",
      "Dataset\\driver_standings.csv\n",
      "Dataset\\lap_times.csv\n",
      "Dataset\\pit_stops.csv\n",
      "Dataset\\qualifying.csv\n",
      "Dataset\\races.csv\n",
      "Dataset\\results.csv\n",
      "Dataset\\seasons.csv\n",
      "Dataset\\sprint_results.csv\n",
      "Dataset\\status.csv\n",
      "(26080, 17)\n",
      "<bound method NDFrame.head of         driverId  stop  lap      time duration  milliseconds\n",
      "raceId                                                      \n",
      "841          153     1    1  17:05:23   26.898         26898\n",
      "841           30     1    1  17:05:52   25.021         25021\n",
      "841           17     1   11  17:20:48   23.426         23426\n",
      "841            4     1   12  17:22:34   23.251         23251\n",
      "841           13     1   13  17:24:10   23.842         23842\n",
      "...          ...   ...  ...       ...      ...           ...\n",
      "1110           4     2   29  15:59:01   23.798         23798\n",
      "1110         830     2   30  16:00:16   23.012         23012\n",
      "1110         848     3   33  16:07:06   23.529         23529\n",
      "1110         858     3   34  16:09:09   23.109         23109\n",
      "1110           1     3   42  16:23:05   23.156         23156\n",
      "\n",
      "[10089 rows x 6 columns]>\n"
     ]
    }
   ],
   "source": [
    "import numpy as np \n",
    "import pandas as pd \n",
    "import datetime as dt\n",
    "import matplotlib.pyplot as plt\n",
    "import seaborn as sns\n",
    "import plotly.graph_objects as go\n",
    "import plotly.express as px\n",
    "\n",
    "import os\n",
    "fnames = []\n",
    "fpaths = []\n",
    "for dirname, _, filenames in os.walk('Dataset'):\n",
    "    for filename in filenames:\n",
    "        fnames.append(filename.split('.')[0])\n",
    "        fpaths.append(os.path.join(dirname, filename))\n",
    "        print(os.path.join(dirname, filename))\n",
    "        \n",
    "# Initialize empty dictionary to store DataFrames\n",
    "dfs = {}\n",
    "\n",
    "# Read each file into a DataFrame\n",
    "for name, path in zip(fnames, fpaths):\n",
    "    dfs[name] = pd.read_csv(path, index_col=0, na_values=r'\\N')\n",
    "\n",
    "#Access the DataFrames using their filenames as keys in the dfs dictionary\n",
    "\n",
    "circuits_df = dfs['circuits']\n",
    "drivers_df = dfs['drivers']\n",
    "constructors_df = dfs['constructors']\n",
    "races_df = dfs['races']\n",
    "pit_stops_df = dfs['pit_stops']\n",
    "results_df = dfs['results']\n",
    "\n",
    "print(results_df.shape)\n",
    "print(pit_stops_df.head)"
   ]
  },
  {
   "cell_type": "code",
   "execution_count": 54,
   "id": "769f0954",
   "metadata": {
    "ExecuteTime": {
     "end_time": "2024-05-23T17:24:34.844253800Z",
     "start_time": "2024-05-23T17:24:34.813040Z"
    }
   },
   "outputs": [],
   "source": [
    "# Post-reading formatting\n",
    "circuits_df = circuits_df.rename(columns={'name': 'circuitName', 'location': 'circuitLocation', 'country': 'circuitCountry', 'url': 'circuitUrl'})\n",
    "drivers_df = drivers_df.rename(columns={'nationality': 'driverNationality', 'url': 'driverUrl'})\n",
    "drivers_df['driverName'] = drivers_df['forename'] + ' ' + drivers_df['surname']\n",
    "constructors_df = constructors_df.rename(columns={'name': 'constructorName', 'nationality': 'constructorNationality', 'url': 'constructorUrl'})\n",
    "pit_stops_df = pit_stops_df.rename(columns={'time': 'pitTime'})\n",
    "pit_stops_df['seconds'] = pit_stops_df['milliseconds'].apply(lambda x: x / 1000)\n",
    "results_df['seconds'] = results_df['milliseconds'].apply(lambda x: x / 1000)\n"
   ]
  },
  {
   "cell_type": "code",
   "execution_count": 55,
   "id": "b7324fab",
   "metadata": {
    "ExecuteTime": {
     "end_time": "2024-05-23T17:24:34.917254400Z",
     "start_time": "2024-05-23T17:24:34.827254100Z"
    }
   },
   "outputs": [
    {
     "name": "stdout",
     "output_type": "stream",
     "text": [
      "Index(['raceId', 'driverId', 'constructorId_x', 'number_x', 'grid', 'position',\n",
      "       'positionText', 'positionOrder', 'points', 'laps', 'time_x',\n",
      "       'milliseconds_x', 'fastestLap', 'rank', 'fastestLapTime',\n",
      "       'fastestLapSpeed', 'statusId', 'seconds_x', 'year_x', 'round_x',\n",
      "       'circuitId_x', 'name_x', 'date_x', 'time_y', 'url_x', 'fp1_date_x',\n",
      "       'fp1_time_x', 'fp2_date_x', 'fp2_time_x', 'fp3_date_x', 'fp3_time_x',\n",
      "       'quali_date_x', 'quali_time_x', 'sprint_date_x', 'sprint_time_x',\n",
      "       'circuitRef_x', 'circuitName_x', 'circuitLocation_x',\n",
      "       'circuitCountry_x', 'lat_x', 'lng_x', 'alt_x', 'circuitUrl_x',\n",
      "       'constructorRef', 'constructorName', 'constructorNationality',\n",
      "       'constructorUrl', 'driverRef', 'number_y', 'code', 'forename',\n",
      "       'surname', 'dob', 'driverNationality', 'driverUrl', 'driverName',\n",
      "       'stop', 'lap', 'pitTime', 'duration', 'milliseconds_y', 'seconds_y',\n",
      "       'year_y', 'round_y', 'circuitId_y', 'name_y', 'date_y', 'time', 'url_y',\n",
      "       'fp1_date_y', 'fp1_time_y', 'fp2_date_y', 'fp2_time_y', 'fp3_date_y',\n",
      "       'fp3_time_y', 'quali_date_y', 'quali_time_y', 'sprint_date_y',\n",
      "       'sprint_time_y', 'circuitRef_y', 'circuitName_y', 'circuitLocation_y',\n",
      "       'circuitCountry_y', 'lat_y', 'lng_y', 'alt_y', 'circuitUrl_y',\n",
      "       'constructorId_y', 'pitPercentage'],\n",
      "      dtype='object')\n",
      "Index(['raceId', 'driverId', 'constructorId', 'number_x', 'grid', 'position',\n",
      "       'positionText', 'positionOrder', 'points', 'laps', 'time_x',\n",
      "       'milliseconds', 'fastestLap', 'rank', 'fastestLapTime',\n",
      "       'fastestLapSpeed', 'statusId', 'seconds', 'year', 'round', 'circuitId',\n",
      "       'name', 'date', 'time_y', 'url', 'fp1_date', 'fp1_time', 'fp2_date',\n",
      "       'fp2_time', 'fp3_date', 'fp3_time', 'quali_date', 'quali_time',\n",
      "       'sprint_date', 'sprint_time', 'circuitRef', 'circuitName',\n",
      "       'circuitLocation', 'circuitCountry', 'lat', 'lng', 'alt', 'circuitUrl',\n",
      "       'constructorRef', 'constructorName', 'constructorNationality',\n",
      "       'constructorUrl', 'driverRef', 'number_y', 'code', 'forename',\n",
      "       'surname', 'dob', 'driverNationality', 'driverUrl', 'driverName'],\n",
      "      dtype='object')\n",
      "Index(['raceId', 'driverId', 'stop', 'lap', 'pitTime', 'duration',\n",
      "       'milliseconds', 'seconds', 'year', 'round', 'circuitId', 'name', 'date',\n",
      "       'time', 'url', 'fp1_date', 'fp1_time', 'fp2_date', 'fp2_time',\n",
      "       'fp3_date', 'fp3_time', 'quali_date', 'quali_time', 'sprint_date',\n",
      "       'sprint_time', 'circuitRef', 'circuitName', 'circuitLocation',\n",
      "       'circuitCountry', 'lat', 'lng', 'alt', 'circuitUrl', 'constructorId'],\n",
      "      dtype='object')\n"
     ]
    }
   ],
   "source": [
    "# Merge the DataFrames\n",
    "newResults = pd.merge(results_df, races_df, left_on='raceId', right_index=True, how='left')\n",
    "newResults = pd.merge(newResults, circuits_df, left_on='circuitId', right_index=True, how='left')\n",
    "newResults = pd.merge(newResults, constructors_df, left_on='constructorId', right_index=True, how='left')\n",
    "newResults = pd.merge(newResults, drivers_df, left_on='driverId', right_index=True, how='left')\n",
    "\n",
    "\n",
    "newResults\n",
    "\n",
    "# Merge the DataFrames\n",
    "newPitStops = pd.merge(pit_stops_df, races_df, left_on='raceId', right_index=True, how='left')\n",
    "newPitStops = pd.merge(newPitStops, circuits_df, left_on='circuitId', right_index=True, how='left')\n",
    "newPitStops = pd.merge(newPitStops, newResults[['raceId','driverId','constructorId']], \n",
    "                       on=['raceId','driverId'])\n",
    "\n",
    "newPitStops\n",
    "\n",
    "\n",
    "# Merge newResults with aggregated newPitStops\n",
    "raceResults = pd.merge(newResults, \n",
    "                       newPitStops.groupby(by=['raceId', 'driverId']).sum(), \n",
    "                       left_on=['raceId', 'driverId'], \n",
    "                       right_on=['raceId', 'driverId'], \n",
    "                       how='left')\n",
    "\n",
    "# Calculate pitPercentage\n",
    "raceResults['pitPercentage'] = raceResults['milliseconds_y'] / raceResults['milliseconds_x'] * 100\n",
    "\n",
    "# Display the resulting DataFrame\n",
    "print(raceResults.columns)\n",
    "print(newResults.columns)\n",
    "print(newPitStops.columns)"
   ]
  },
  {
   "cell_type": "raw",
   "id": "fa844aab",
   "metadata": {},
   "source": [
    "Since there are too many constructor we decided to focus only the ones that are popular during the current season."
   ]
  },
  {
   "cell_type": "code",
   "execution_count": 56,
   "id": "d2e4fa4a",
   "metadata": {
    "ExecuteTime": {
     "end_time": "2024-05-23T17:24:34.947253200Z",
     "start_time": "2024-05-23T17:24:34.919253600Z"
    }
   },
   "outputs": [],
   "source": [
    "# Constructor color mapping\n",
    "constructor_color_map = {\n",
    "    'Mercedes':'#6CD3BF',\n",
    "    'Red Bull':'#1E5BC6',\n",
    "    'Ferrari':'#ED1C24',\n",
    "    'McLaren':'#F58020',\n",
    "    'Mercedes':'#6E0000',\n",
    "    'Haas F1 Team':'#B6BABD',\n",
    "    'Aston Martin':'#2D826D',\n",
    "}\n"
   ]
  },
  {
   "cell_type": "code",
   "execution_count": 57,
   "id": "0c7e50d4",
   "metadata": {
    "ExecuteTime": {
     "end_time": "2024-05-23T17:24:35.170254400Z",
     "start_time": "2024-05-23T17:24:34.935254100Z"
    }
   },
   "outputs": [
    {
     "data": {
      "text/plain": "<Figure size 1000x800 with 1 Axes>",
      "image/png": "[encoded data removed]"
     },
     "metadata": {},
     "output_type": "display_data"
    }
   ],
   "source": [
    "import matplotlib.pyplot as plt\n",
    "\n",
    "# Step 1: Filter the DataFrame to include only rows with valid pit stop durations\n",
    "valid_duration_df = raceResults[raceResults['milliseconds_y'].notnull()]\n",
    "\n",
    "# Step 2: Group the filtered DataFrame by constructor name and calculate the average pit stop time\n",
    "average_pit_stop_time = valid_duration_df.groupby('constructorName')['milliseconds_y'].mean()\n",
    "\n",
    "# Step 3: Plotting with constructor colors\n",
    "plt.figure(figsize=(10, 8))\n",
    "for constructor, color in constructor_color_map.items():\n",
    "    if constructor in average_pit_stop_time.index:\n",
    "        plt.bar(constructor, average_pit_stop_time[constructor], color=color)\n",
    "\n",
    "plt.xlabel('Constructor Name', fontsize=14)  # Increase font size\n",
    "plt.ylabel('Average Pit Stop Time (milliseconds)', fontsize=14)  # Increase font size\n",
    "plt.title('Average Pit Stop Time by Constructor', fontsize=16)  # Increase font size\n",
    "plt.xticks(rotation=45, ha='right', fontsize=12)  # Increase font size\n",
    "plt.yticks(fontsize=12)  # Increase font size\n",
    "plt.tight_layout()\n",
    "plt.show()\n",
    "\n"
   ]
  },
  {
   "cell_type": "code",
   "execution_count": 58,
   "id": "e590f154",
   "metadata": {
    "ExecuteTime": {
     "end_time": "2024-05-23T17:24:35.313981800Z",
     "start_time": "2024-05-23T17:24:35.174254100Z"
    }
   },
   "outputs": [
    {
     "data": {
      "text/plain": "<Figure size 1000x800 with 1 Axes>",
      "image/png": "[encoded data removed]"
     },
     "metadata": {},
     "output_type": "display_data"
    }
   ],
   "source": [
    "import matplotlib.pyplot as plt\n",
    "\n",
    "# Step 1: Filter the DataFrame to include only rows with circuit IDs 1, 4, and 6\n",
    "filtered_raceResults = raceResults[raceResults['circuitId_x'].isin([1, 4, 6])]\n",
    "\n",
    "# Step 2: Filter the DataFrame to include only rows with valid pit stop durations\n",
    "valid_duration_df = filtered_raceResults[filtered_raceResults['milliseconds_y'].notnull()]\n",
    "\n",
    "# Step 3: Group the filtered DataFrame by constructor name and calculate the average pit stop time\n",
    "average_pit_stop_time = valid_duration_df.groupby('constructorName')['milliseconds_y'].mean()\n",
    "\n",
    "# Step 4: Plotting with constructor colors\n",
    "plt.figure(figsize=(10, 8))\n",
    "for constructor, color in constructor_color_map.items():\n",
    "    if constructor in average_pit_stop_time.index:\n",
    "        plt.bar(constructor, average_pit_stop_time[constructor], color=color)\n",
    "\n",
    "plt.xlabel('Constructor Name',fontsize=14)\n",
    "plt.ylabel('Average Pit Stop Time (milliseconds)',fontsize=14)\n",
    "plt.title('Average Pit Stop Time by Constructor for Circuits \\n Albert Park Grand Prix Circuit , Circuit de Barcelona-Catalunya , Circuit de Monaco',fontsize=14)\n",
    "plt.xticks(rotation=45, ha='right')\n",
    "plt.yticks(fontsize=12)  # Increase font size\n",
    "plt.tight_layout()\n",
    "plt.show()\n"
   ]
  },
  {
   "cell_type": "raw",
   "id": "ca8f13be",
   "metadata": {},
   "source": [
    "The above graphs illustrate the average pit stop times for different Formula 1 constructors across all circuits for the first one and the second one is across the specified circuits. Second graph has more obvious differences it means for the given 3 circuits constructors are performing differently. Because when you look at the first graph the flactutaion of the data is less than the second graph. "
   ]
  },
  {
   "cell_type": "code",
   "execution_count": 59,
   "id": "944f80f0",
   "metadata": {
    "ExecuteTime": {
     "end_time": "2024-05-23T17:24:35.374979600Z",
     "start_time": "2024-05-23T17:24:35.317980500Z"
    }
   },
   "outputs": [
    {
     "name": "stdout",
     "output_type": "stream",
     "text": [
      "      raceId  driverId  stop  lap   pitTime duration  milliseconds  seconds  \\\n",
      "0        841       153     1    1  17:05:23   26.898         26898   26.898   \n",
      "1        841       153     2   17  17:31:06   24.463         24463   24.463   \n",
      "2        841       153     3   35  17:59:45   26.348         26348   26.348   \n",
      "3        841        30     1    1  17:05:52   25.021         25021   25.021   \n",
      "4        841        30     2   17  17:32:08   23.988         23988   23.988   \n",
      "...      ...       ...   ...  ...       ...      ...           ...      ...   \n",
      "9891    1105       847     2   45  16:03:58   22.054         22054   22.054   \n",
      "9892    1105       830     1   26  15:38:06   22.241         22241   22.241   \n",
      "9893    1105       830     2   52  16:12:44   22.357         22357   22.357   \n",
      "9894    1105       815     1   27  15:39:57   21.775         21775   21.775   \n",
      "9895    1105       815     2   50  16:10:42   21.537         21537   21.537   \n",
      "\n",
      "      year  round  ...  sprint_time   circuitRef  \\\n",
      "0     2011      1  ...          NaN  albert_park   \n",
      "1     2011      1  ...          NaN  albert_park   \n",
      "2     2011      1  ...          NaN  albert_park   \n",
      "3     2011      1  ...          NaN  albert_park   \n",
      "4     2011      1  ...          NaN  albert_park   \n",
      "...    ...    ...  ...          ...          ...   \n",
      "9891  2023      7  ...          NaN    catalunya   \n",
      "9892  2023      7  ...          NaN    catalunya   \n",
      "9893  2023      7  ...          NaN    catalunya   \n",
      "9894  2023      7  ...          NaN    catalunya   \n",
      "9895  2023      7  ...          NaN    catalunya   \n",
      "\n",
      "                         circuitName circuitLocation circuitCountry      lat  \\\n",
      "0     Albert Park Grand Prix Circuit       Melbourne      Australia -37.8497   \n",
      "1     Albert Park Grand Prix Circuit       Melbourne      Australia -37.8497   \n",
      "2     Albert Park Grand Prix Circuit       Melbourne      Australia -37.8497   \n",
      "3     Albert Park Grand Prix Circuit       Melbourne      Australia -37.8497   \n",
      "4     Albert Park Grand Prix Circuit       Melbourne      Australia -37.8497   \n",
      "...                              ...             ...            ...      ...   \n",
      "9891  Circuit de Barcelona-Catalunya        Montmeló          Spain  41.5700   \n",
      "9892  Circuit de Barcelona-Catalunya        Montmeló          Spain  41.5700   \n",
      "9893  Circuit de Barcelona-Catalunya        Montmeló          Spain  41.5700   \n",
      "9894  Circuit de Barcelona-Catalunya        Montmeló          Spain  41.5700   \n",
      "9895  Circuit de Barcelona-Catalunya        Montmeló          Spain  41.5700   \n",
      "\n",
      "            lng    alt                                         circuitUrl  \\\n",
      "0     144.96800   10.0  http://en.wikipedia.org/wiki/Melbourne_Grand_P...   \n",
      "1     144.96800   10.0  http://en.wikipedia.org/wiki/Melbourne_Grand_P...   \n",
      "2     144.96800   10.0  http://en.wikipedia.org/wiki/Melbourne_Grand_P...   \n",
      "3     144.96800   10.0  http://en.wikipedia.org/wiki/Melbourne_Grand_P...   \n",
      "4     144.96800   10.0  http://en.wikipedia.org/wiki/Melbourne_Grand_P...   \n",
      "...         ...    ...                                                ...   \n",
      "9891    2.26111  109.0  http://en.wikipedia.org/wiki/Circuit_de_Barcel...   \n",
      "9892    2.26111  109.0  http://en.wikipedia.org/wiki/Circuit_de_Barcel...   \n",
      "9893    2.26111  109.0  http://en.wikipedia.org/wiki/Circuit_de_Barcel...   \n",
      "9894    2.26111  109.0  http://en.wikipedia.org/wiki/Circuit_de_Barcel...   \n",
      "9895    2.26111  109.0  http://en.wikipedia.org/wiki/Circuit_de_Barcel...   \n",
      "\n",
      "     constructorId  \n",
      "0                5  \n",
      "1                5  \n",
      "2                5  \n",
      "3              131  \n",
      "4              131  \n",
      "...            ...  \n",
      "9891           131  \n",
      "9892             9  \n",
      "9893             9  \n",
      "9894             9  \n",
      "9895             9  \n",
      "\n",
      "[1307 rows x 34 columns]\n"
     ]
    },
    {
     "data": {
      "application/vnd.plotly.v1+json": {
       "data": [
        {
         "hovertemplate": "circuitName=Albert Park Grand Prix Circuit<br>Date=%{x}<br>Average Pit Stop Duration (seconds)=%{y}<extra></extra>",
         "legendgroup": "Albert Park Grand Prix Circuit",
         "line": {
          "color": "#636efa",
          "dash": "solid"
         },
         "marker": {
          "symbol": "circle"
         },
         "mode": "lines",
         "name": "Albert Park Grand Prix Circuit",
         "orientation": "v",
         "showlegend": true,
         "x": [
          "2011-03-27",
          "2012-03-18",
          "2013-03-17",
          "2014-03-16",
          "2015-03-15",
          "2016-03-20",
          "2017-03-26",
          "2018-03-25",
          "2019-03-17",
          "2022-04-10",
          "2023-04-02"
         ],
         "xaxis": "x",
         "y": [
          24.34282222222222,
          24.706926829268294,
          23.11990566037736,
          23.85644117647059,
          23.0890625,
          22.846037037037036,
          24.0808,
          22.31675,
          23.607727272727274,
          18.541681818181818,
          19.1521875
         ],
         "yaxis": "y",
         "type": "scatter"
        },
        {
         "hovertemplate": "circuitName=Circuit de Barcelona-Catalunya<br>Date=%{x}<br>Average Pit Stop Duration (seconds)=%{y}<extra></extra>",
         "legendgroup": "Circuit de Barcelona-Catalunya",
         "line": {
          "color": "#EF553B",
          "dash": "solid"
         },
         "marker": {
          "symbol": "circle"
         },
         "mode": "lines",
         "name": "Circuit de Barcelona-Catalunya",
         "orientation": "v",
         "showlegend": true,
         "x": [
          "2011-05-22",
          "2012-05-13",
          "2013-05-12",
          "2014-05-11",
          "2015-05-10",
          "2016-05-15",
          "2017-05-14",
          "2018-05-13",
          "2019-05-12",
          "2020-08-16",
          "2021-05-09",
          "2022-05-22",
          "2023-06-04"
         ],
         "xaxis": "x",
         "y": [
          21.5675974025974,
          20.973507462686566,
          20.528910256410256,
          22.922229166666668,
          23.39504347826087,
          23.047361702127656,
          23.219594594594593,
          23.834904761904763,
          23.137216216216217,
          22.33522857142857,
          22.678833333333333,
          22.98122641509434,
          23.12846511627907
         ],
         "yaxis": "y",
         "type": "scatter"
        },
        {
         "hovertemplate": "circuitName=Circuit de Monaco<br>Date=%{x}<br>Average Pit Stop Duration (seconds)=%{y}<extra></extra>",
         "legendgroup": "Circuit de Monaco",
         "line": {
          "color": "#00cc96",
          "dash": "solid"
         },
         "marker": {
          "symbol": "circle"
         },
         "mode": "lines",
         "name": "Circuit de Monaco",
         "orientation": "v",
         "showlegend": true,
         "x": [
          "2011-05-29",
          "2012-05-27",
          "2013-05-26",
          "2014-05-25",
          "2015-05-24",
          "2016-05-29",
          "2017-05-28",
          "2018-05-27",
          "2019-05-26",
          "2021-05-23",
          "2022-05-29",
          "2023-05-28"
         ],
         "xaxis": "x",
         "y": [
          27.5483488372093,
          26.856461538461538,
          26.42823333333333,
          27.205807692307694,
          26.2947,
          27.545613636363637,
          25.554178571428572,
          25.6915,
          25.42234782608696,
          24.196157894736842,
          27.320514285714285,
          27.02213888888889
         ],
         "yaxis": "y",
         "type": "scatter"
        }
       ],
       "layout": {
        "template": {
         "data": {
          "histogram2dcontour": [
           {
            "type": "histogram2dcontour",
            "colorbar": {
             "outlinewidth": 0,
             "ticks": ""
            },
            "colorscale": [
             [
              0.0,
              "#0d0887"
             ],
             [
              0.1111111111111111,
              "#46039f"
             ],
             [
              0.2222222222222222,
              "#7201a8"
             ],
             [
              0.3333333333333333,
              "#9c179e"
             ],
             [
              0.4444444444444444,
              "#bd3786"
             ],
             [
              0.5555555555555556,
              "#d8576b"
             ],
             [
              0.6666666666666666,
              "#ed7953"
             ],
             [
              0.7777777777777778,
              "#fb9f3a"
             ],
             [
              0.8888888888888888,
              "#fdca26"
             ],
             [
              1.0,
              "#f0f921"
             ]
            ]
           }
          ],
          "choropleth": [
           {
            "type": "choropleth",
            "colorbar": {
             "outlinewidth": 0,
             "ticks": ""
            }
           }
          ],
          "histogram2d": [
           {
            "type": "histogram2d",
            "colorbar": {
             "outlinewidth": 0,
             "ticks": ""
            },
            "colorscale": [
             [
              0.0,
              "#0d0887"
             ],
             [
              0.1111111111111111,
              "#46039f"
             ],
             [
              0.2222222222222222,
              "#7201a8"
             ],
             [
              0.3333333333333333,
              "#9c179e"
             ],
             [
              0.4444444444444444,
              "#bd3786"
             ],
             [
              0.5555555555555556,
              "#d8576b"
             ],
             [
              0.6666666666666666,
              "#ed7953"
             ],
             [
              0.7777777777777778,
              "#fb9f3a"
             ],
             [
              0.8888888888888888,
              "#fdca26"
             ],
             [
              1.0,
              "#f0f921"
             ]
            ]
           }
          ],
          "heatmap": [
           {
            "type": "heatmap",
            "colorbar": {
             "outlinewidth": 0,
             "ticks": ""
            },
            "colorscale": [
             [
              0.0,
              "#0d0887"
             ],
             [
              0.1111111111111111,
              "#46039f"
             ],
             [
              0.2222222222222222,
              "#7201a8"
             ],
             [
              0.3333333333333333,
              "#9c179e"
             ],
             [
              0.4444444444444444,
              "#bd3786"
             ],
             [
              0.5555555555555556,
              "#d8576b"
             ],
             [
              0.6666666666666666,
              "#ed7953"
             ],
             [
              0.7777777777777778,
              "#fb9f3a"
             ],
             [
              0.8888888888888888,
              "#fdca26"
             ],
             [
              1.0,
              "#f0f921"
             ]
            ]
           }
          ],
          "heatmapgl": [
           {
            "type": "heatmapgl",
            "colorbar": {
             "outlinewidth": 0,
             "ticks": ""
            },
            "colorscale": [
             [
              0.0,
              "#0d0887"
             ],
             [
              0.1111111111111111,
              "#46039f"
             ],
             [
              0.2222222222222222,
              "#7201a8"
             ],
             [
              0.3333333333333333,
              "#9c179e"
             ],
             [
              0.4444444444444444,
              "#bd3786"
             ],
             [
              0.5555555555555556,
              "#d8576b"
             ],
             [
              0.6666666666666666,
              "#ed7953"
             ],
             [
              0.7777777777777778,
              "#fb9f3a"
             ],
             [
              0.8888888888888888,
              "#fdca26"
             ],
             [
              1.0,
              "#f0f921"
             ]
            ]
           }
          ],
          "contourcarpet": [
           {
            "type": "contourcarpet",
            "colorbar": {
             "outlinewidth": 0,
             "ticks": ""
            }
           }
          ],
          "contour": [
           {
            "type": "contour",
            "colorbar": {
             "outlinewidth": 0,
             "ticks": ""
            },
            "colorscale": [
             [
              0.0,
              "#0d0887"
             ],
             [
              0.1111111111111111,
              "#46039f"
             ],
             [
              0.2222222222222222,
              "#7201a8"
             ],
             [
              0.3333333333333333,
              "#9c179e"
             ],
             [
              0.4444444444444444,
              "#bd3786"
             ],
             [
              0.5555555555555556,
              "#d8576b"
             ],
             [
              0.6666666666666666,
              "#ed7953"
             ],
             [
              0.7777777777777778,
              "#fb9f3a"
             ],
             [
              0.8888888888888888,
              "#fdca26"
             ],
             [
              1.0,
              "#f0f921"
             ]
            ]
           }
          ],
          "surface": [
           {
            "type": "surface",
            "colorbar": {
             "outlinewidth": 0,
             "ticks": ""
            },
            "colorscale": [
             [
              0.0,
              "#0d0887"
             ],
             [
              0.1111111111111111,
              "#46039f"
             ],
             [
              0.2222222222222222,
              "#7201a8"
             ],
             [
              0.3333333333333333,
              "#9c179e"
             ],
             [
              0.4444444444444444,
              "#bd3786"
             ],
             [
              0.5555555555555556,
              "#d8576b"
             ],
             [
              0.6666666666666666,
              "#ed7953"
             ],
             [
              0.7777777777777778,
              "#fb9f3a"
             ],
             [
              0.8888888888888888,
              "#fdca26"
             ],
             [
              1.0,
              "#f0f921"
             ]
            ]
           }
          ],
          "mesh3d": [
           {
            "type": "mesh3d",
            "colorbar": {
             "outlinewidth": 0,
             "ticks": ""
            }
           }
          ],
          "scatter": [
           {
            "fillpattern": {
             "fillmode": "overlay",
             "size": 10,
             "solidity": 0.2
            },
            "type": "scatter"
           }
          ],
          "parcoords": [
           {
            "type": "parcoords",
            "line": {
             "colorbar": {
              "outlinewidth": 0,
              "ticks": ""
             }
            }
           }
          ],
          "scatterpolargl": [
           {
            "type": "scatterpolargl",
            "marker": {
             "colorbar": {
              "outlinewidth": 0,
              "ticks": ""
             }
            }
           }
          ],
          "bar": [
           {
            "error_x": {
             "color": "#2a3f5f"
            },
            "error_y": {
             "color": "#2a3f5f"
            },
            "marker": {
             "line": {
              "color": "#E5ECF6",
              "width": 0.5
             },
             "pattern": {
              "fillmode": "overlay",
              "size": 10,
              "solidity": 0.2
             }
            },
            "type": "bar"
           }
          ],
          "scattergeo": [
           {
            "type": "scattergeo",
            "marker": {
             "colorbar": {
              "outlinewidth": 0,
              "ticks": ""
             }
            }
           }
          ],
          "scatterpolar": [
           {
            "type": "scatterpolar",
            "marker": {
             "colorbar": {
              "outlinewidth": 0,
              "ticks": ""
             }
            }
           }
          ],
          "histogram": [
           {
            "marker": {
             "pattern": {
              "fillmode": "overlay",
              "size": 10,
              "solidity": 0.2
             }
            },
            "type": "histogram"
           }
          ],
          "scattergl": [
           {
            "type": "scattergl",
            "marker": {
             "colorbar": {
              "outlinewidth": 0,
              "ticks": ""
             }
            }
           }
          ],
          "scatter3d": [
           {
            "type": "scatter3d",
            "line": {
             "colorbar": {
              "outlinewidth": 0,
              "ticks": ""
             }
            },
            "marker": {
             "colorbar": {
              "outlinewidth": 0,
              "ticks": ""
             }
            }
           }
          ],
          "scattermapbox": [
           {
            "type": "scattermapbox",
            "marker": {
             "colorbar": {
              "outlinewidth": 0,
              "ticks": ""
             }
            }
           }
          ],
          "scatterternary": [
           {
            "type": "scatterternary",
            "marker": {
             "colorbar": {
              "outlinewidth": 0,
              "ticks": ""
             }
            }
           }
          ],
          "scattercarpet": [
           {
            "type": "scattercarpet",
            "marker": {
             "colorbar": {
              "outlinewidth": 0,
              "ticks": ""
             }
            }
           }
          ],
          "carpet": [
           {
            "aaxis": {
             "endlinecolor": "#2a3f5f",
             "gridcolor": "white",
             "linecolor": "white",
             "minorgridcolor": "white",
             "startlinecolor": "#2a3f5f"
            },
            "baxis": {
             "endlinecolor": "#2a3f5f",
             "gridcolor": "white",
             "linecolor": "white",
             "minorgridcolor": "white",
             "startlinecolor": "#2a3f5f"
            },
            "type": "carpet"
           }
          ],
          "table": [
           {
            "cells": {
             "fill": {
              "color": "#EBF0F8"
             },
             "line": {
              "color": "white"
             }
            },
            "header": {
             "fill": {
              "color": "#C8D4E3"
             },
             "line": {
              "color": "white"
             }
            },
            "type": "table"
           }
          ],
          "barpolar": [
           {
            "marker": {
             "line": {
              "color": "#E5ECF6",
              "width": 0.5
             },
             "pattern": {
              "fillmode": "overlay",
              "size": 10,
              "solidity": 0.2
             }
            },
            "type": "barpolar"
           }
          ],
          "pie": [
           {
            "automargin": true,
            "type": "pie"
           }
          ]
         },
         "layout": {
          "autotypenumbers": "strict",
          "colorway": [
           "#636efa",
           "#EF553B",
           "#00cc96",
           "#ab63fa",
           "#FFA15A",
           "#19d3f3",
           "#FF6692",
           "#B6E880",
           "#FF97FF",
           "#FECB52"
          ],
          "font": {
           "color": "#2a3f5f"
          },
          "hovermode": "closest",
          "hoverlabel": {
           "align": "left"
          },
          "paper_bgcolor": "white",
          "plot_bgcolor": "#E5ECF6",
          "polar": {
           "bgcolor": "#E5ECF6",
           "angularaxis": {
            "gridcolor": "white",
            "linecolor": "white",
            "ticks": ""
           },
           "radialaxis": {
            "gridcolor": "white",
            "linecolor": "white",
            "ticks": ""
           }
          },
          "ternary": {
           "bgcolor": "#E5ECF6",
           "aaxis": {
            "gridcolor": "white",
            "linecolor": "white",
            "ticks": ""
           },
           "baxis": {
            "gridcolor": "white",
            "linecolor": "white",
            "ticks": ""
           },
           "caxis": {
            "gridcolor": "white",
            "linecolor": "white",
            "ticks": ""
           }
          },
          "coloraxis": {
           "colorbar": {
            "outlinewidth": 0,
            "ticks": ""
           }
          },
          "colorscale": {
           "sequential": [
            [
             0.0,
             "#0d0887"
            ],
            [
             0.1111111111111111,
             "#46039f"
            ],
            [
             0.2222222222222222,
             "#7201a8"
            ],
            [
             0.3333333333333333,
             "#9c179e"
            ],
            [
             0.4444444444444444,
             "#bd3786"
            ],
            [
             0.5555555555555556,
             "#d8576b"
            ],
            [
             0.6666666666666666,
             "#ed7953"
            ],
            [
             0.7777777777777778,
             "#fb9f3a"
            ],
            [
             0.8888888888888888,
             "#fdca26"
            ],
            [
             1.0,
             "#f0f921"
            ]
           ],
           "sequentialminus": [
            [
             0.0,
             "#0d0887"
            ],
            [
             0.1111111111111111,
             "#46039f"
            ],
            [
             0.2222222222222222,
             "#7201a8"
            ],
            [
             0.3333333333333333,
             "#9c179e"
            ],
            [
             0.4444444444444444,
             "#bd3786"
            ],
            [
             0.5555555555555556,
             "#d8576b"
            ],
            [
             0.6666666666666666,
             "#ed7953"
            ],
            [
             0.7777777777777778,
             "#fb9f3a"
            ],
            [
             0.8888888888888888,
             "#fdca26"
            ],
            [
             1.0,
             "#f0f921"
            ]
           ],
           "diverging": [
            [
             0,
             "#8e0152"
            ],
            [
             0.1,
             "#c51b7d"
            ],
            [
             0.2,
             "#de77ae"
            ],
            [
             0.3,
             "#f1b6da"
            ],
            [
             0.4,
             "#fde0ef"
            ],
            [
             0.5,
             "#f7f7f7"
            ],
            [
             0.6,
             "#e6f5d0"
            ],
            [
             0.7,
             "#b8e186"
            ],
            [
             0.8,
             "#7fbc41"
            ],
            [
             0.9,
             "#4d9221"
            ],
            [
             1,
             "#276419"
            ]
           ]
          },
          "xaxis": {
           "gridcolor": "white",
           "linecolor": "white",
           "ticks": "",
           "title": {
            "standoff": 15
           },
           "zerolinecolor": "white",
           "automargin": true,
           "zerolinewidth": 2
          },
          "yaxis": {
           "gridcolor": "white",
           "linecolor": "white",
           "ticks": "",
           "title": {
            "standoff": 15
           },
           "zerolinecolor": "white",
           "automargin": true,
           "zerolinewidth": 2
          },
          "scene": {
           "xaxis": {
            "backgroundcolor": "#E5ECF6",
            "gridcolor": "white",
            "linecolor": "white",
            "showbackground": true,
            "ticks": "",
            "zerolinecolor": "white",
            "gridwidth": 2
           },
           "yaxis": {
            "backgroundcolor": "#E5ECF6",
            "gridcolor": "white",
            "linecolor": "white",
            "showbackground": true,
            "ticks": "",
            "zerolinecolor": "white",
            "gridwidth": 2
           },
           "zaxis": {
            "backgroundcolor": "#E5ECF6",
            "gridcolor": "white",
            "linecolor": "white",
            "showbackground": true,
            "ticks": "",
            "zerolinecolor": "white",
            "gridwidth": 2
           }
          },
          "shapedefaults": {
           "line": {
            "color": "#2a3f5f"
           }
          },
          "annotationdefaults": {
           "arrowcolor": "#2a3f5f",
           "arrowhead": 0,
           "arrowwidth": 1
          },
          "geo": {
           "bgcolor": "white",
           "landcolor": "#E5ECF6",
           "subunitcolor": "white",
           "showland": true,
           "showlakes": true,
           "lakecolor": "white"
          },
          "title": {
           "x": 0.05
          },
          "mapbox": {
           "style": "light"
          }
         }
        },
        "xaxis": {
         "anchor": "y",
         "domain": [
          0.0,
          1.0
         ],
         "title": {
          "text": "Date"
         }
        },
        "yaxis": {
         "anchor": "x",
         "domain": [
          0.0,
          1.0
         ],
         "title": {
          "text": "Average Pit Stop Duration (seconds)"
         }
        },
        "legend": {
         "title": {
          "text": "circuitName"
         },
         "tracegroupgap": 0
        },
        "title": {
         "text": "Average Pit Stop Duration Over Time for Specified Circuits"
        },
        "font": {
         "family": "Arial",
         "size": 18,
         "color": "RebeccaPurple"
        }
       },
       "config": {
        "plotlyServerURL": "https://plot.ly"
       }
      },
      "text/html": "<div>                            <div id=\"eeed1de4-1b87-4e3b-85de-200afe2dc338\" class=\"plotly-graph-div\" style=\"height:525px; width:100%;\"></div>            <script type=\"text/javascript\">                require([\"plotly\"], function(Plotly) {                    window.PLOTLYENV=window.PLOTLYENV || {};                                    if (document.getElementById(\"eeed1de4-1b87-4e3b-85de-200afe2dc338\")) {                    Plotly.newPlot(                        \"eeed1de4-1b87-4e3b-85de-200afe2dc338\",                        [{\"hovertemplate\":\"circuitName=Albert Park Grand Prix Circuit\\u003cbr\\u003eDate=%{x}\\u003cbr\\u003eAverage Pit Stop Duration (seconds)=%{y}\\u003cextra\\u003e\\u003c\\u002fextra\\u003e\",\"legendgroup\":\"Albert Park Grand Prix Circuit\",\"line\":{\"color\":\"#636efa\",\"dash\":\"solid\"},\"marker\":{\"symbol\":\"circle\"},\"mode\":\"lines\",\"name\":\"Albert Park Grand Prix Circuit\",\"orientation\":\"v\",\"showlegend\":true,\"x\":[\"2011-03-27\",\"2012-03-18\",\"2013-03-17\",\"2014-03-16\",\"2015-03-15\",\"2016-03-20\",\"2017-03-26\",\"2018-03-25\",\"2019-03-17\",\"2022-04-10\",\"2023-04-02\"],\"xaxis\":\"x\",\"y\":[24.34282222222222,24.706926829268294,23.11990566037736,23.85644117647059,23.0890625,22.846037037037036,24.0808,22.31675,23.607727272727274,18.541681818181818,19.1521875],\"yaxis\":\"y\",\"type\":\"scatter\"},{\"hovertemplate\":\"circuitName=Circuit de Barcelona-Catalunya\\u003cbr\\u003eDate=%{x}\\u003cbr\\u003eAverage Pit Stop Duration (seconds)=%{y}\\u003cextra\\u003e\\u003c\\u002fextra\\u003e\",\"legendgroup\":\"Circuit de Barcelona-Catalunya\",\"line\":{\"color\":\"#EF553B\",\"dash\":\"solid\"},\"marker\":{\"symbol\":\"circle\"},\"mode\":\"lines\",\"name\":\"Circuit de Barcelona-Catalunya\",\"orientation\":\"v\",\"showlegend\":true,\"x\":[\"2011-05-22\",\"2012-05-13\",\"2013-05-12\",\"2014-05-11\",\"2015-05-10\",\"2016-05-15\",\"2017-05-14\",\"2018-05-13\",\"2019-05-12\",\"2020-08-16\",\"2021-05-09\",\"2022-05-22\",\"2023-06-04\"],\"xaxis\":\"x\",\"y\":[21.5675974025974,20.973507462686566,20.528910256410256,22.922229166666668,23.39504347826087,23.047361702127656,23.219594594594593,23.834904761904763,23.137216216216217,22.33522857142857,22.678833333333333,22.98122641509434,23.12846511627907],\"yaxis\":\"y\",\"type\":\"scatter\"},{\"hovertemplate\":\"circuitName=Circuit de Monaco\\u003cbr\\u003eDate=%{x}\\u003cbr\\u003eAverage Pit Stop Duration (seconds)=%{y}\\u003cextra\\u003e\\u003c\\u002fextra\\u003e\",\"legendgroup\":\"Circuit de Monaco\",\"line\":{\"color\":\"#00cc96\",\"dash\":\"solid\"},\"marker\":{\"symbol\":\"circle\"},\"mode\":\"lines\",\"name\":\"Circuit de Monaco\",\"orientation\":\"v\",\"showlegend\":true,\"x\":[\"2011-05-29\",\"2012-05-27\",\"2013-05-26\",\"2014-05-25\",\"2015-05-24\",\"2016-05-29\",\"2017-05-28\",\"2018-05-27\",\"2019-05-26\",\"2021-05-23\",\"2022-05-29\",\"2023-05-28\"],\"xaxis\":\"x\",\"y\":[27.5483488372093,26.856461538461538,26.42823333333333,27.205807692307694,26.2947,27.545613636363637,25.554178571428572,25.6915,25.42234782608696,24.196157894736842,27.320514285714285,27.02213888888889],\"yaxis\":\"y\",\"type\":\"scatter\"}],                        {\"template\":{\"data\":{\"histogram2dcontour\":[{\"type\":\"histogram2dcontour\",\"colorbar\":{\"outlinewidth\":0,\"ticks\":\"\"},\"colorscale\":[[0.0,\"#0d0887\"],[0.1111111111111111,\"#46039f\"],[0.2222222222222222,\"#7201a8\"],[0.3333333333333333,\"#9c179e\"],[0.4444444444444444,\"#bd3786\"],[0.5555555555555556,\"#d8576b\"],[0.6666666666666666,\"#ed7953\"],[0.7777777777777778,\"#fb9f3a\"],[0.8888888888888888,\"#fdca26\"],[1.0,\"#f0f921\"]]}],\"choropleth\":[{\"type\":\"choropleth\",\"colorbar\":{\"outlinewidth\":0,\"ticks\":\"\"}}],\"histogram2d\":[{\"type\":\"histogram2d\",\"colorbar\":{\"outlinewidth\":0,\"ticks\":\"\"},\"colorscale\":[[0.0,\"#0d0887\"],[0.1111111111111111,\"#46039f\"],[0.2222222222222222,\"#7201a8\"],[0.3333333333333333,\"#9c179e\"],[0.4444444444444444,\"#bd3786\"],[0.5555555555555556,\"#d8576b\"],[0.6666666666666666,\"#ed7953\"],[0.7777777777777778,\"#fb9f3a\"],[0.8888888888888888,\"#fdca26\"],[1.0,\"#f0f921\"]]}],\"heatmap\":[{\"type\":\"heatmap\",\"colorbar\":{\"outlinewidth\":0,\"ticks\":\"\"},\"colorscale\":[[0.0,\"#0d0887\"],[0.1111111111111111,\"#46039f\"],[0.2222222222222222,\"#7201a8\"],[0.3333333333333333,\"#9c179e\"],[0.4444444444444444,\"#bd3786\"],[0.5555555555555556,\"#d8576b\"],[0.6666666666666666,\"#ed7953\"],[0.7777777777777778,\"#fb9f3a\"],[0.8888888888888888,\"#fdca26\"],[1.0,\"#f0f921\"]]}],\"heatmapgl\":[{\"type\":\"heatmapgl\",\"colorbar\":{\"outlinewidth\":0,\"ticks\":\"\"},\"colorscale\":[[0.0,\"#0d0887\"],[0.1111111111111111,\"#46039f\"],[0.2222222222222222,\"#7201a8\"],[0.3333333333333333,\"#9c179e\"],[0.4444444444444444,\"#bd3786\"],[0.5555555555555556,\"#d8576b\"],[0.6666666666666666,\"#ed7953\"],[0.7777777777777778,\"#fb9f3a\"],[0.8888888888888888,\"#fdca26\"],[1.0,\"#f0f921\"]]}],\"contourcarpet\":[{\"type\":\"contourcarpet\",\"colorbar\":{\"outlinewidth\":0,\"ticks\":\"\"}}],\"contour\":[{\"type\":\"contour\",\"colorbar\":{\"outlinewidth\":0,\"ticks\":\"\"},\"colorscale\":[[0.0,\"#0d0887\"],[0.1111111111111111,\"#46039f\"],[0.2222222222222222,\"#7201a8\"],[0.3333333333333333,\"#9c179e\"],[0.4444444444444444,\"#bd3786\"],[0.5555555555555556,\"#d8576b\"],[0.6666666666666666,\"#ed7953\"],[0.7777777777777778,\"#fb9f3a\"],[0.8888888888888888,\"#fdca26\"],[1.0,\"#f0f921\"]]}],\"surface\":[{\"type\":\"surface\",\"colorbar\":{\"outlinewidth\":0,\"ticks\":\"\"},\"colorscale\":[[0.0,\"#0d0887\"],[0.1111111111111111,\"#46039f\"],[0.2222222222222222,\"#7201a8\"],[0.3333333333333333,\"#9c179e\"],[0.4444444444444444,\"#bd3786\"],[0.5555555555555556,\"#d8576b\"],[0.6666666666666666,\"#ed7953\"],[0.7777777777777778,\"#fb9f3a\"],[0.8888888888888888,\"#fdca26\"],[1.0,\"#f0f921\"]]}],\"mesh3d\":[{\"type\":\"mesh3d\",\"colorbar\":{\"outlinewidth\":0,\"ticks\":\"\"}}],\"scatter\":[{\"fillpattern\":{\"fillmode\":\"overlay\",\"size\":10,\"solidity\":0.2},\"type\":\"scatter\"}],\"parcoords\":[{\"type\":\"parcoords\",\"line\":{\"colorbar\":{\"outlinewidth\":0,\"ticks\":\"\"}}}],\"scatterpolargl\":[{\"type\":\"scatterpolargl\",\"marker\":{\"colorbar\":{\"outlinewidth\":0,\"ticks\":\"\"}}}],\"bar\":[{\"error_x\":{\"color\":\"#2a3f5f\"},\"error_y\":{\"color\":\"#2a3f5f\"},\"marker\":{\"line\":{\"color\":\"#E5ECF6\",\"width\":0.5},\"pattern\":{\"fillmode\":\"overlay\",\"size\":10,\"solidity\":0.2}},\"type\":\"bar\"}],\"scattergeo\":[{\"type\":\"scattergeo\",\"marker\":{\"colorbar\":{\"outlinewidth\":0,\"ticks\":\"\"}}}],\"scatterpolar\":[{\"type\":\"scatterpolar\",\"marker\":{\"colorbar\":{\"outlinewidth\":0,\"ticks\":\"\"}}}],\"histogram\":[{\"marker\":{\"pattern\":{\"fillmode\":\"overlay\",\"size\":10,\"solidity\":0.2}},\"type\":\"histogram\"}],\"scattergl\":[{\"type\":\"scattergl\",\"marker\":{\"colorbar\":{\"outlinewidth\":0,\"ticks\":\"\"}}}],\"scatter3d\":[{\"type\":\"scatter3d\",\"line\":{\"colorbar\":{\"outlinewidth\":0,\"ticks\":\"\"}},\"marker\":{\"colorbar\":{\"outlinewidth\":0,\"ticks\":\"\"}}}],\"scattermapbox\":[{\"type\":\"scattermapbox\",\"marker\":{\"colorbar\":{\"outlinewidth\":0,\"ticks\":\"\"}}}],\"scatterternary\":[{\"type\":\"scatterternary\",\"marker\":{\"colorbar\":{\"outlinewidth\":0,\"ticks\":\"\"}}}],\"scattercarpet\":[{\"type\":\"scattercarpet\",\"marker\":{\"colorbar\":{\"outlinewidth\":0,\"ticks\":\"\"}}}],\"carpet\":[{\"aaxis\":{\"endlinecolor\":\"#2a3f5f\",\"gridcolor\":\"white\",\"linecolor\":\"white\",\"minorgridcolor\":\"white\",\"startlinecolor\":\"#2a3f5f\"},\"baxis\":{\"endlinecolor\":\"#2a3f5f\",\"gridcolor\":\"white\",\"linecolor\":\"white\",\"minorgridcolor\":\"white\",\"startlinecolor\":\"#2a3f5f\"},\"type\":\"carpet\"}],\"table\":[{\"cells\":{\"fill\":{\"color\":\"#EBF0F8\"},\"line\":{\"color\":\"white\"}},\"header\":{\"fill\":{\"color\":\"#C8D4E3\"},\"line\":{\"color\":\"white\"}},\"type\":\"table\"}],\"barpolar\":[{\"marker\":{\"line\":{\"color\":\"#E5ECF6\",\"width\":0.5},\"pattern\":{\"fillmode\":\"overlay\",\"size\":10,\"solidity\":0.2}},\"type\":\"barpolar\"}],\"pie\":[{\"automargin\":true,\"type\":\"pie\"}]},\"layout\":{\"autotypenumbers\":\"strict\",\"colorway\":[\"#636efa\",\"#EF553B\",\"#00cc96\",\"#ab63fa\",\"#FFA15A\",\"#19d3f3\",\"#FF6692\",\"#B6E880\",\"#FF97FF\",\"#FECB52\"],\"font\":{\"color\":\"#2a3f5f\"},\"hovermode\":\"closest\",\"hoverlabel\":{\"align\":\"left\"},\"paper_bgcolor\":\"white\",\"plot_bgcolor\":\"#E5ECF6\",\"polar\":{\"bgcolor\":\"#E5ECF6\",\"angularaxis\":{\"gridcolor\":\"white\",\"linecolor\":\"white\",\"ticks\":\"\"},\"radialaxis\":{\"gridcolor\":\"white\",\"linecolor\":\"white\",\"ticks\":\"\"}},\"ternary\":{\"bgcolor\":\"#E5ECF6\",\"aaxis\":{\"gridcolor\":\"white\",\"linecolor\":\"white\",\"ticks\":\"\"},\"baxis\":{\"gridcolor\":\"white\",\"linecolor\":\"white\",\"ticks\":\"\"},\"caxis\":{\"gridcolor\":\"white\",\"linecolor\":\"white\",\"ticks\":\"\"}},\"coloraxis\":{\"colorbar\":{\"outlinewidth\":0,\"ticks\":\"\"}},\"colorscale\":{\"sequential\":[[0.0,\"#0d0887\"],[0.1111111111111111,\"#46039f\"],[0.2222222222222222,\"#7201a8\"],[0.3333333333333333,\"#9c179e\"],[0.4444444444444444,\"#bd3786\"],[0.5555555555555556,\"#d8576b\"],[0.6666666666666666,\"#ed7953\"],[0.7777777777777778,\"#fb9f3a\"],[0.8888888888888888,\"#fdca26\"],[1.0,\"#f0f921\"]],\"sequentialminus\":[[0.0,\"#0d0887\"],[0.1111111111111111,\"#46039f\"],[0.2222222222222222,\"#7201a8\"],[0.3333333333333333,\"#9c179e\"],[0.4444444444444444,\"#bd3786\"],[0.5555555555555556,\"#d8576b\"],[0.6666666666666666,\"#ed7953\"],[0.7777777777777778,\"#fb9f3a\"],[0.8888888888888888,\"#fdca26\"],[1.0,\"#f0f921\"]],\"diverging\":[[0,\"#8e0152\"],[0.1,\"#c51b7d\"],[0.2,\"#de77ae\"],[0.3,\"#f1b6da\"],[0.4,\"#fde0ef\"],[0.5,\"#f7f7f7\"],[0.6,\"#e6f5d0\"],[0.7,\"#b8e186\"],[0.8,\"#7fbc41\"],[0.9,\"#4d9221\"],[1,\"#276419\"]]},\"xaxis\":{\"gridcolor\":\"white\",\"linecolor\":\"white\",\"ticks\":\"\",\"title\":{\"standoff\":15},\"zerolinecolor\":\"white\",\"automargin\":true,\"zerolinewidth\":2},\"yaxis\":{\"gridcolor\":\"white\",\"linecolor\":\"white\",\"ticks\":\"\",\"title\":{\"standoff\":15},\"zerolinecolor\":\"white\",\"automargin\":true,\"zerolinewidth\":2},\"scene\":{\"xaxis\":{\"backgroundcolor\":\"#E5ECF6\",\"gridcolor\":\"white\",\"linecolor\":\"white\",\"showbackground\":true,\"ticks\":\"\",\"zerolinecolor\":\"white\",\"gridwidth\":2},\"yaxis\":{\"backgroundcolor\":\"#E5ECF6\",\"gridcolor\":\"white\",\"linecolor\":\"white\",\"showbackground\":true,\"ticks\":\"\",\"zerolinecolor\":\"white\",\"gridwidth\":2},\"zaxis\":{\"backgroundcolor\":\"#E5ECF6\",\"gridcolor\":\"white\",\"linecolor\":\"white\",\"showbackground\":true,\"ticks\":\"\",\"zerolinecolor\":\"white\",\"gridwidth\":2}},\"shapedefaults\":{\"line\":{\"color\":\"#2a3f5f\"}},\"annotationdefaults\":{\"arrowcolor\":\"#2a3f5f\",\"arrowhead\":0,\"arrowwidth\":1},\"geo\":{\"bgcolor\":\"white\",\"landcolor\":\"#E5ECF6\",\"subunitcolor\":\"white\",\"showland\":true,\"showlakes\":true,\"lakecolor\":\"white\"},\"title\":{\"x\":0.05},\"mapbox\":{\"style\":\"light\"}}},\"xaxis\":{\"anchor\":\"y\",\"domain\":[0.0,1.0],\"title\":{\"text\":\"Date\"}},\"yaxis\":{\"anchor\":\"x\",\"domain\":[0.0,1.0],\"title\":{\"text\":\"Average Pit Stop Duration (seconds)\"}},\"legend\":{\"title\":{\"text\":\"circuitName\"},\"tracegroupgap\":0},\"title\":{\"text\":\"Average Pit Stop Duration Over Time for Specified Circuits\"},\"font\":{\"family\":\"Arial\",\"size\":18,\"color\":\"RebeccaPurple\"}},                        {\"responsive\": true}                    ).then(function(){\n                            \nvar gd = document.getElementById('eeed1de4-1b87-4e3b-85de-200afe2dc338');\nvar x = new MutationObserver(function (mutations, observer) {{\n        var display = window.getComputedStyle(gd).display;\n        if (!display || display === 'none') {{\n            console.log([gd, 'removed!']);\n            Plotly.purge(gd);\n            observer.disconnect();\n        }}\n}});\n\n// Listen for the removal of the full notebook cells\nvar notebookContainer = gd.closest('#notebook-container');\nif (notebookContainer) {{\n    x.observe(notebookContainer, {childList: true});\n}}\n\n// Listen for the clearing of the current output cell\nvar outputEl = gd.closest('.output');\nif (outputEl) {{\n    x.observe(outputEl, {childList: true});\n}}\n\n                        })                };                });            </script>        </div>"
     },
     "metadata": {},
     "output_type": "display_data"
    }
   ],
   "source": [
    "import plotly.express as px\n",
    "\n",
    "# Step 1: Filter the DataFrame to include only rows with the specified circuit IDs\n",
    "specified_circuit_ids = [1, 4, 6]\n",
    "filtered_newPitStops = newPitStops[newPitStops['circuitId'].isin(specified_circuit_ids)]\n",
    "\n",
    "# Step 2: Filter the DataFrame to include only rows with valid pit stop durations\n",
    "valid_duration_df = filtered_newPitStops[filtered_newPitStops['seconds'] < 50]\n",
    "print(valid_duration_df)\n",
    "\n",
    "# Step 3: Group the filtered DataFrame by race date and circuit ID and calculate the average pit stop duration for each race\n",
    "average_pit_stop_time_per_circuit = valid_duration_df.groupby(['date', 'circuitName'])['seconds'].mean().reset_index()\n",
    "\n",
    "circuit_names = [\"Albert Park Grand Prix Circuit\" , \"Circuit de Barcelona-Catalunya\" , \"Circuit de Monaco\"]\n",
    "\n",
    "\n",
    "# Step 4: Create the line plot\n",
    "fig = px.line(average_pit_stop_time_per_circuit, x='date', y='seconds', color='circuitName', \n",
    "              title='Average Pit Stop Duration Over Time for Specified Circuits',\n",
    "              labels={'date': 'Date', 'seconds': 'Average Pit Stop Duration (seconds)', 'Circuit Name': 'circuitName'})\n",
    "\n",
    "# Increase font size\n",
    "fig.update_layout(\n",
    "    font=dict(\n",
    "        family=\"Arial\",\n",
    "        size=18,\n",
    "        color=\"RebeccaPurple\"\n",
    "    )\n",
    ")\n",
    "\n",
    "fig.show()\n"
   ]
  },
  {
   "cell_type": "raw",
   "id": "328bdfbd",
   "metadata": {},
   "source": [
    "The graph shows how average pit stop durations change over time for specific Formula 1 circuits (1,4,6).\n",
    "There are some correlated changes among all the circuits like around 2014 and around 2021 there are significant changes for all the circuits, it is a strong indicator that new regulations were applied at those times. "
   ]
  },
  {
   "cell_type": "code",
   "execution_count": 60,
   "id": "61135493",
   "metadata": {
    "ExecuteTime": {
     "end_time": "2024-05-23T17:24:35.509980Z",
     "start_time": "2024-05-23T17:24:35.363980500Z"
    }
   },
   "outputs": [
    {
     "data": {
      "application/vnd.plotly.v1+json": {
       "data": [
        {
         "alignmentgroup": "True",
         "hovertemplate": "Circuit ID=1<br>Pit Stop Duration (seconds)=%{y}<extra></extra>",
         "legendgroup": "",
         "marker": {
          "color": "#636efa"
         },
         "name": "",
         "notched": false,
         "offsetgroup": "",
         "orientation": "v",
         "showlegend": false,
         "x0": " ",
         "xaxis": "x",
         "y": [
          26.898,
          24.463,
          26.348,
          25.021,
          23.988,
          23.426,
          22.52,
          26.23,
          23.251,
          24.733,
          24.181,
          23.842,
          24.5,
          24.095,
          23.643,
          37.856,
          16.892,
          26.309,
          22.603,
          24.036,
          24.863,
          24.332,
          25.259,
          26.446,
          25.342,
          23.1,
          22.994,
          25.098,
          23.227,
          23.199,
          24.535,
          25.683,
          23.716,
          24.064,
          24.192,
          25.978,
          23.871,
          24.899,
          24.848,
          16.867,
          23.303,
          22.681,
          24.865,
          23.792,
          23.438,
          24.599,
          23.777,
          30.888,
          32.319,
          23.257,
          24.348,
          22.313,
          22.528,
          22.103,
          23.203,
          23.017,
          22.035,
          21.91,
          25.346,
          24.162,
          24.933,
          24.579,
          23.302,
          22.915,
          24.397,
          24.58,
          28.888,
          23.275,
          22.837,
          24.256,
          24.131,
          23.427,
          23.166,
          22.862,
          23.464,
          24.579,
          24.881,
          23.31,
          23.203,
          23.569,
          26.322,
          25.046,
          25.303,
          48.984,
          17.088,
          23.882,
          22.282,
          23.571,
          21.538,
          24.24,
          21.717,
          21.515,
          22.239,
          22.133,
          22.534,
          22.316,
          22.315,
          23.528,
          23.215,
          24.06,
          36.564,
          30.838,
          22.948,
          21.807,
          22.704,
          21.596,
          24.104,
          23.834,
          23.917,
          21.754,
          21.511,
          21.509,
          23.01,
          23.051,
          23.394,
          23.509,
          21.792,
          21.606,
          21.704,
          22.709,
          22.181,
          23.074,
          24.688,
          23.16,
          23.371,
          23.387,
          22.669,
          23.099,
          22.155,
          22.015,
          21.778,
          22.274,
          23.435,
          24.177,
          23.677,
          22.004,
          21.705,
          22.693,
          22.749,
          17.255,
          22.264,
          32.657,
          23.797,
          25.541,
          22.497,
          22.526,
          22.411,
          22.399,
          24.331,
          23.673,
          22.994,
          22.427,
          23.15,
          22.273,
          22.615,
          22.933,
          22.887,
          21.978,
          25.543,
          21.825,
          23.124,
          22.978,
          30.514,
          23.92,
          23.238,
          24.209,
          23.493,
          23.821,
          22.656,
          22.847,
          34.921,
          23.117,
          24.305,
          22.681,
          23.254,
          22.353,
          27.465,
          22.405,
          22.062,
          22.137,
          21.612,
          22.535,
          22.694,
          22.295,
          22.933,
          22.105,
          23.353,
          23.532,
          26.009,
          27.831,
          22.079,
          22.414,
          22.392,
          22.701,
          21.55,
          26.206,
          23.895,
          22.357,
          16.936,
          21.531,
          22.245,
          21.981,
          21.796,
          23.286,
          23.224,
          21.339,
          24.548,
          22.303,
          29.066,
          22.616,
          21.837,
          22.508,
          21.94,
          22.167,
          24.719,
          21.376,
          31.336,
          22.189,
          22.293,
          22.38,
          39.562,
          22.154,
          28.591,
          22.484,
          23.13,
          23.159,
          21.709,
          22.045,
          21.762,
          21.568,
          21.988,
          21.44,
          22.208,
          22.033,
          25.559,
          24.026,
          22.213,
          22.296,
          21.421,
          21.821,
          22.242,
          22.836,
          20.953,
          21.983,
          23.868,
          21.854,
          23.054,
          22.628,
          22.327,
          22.474,
          21.664,
          25.504,
          21.397,
          21.787,
          21.44,
          22.573,
          32.997,
          22.343,
          21.889,
          33.027,
          23.299,
          21.588,
          23.234,
          21.995,
          22.388,
          21.78,
          21.515,
          29.981,
          21.627,
          22.014,
          21.157,
          22.086,
          21.689,
          21.543,
          22.471,
          27.172,
          22.306,
          21.269,
          18.242,
          18.56,
          20.402,
          18.552,
          17.936,
          19.039,
          19.128,
          18.281,
          18.443,
          17.434,
          17.556,
          18.15,
          18.926,
          18.38,
          17.973,
          17.877,
          18.413,
          18.479,
          18.796,
          18.394,
          19.111,
          19.845,
          18.056,
          18.951,
          21.881,
          18.382,
          19.158,
          19.018,
          17.657,
          17.814,
          21.659,
          19.825,
          19.146,
          18.319,
          20.789,
          18.258,
          19.442,
          18.08
         ],
         "y0": " ",
         "yaxis": "y",
         "type": "box"
        },
        {
         "alignmentgroup": "True",
         "hovertemplate": "Circuit ID=4<br>Pit Stop Duration (seconds)=%{y}<extra></extra>",
         "legendgroup": "",
         "marker": {
          "color": "#636efa"
         },
         "name": "",
         "notched": false,
         "offsetgroup": "",
         "orientation": "v",
         "showlegend": false,
         "x0": " ",
         "xaxis": "x2",
         "y": [
          24.871,
          21.128,
          20.5,
          23.592,
          21.143,
          21.829,
          22.689,
          24.821,
          21.574,
          22.077,
          20.253,
          19.887,
          20.426,
          20.292,
          20.818,
          24.745,
          20.819,
          20.567,
          20.238,
          20.738,
          20.38,
          20.881,
          20.079,
          20.279,
          19.984,
          20.084,
          20.487,
          20.451,
          19.761,
          20.235,
          20.473,
          20.988,
          21.856,
          24.232,
          21.739,
          20.647,
          19.534,
          20.395,
          20.8,
          21.635,
          22.419,
          20.741,
          20.872,
          21.019,
          23.143,
          29.936,
          21.226,
          20.65,
          20.637,
          20.773,
          20.267,
          23.23,
          20.015,
          20.763,
          20.107,
          24.843,
          24.448,
          24.298,
          20.07,
          20.126,
          20.573,
          22.364,
          21.723,
          23.001,
          21.019,
          20.807,
          23.068,
          23.157,
          22.744,
          21.632,
          21.17,
          23.176,
          22.982,
          21.708,
          21.322,
          21.953,
          20.796,
          21.864,
          21.055,
          28.531,
          20.119,
          24.864,
          20.129,
          19.745,
          19.624,
          13.335,
          26.143,
          22.26,
          20.381,
          21.311,
          20.502,
          20.059,
          20.197,
          20.333,
          21.061,
          19.888,
          19.987,
          21.68,
          19.867,
          19.456,
          20.028,
          20.105,
          20.223,
          21.215,
          21.035,
          20.113,
          20.388,
          22.645,
          20.46,
          20.13,
          13.259,
          19.699,
          22.645,
          20.521,
          20.558,
          20.515,
          24.856,
          23.072,
          21.817,
          22.275,
          22.135,
          21.543,
          21.471,
          20.62,
          20.218,
          22.829,
          19.777,
          21.301,
          20.073,
          21.101,
          20.114,
          20.059,
          21.518,
          22.515,
          21.29,
          22.566,
          21.275,
          21.963,
          19.98,
          21.082,
          20.902,
          20.669,
          20.936,
          21.338,
          29.994,
          20.656,
          19.904,
          19.83,
          19.668,
          19.151,
          19.17,
          18.931,
          19.49,
          19.373,
          19.326,
          19.001,
          19.993,
          19.402,
          22.324,
          24.001,
          28.971,
          20.314,
          20.205,
          13.266,
          23.139,
          20.8,
          19.723,
          20.734,
          20.87,
          21.202,
          18.909,
          19.952,
          19.519,
          18.471,
          22.018,
          20.132,
          19.7,
          19.457,
          20.615,
          19.792,
          19.822,
          19.481,
          19.772,
          20.671,
          25.362,
          29.74,
          21.686,
          22.029,
          21.171,
          20.533,
          19.908,
          19.414,
          20.032,
          19.352,
          18.606,
          18.708,
          19.551,
          18.694,
          19.978,
          19.743,
          20.184,
          19.25,
          20.578,
          19.866,
          19.993,
          19.795,
          20.1,
          19.498,
          19.857,
          18.81,
          19.196,
          19.29,
          22.144,
          19.988,
          20.082,
          19.324,
          25.294,
          21.582,
          21.34,
          20.306,
          19.591,
          22.931,
          21.974,
          21.599,
          21.608,
          21.969,
          21.83,
          22.126,
          22.078,
          22.89,
          22.381,
          22.304,
          27.851,
          22.024,
          21.97,
          22.014,
          21.664,
          22.976,
          22.056,
          22.727,
          22.355,
          22.724,
          21.81,
          24.408,
          28.013,
          23.378,
          24.337,
          23.232,
          23.586,
          22.951,
          23.59,
          22.367,
          22.282,
          22.703,
          22.841,
          22.984,
          23.063,
          24.78,
          23.025,
          23.091,
          26.671,
          21.894,
          21.768,
          22.824,
          22.701,
          22.254,
          22.309,
          22.928,
          22.568,
          22.789,
          22.659,
          22.534,
          22.545,
          22.667,
          22.273,
          22.589,
          23.327,
          24.066,
          22.677,
          23.186,
          24.586,
          22.727,
          21.965,
          22.44,
          24.884,
          24.396,
          22.607,
          21.762,
          21.836,
          22.139,
          22.629,
          22.257,
          24.976,
          32.459,
          22.575,
          22.859,
          22.178,
          21.87,
          22.452,
          22.082,
          21.8,
          23.309,
          33.256,
          24.687,
          23.043,
          22.796,
          22.623,
          21.789,
          24.631,
          23.07,
          24.2,
          25.272,
          22.872,
          22.468,
          22.426,
          23.728,
          21.384,
          22.568,
          21.831,
          22.679,
          21.918,
          23.277,
          22.234,
          22.769,
          22.84,
          23.122,
          22.897,
          22.874,
          22.937,
          22.28,
          22.59,
          22.176,
          22.843,
          23.165,
          22.122,
          21.738,
          22.104,
          21.683,
          23.133,
          21.795,
          22.987,
          23.283,
          22.397,
          24.554,
          24.387,
          22.369,
          22.348,
          22.107,
          22.169,
          21.856,
          22.443,
          22.976,
          23.09,
          21.643,
          22.617,
          21.603,
          23.187,
          22.844,
          34.832,
          23.206,
          22.43,
          28.753,
          26.186,
          22.235,
          22.117,
          40.612,
          22.292,
          23.066,
          23.159,
          22.762,
          24.75,
          22.69,
          23.354,
          22.923,
          22.1,
          22.071,
          22.547,
          22.703,
          23.814,
          25.052,
          22.432,
          21.934,
          22.499,
          22.307,
          22.49,
          22.362,
          22.616,
          22.643,
          25.082,
          23.107,
          22.995,
          22.775,
          22.866,
          22.641,
          21.544,
          21.722,
          21.811,
          21.918,
          21.689,
          23.445,
          22.631,
          22.472,
          22.049,
          22.034,
          23.865,
          22.054,
          24.273,
          23.213,
          21.995,
          21.351,
          21.721,
          22.085,
          22.409,
          22.438,
          22.242,
          47.91,
          22.917,
          21.618,
          21.74,
          27.416,
          22.1,
          22.381,
          23.507,
          23.746,
          21.643,
          22.417,
          22.54,
          22.049,
          33.821,
          22.563,
          22.095,
          23.321,
          22.025,
          22.992,
          22.379,
          22.702,
          21.468,
          21.545,
          22.781,
          22.896,
          23.646,
          21.638,
          23.591,
          37.345,
          22.034,
          22.018,
          22.379,
          22.732,
          21.579,
          22.265,
          22.511,
          22.342,
          22.549,
          21.954,
          22.142,
          22.442,
          21.846,
          22.193,
          21.663,
          21.804,
          22.708,
          21.889,
          22.314,
          22.197,
          21.532,
          21.601,
          22.241,
          22.394,
          22.099,
          21.761,
          23.036,
          22.079,
          22.243,
          21.794,
          22.078,
          22.166,
          23.377,
          21.853,
          22.31,
          22.143,
          22.607,
          22.351,
          22.388,
          24.148,
          22.322,
          22.475,
          22.641,
          22.274,
          21.82,
          23.212,
          24.01,
          22.366,
          21.837,
          22.871,
          23.814,
          21.919,
          26.672,
          21.424,
          22.405,
          28.042,
          26.065,
          22.043,
          23.479,
          23.087,
          21.973,
          21.779,
          21.856,
          21.756,
          21.432,
          23.098,
          22.502,
          22.311,
          21.638,
          22.798,
          21.864,
          22.467,
          24.006,
          22.31,
          23.565,
          21.592,
          22.406,
          21.762,
          22.382,
          21.345,
          22.22,
          22.078,
          21.613,
          22.292,
          21.572,
          31.054,
          22.105,
          22.241,
          29.632,
          23.878,
          22.341,
          21.867,
          22.302,
          22.375,
          21.914,
          25.407,
          22.008,
          27.947,
          21.838,
          23.109,
          23.083,
          22.802,
          22.316,
          22.124,
          22.399,
          22.154,
          23.419,
          22.657,
          23.328,
          23.404,
          21.916,
          23.341,
          22.165,
          23.582,
          23.127,
          23.189,
          22.311,
          22.761,
          22.154,
          22.039,
          22.815,
          22.173,
          21.966,
          21.941,
          22.137,
          22.953,
          22.033,
          22.987,
          22.541,
          22.833,
          23.394,
          23.812,
          22.032,
          21.619,
          21.694,
          21.794,
          22.536,
          22.456,
          37.736,
          22.85,
          22.062,
          23.691,
          24.097,
          22.298,
          23.257,
          24.484,
          23.43,
          22.889,
          22.522,
          21.976,
          22.176,
          22.009,
          22.124,
          24.8,
          22.291,
          22.112,
          24.11,
          22.355,
          23.371,
          22.321,
          22.375,
          21.778,
          23.003,
          23.319,
          23.449,
          22.37,
          22.862,
          22.583,
          23.827,
          22.558,
          22.896,
          23.388,
          23.61,
          22.575,
          22.731,
          22.275,
          22.054,
          22.241,
          22.357,
          21.775,
          21.537
         ],
         "y0": " ",
         "yaxis": "y2",
         "type": "box"
        },
        {
         "alignmentgroup": "True",
         "hovertemplate": "Circuit ID=6<br>Pit Stop Duration (seconds)=%{y}<extra></extra>",
         "legendgroup": "",
         "marker": {
          "color": "#636efa"
         },
         "name": "",
         "notched": false,
         "offsetgroup": "",
         "orientation": "v",
         "showlegend": false,
         "x0": " ",
         "xaxis": "x3",
         "y": [
          35.084,
          25.28,
          26.421,
          24.67,
          25.189,
          25.31,
          25.116,
          28.536,
          37.735,
          26.269,
          25.352,
          31.382,
          26.477,
          25.878,
          24.97,
          19.36,
          47.226,
          31.445,
          19.347,
          26.977,
          26.827,
          25.595,
          26.065,
          26.468,
          25.687,
          26.615,
          28.325,
          39.917,
          28.856,
          25.907,
          27.55,
          25.921,
          25.675,
          25.851,
          26.281,
          26.073,
          25.045,
          28.298,
          27.577,
          26.464,
          28.642,
          25.037,
          27.879,
          28.39,
          39.391,
          26.063,
          26.157,
          24.874,
          25.566,
          25.748,
          26.38,
          26.447,
          26.41,
          27.306,
          26.973,
          25.22,
          26.066,
          31.293,
          25.567,
          36.503,
          24.993,
          27.186,
          25.117,
          25.666,
          19.677,
          25.642,
          25.219,
          25.335,
          25.079,
          40.507,
          26.146,
          35.1,
          25.676,
          25.862,
          25.643,
          25.225,
          25.098,
          25.215,
          25.337,
          19.553,
          26.198,
          24.316,
          24.42,
          25.125,
          24.585,
          25.331,
          24.974,
          24.489,
          25.364,
          25.926,
          24.672,
          24.827,
          24.375,
          25.274,
          29.063,
          24.565,
          39.98,
          25.2,
          24.801,
          26.312,
          25.029,
          33.207,
          33.074,
          37.352,
          26.137,
          25.992,
          25.906,
          25.421,
          25.116,
          32.658,
          24.672,
          27.509,
          28.091,
          25.585,
          25.282,
          25.684,
          31.896,
          26.584,
          26.499,
          28.943,
          25.444,
          19.385,
          25.714,
          25.595,
          24.264,
          34.773,
          24.758,
          42.934,
          24.97,
          24.395,
          25.306,
          24.641,
          24.412,
          25.618,
          25.398,
          25.234,
          25.077,
          25.732,
          26.42,
          25.119,
          25.736,
          30.345,
          28.606,
          25.062,
          24.661,
          24.851,
          24.501,
          24.244,
          24.733,
          25.119,
          24.789,
          27.554,
          24.177,
          24.181,
          25.495,
          19.918,
          27.698,
          25.583,
          38.811,
          25.879,
          31.241,
          25.766,
          25.45,
          28.242,
          27.166,
          45.7,
          27.176,
          26.435,
          33.342,
          29.117,
          27.38,
          26.292,
          25.604,
          25.459,
          25.114,
          25.561,
          25.512,
          26.836,
          25.215,
          27.064,
          27.364,
          25.478,
          24.673,
          33.49,
          25.111,
          26.044,
          27.407,
          26.698,
          27.68,
          24.934,
          25.182,
          27.738,
          28.112,
          25.714,
          25.608,
          25.054,
          35.327,
          26.315,
          26.517,
          25.813,
          24.465,
          26.057,
          31.313,
          25.026,
          35.485,
          25.343,
          25.678,
          24.308,
          24.833,
          24.949,
          24.406,
          24.299,
          24.496,
          24.642,
          24.427,
          24.979,
          26.04,
          24.183,
          24.353,
          25.123,
          24.306,
          24.66,
          26.69,
          25.248,
          25.472,
          24.768,
          24.155,
          31.81,
          25.17,
          25.563,
          33.887,
          31.104,
          24.852,
          23.739,
          24.326,
          23.87,
          24.741,
          24.568,
          23.964,
          24.874,
          24.542,
          24.263,
          24.02,
          24.291,
          24.237,
          24.241,
          26.817,
          25.438,
          29.379,
          24.663,
          24.296,
          24.111,
          25.213,
          25.532,
          25.964,
          25.705,
          26.165,
          24.266,
          25.03,
          24.776,
          24.011,
          24.483,
          24.269,
          25.419,
          28.463,
          23.946,
          24.161,
          23.858,
          23.795,
          24.023,
          24.591,
          25.062,
          35.651,
          26.299,
          25.026,
          24.219,
          23.783,
          24.244,
          23.874,
          24.428,
          24.369,
          23.928,
          24.15,
          24.521,
          23.746,
          24.548,
          25.202,
          24.715,
          23.935,
          24.797,
          24.077,
          23.703,
          23.803,
          23.474,
          24.43,
          26.731,
          32.75,
          25.65,
          36.773,
          36.351,
          26.91,
          35.486,
          28.77,
          27.637,
          36.854,
          24.965,
          25.133,
          25.068,
          26.021,
          25.266,
          24.796,
          24.507,
          24.409,
          24.536,
          24.872,
          24.76,
          24.607,
          25.71,
          28.034,
          27.009,
          26.93,
          27.231,
          31.518,
          26.056,
          25.594,
          25.865,
          24.666,
          25.352,
          24.526,
          24.875,
          32.494,
          34.725,
          25.672,
          26.141,
          25.26,
          24.887,
          32.749,
          24.217,
          29.337,
          25.466,
          24.29,
          26.99,
          24.376,
          27.774,
          25.946,
          24.594,
          26.685,
          25.833,
          24.707,
          24.252,
          29.3,
          24.192,
          25.713,
          23.902,
          29.949,
          24.663,
          33.428,
          30.395,
          24.656,
          33.706,
          24.414,
          25.916,
          24.539,
          30.98,
          24.798,
          25.851
         ],
         "y0": " ",
         "yaxis": "y3",
         "type": "box"
        }
       ],
       "layout": {
        "template": {
         "data": {
          "histogram2dcontour": [
           {
            "type": "histogram2dcontour",
            "colorbar": {
             "outlinewidth": 0,
             "ticks": ""
            },
            "colorscale": [
             [
              0.0,
              "#0d0887"
             ],
             [
              0.1111111111111111,
              "#46039f"
             ],
             [
              0.2222222222222222,
              "#7201a8"
             ],
             [
              0.3333333333333333,
              "#9c179e"
             ],
             [
              0.4444444444444444,
              "#bd3786"
             ],
             [
              0.5555555555555556,
              "#d8576b"
             ],
             [
              0.6666666666666666,
              "#ed7953"
             ],
             [
              0.7777777777777778,
              "#fb9f3a"
             ],
             [
              0.8888888888888888,
              "#fdca26"
             ],
             [
              1.0,
              "#f0f921"
             ]
            ]
           }
          ],
          "choropleth": [
           {
            "type": "choropleth",
            "colorbar": {
             "outlinewidth": 0,
             "ticks": ""
            }
           }
          ],
          "histogram2d": [
           {
            "type": "histogram2d",
            "colorbar": {
             "outlinewidth": 0,
             "ticks": ""
            },
            "colorscale": [
             [
              0.0,
              "#0d0887"
             ],
             [
              0.1111111111111111,
              "#46039f"
             ],
             [
              0.2222222222222222,
              "#7201a8"
             ],
             [
              0.3333333333333333,
              "#9c179e"
             ],
             [
              0.4444444444444444,
              "#bd3786"
             ],
             [
              0.5555555555555556,
              "#d8576b"
             ],
             [
              0.6666666666666666,
              "#ed7953"
             ],
             [
              0.7777777777777778,
              "#fb9f3a"
             ],
             [
              0.8888888888888888,
              "#fdca26"
             ],
             [
              1.0,
              "#f0f921"
             ]
            ]
           }
          ],
          "heatmap": [
           {
            "type": "heatmap",
            "colorbar": {
             "outlinewidth": 0,
             "ticks": ""
            },
            "colorscale": [
             [
              0.0,
              "#0d0887"
             ],
             [
              0.1111111111111111,
              "#46039f"
             ],
             [
              0.2222222222222222,
              "#7201a8"
             ],
             [
              0.3333333333333333,
              "#9c179e"
             ],
             [
              0.4444444444444444,
              "#bd3786"
             ],
             [
              0.5555555555555556,
              "#d8576b"
             ],
             [
              0.6666666666666666,
              "#ed7953"
             ],
             [
              0.7777777777777778,
              "#fb9f3a"
             ],
             [
              0.8888888888888888,
              "#fdca26"
             ],
             [
              1.0,
              "#f0f921"
             ]
            ]
           }
          ],
          "heatmapgl": [
           {
            "type": "heatmapgl",
            "colorbar": {
             "outlinewidth": 0,
             "ticks": ""
            },
            "colorscale": [
             [
              0.0,
              "#0d0887"
             ],
             [
              0.1111111111111111,
              "#46039f"
             ],
             [
              0.2222222222222222,
              "#7201a8"
             ],
             [
              0.3333333333333333,
              "#9c179e"
             ],
             [
              0.4444444444444444,
              "#bd3786"
             ],
             [
              0.5555555555555556,
              "#d8576b"
             ],
             [
              0.6666666666666666,
              "#ed7953"
             ],
             [
              0.7777777777777778,
              "#fb9f3a"
             ],
             [
              0.8888888888888888,
              "#fdca26"
             ],
             [
              1.0,
              "#f0f921"
             ]
            ]
           }
          ],
          "contourcarpet": [
           {
            "type": "contourcarpet",
            "colorbar": {
             "outlinewidth": 0,
             "ticks": ""
            }
           }
          ],
          "contour": [
           {
            "type": "contour",
            "colorbar": {
             "outlinewidth": 0,
             "ticks": ""
            },
            "colorscale": [
             [
              0.0,
              "#0d0887"
             ],
             [
              0.1111111111111111,
              "#46039f"
             ],
             [
              0.2222222222222222,
              "#7201a8"
             ],
             [
              0.3333333333333333,
              "#9c179e"
             ],
             [
              0.4444444444444444,
              "#bd3786"
             ],
             [
              0.5555555555555556,
              "#d8576b"
             ],
             [
              0.6666666666666666,
              "#ed7953"
             ],
             [
              0.7777777777777778,
              "#fb9f3a"
             ],
             [
              0.8888888888888888,
              "#fdca26"
             ],
             [
              1.0,
              "#f0f921"
             ]
            ]
           }
          ],
          "surface": [
           {
            "type": "surface",
            "colorbar": {
             "outlinewidth": 0,
             "ticks": ""
            },
            "colorscale": [
             [
              0.0,
              "#0d0887"
             ],
             [
              0.1111111111111111,
              "#46039f"
             ],
             [
              0.2222222222222222,
              "#7201a8"
             ],
             [
              0.3333333333333333,
              "#9c179e"
             ],
             [
              0.4444444444444444,
              "#bd3786"
             ],
             [
              0.5555555555555556,
              "#d8576b"
             ],
             [
              0.6666666666666666,
              "#ed7953"
             ],
             [
              0.7777777777777778,
              "#fb9f3a"
             ],
             [
              0.8888888888888888,
              "#fdca26"
             ],
             [
              1.0,
              "#f0f921"
             ]
            ]
           }
          ],
          "mesh3d": [
           {
            "type": "mesh3d",
            "colorbar": {
             "outlinewidth": 0,
             "ticks": ""
            }
           }
          ],
          "scatter": [
           {
            "fillpattern": {
             "fillmode": "overlay",
             "size": 10,
             "solidity": 0.2
            },
            "type": "scatter"
           }
          ],
          "parcoords": [
           {
            "type": "parcoords",
            "line": {
             "colorbar": {
              "outlinewidth": 0,
              "ticks": ""
             }
            }
           }
          ],
          "scatterpolargl": [
           {
            "type": "scatterpolargl",
            "marker": {
             "colorbar": {
              "outlinewidth": 0,
              "ticks": ""
             }
            }
           }
          ],
          "bar": [
           {
            "error_x": {
             "color": "#2a3f5f"
            },
            "error_y": {
             "color": "#2a3f5f"
            },
            "marker": {
             "line": {
              "color": "#E5ECF6",
              "width": 0.5
             },
             "pattern": {
              "fillmode": "overlay",
              "size": 10,
              "solidity": 0.2
             }
            },
            "type": "bar"
           }
          ],
          "scattergeo": [
           {
            "type": "scattergeo",
            "marker": {
             "colorbar": {
              "outlinewidth": 0,
              "ticks": ""
             }
            }
           }
          ],
          "scatterpolar": [
           {
            "type": "scatterpolar",
            "marker": {
             "colorbar": {
              "outlinewidth": 0,
              "ticks": ""
             }
            }
           }
          ],
          "histogram": [
           {
            "marker": {
             "pattern": {
              "fillmode": "overlay",
              "size": 10,
              "solidity": 0.2
             }
            },
            "type": "histogram"
           }
          ],
          "scattergl": [
           {
            "type": "scattergl",
            "marker": {
             "colorbar": {
              "outlinewidth": 0,
              "ticks": ""
             }
            }
           }
          ],
          "scatter3d": [
           {
            "type": "scatter3d",
            "line": {
             "colorbar": {
              "outlinewidth": 0,
              "ticks": ""
             }
            },
            "marker": {
             "colorbar": {
              "outlinewidth": 0,
              "ticks": ""
             }
            }
           }
          ],
          "scattermapbox": [
           {
            "type": "scattermapbox",
            "marker": {
             "colorbar": {
              "outlinewidth": 0,
              "ticks": ""
             }
            }
           }
          ],
          "scatterternary": [
           {
            "type": "scatterternary",
            "marker": {
             "colorbar": {
              "outlinewidth": 0,
              "ticks": ""
             }
            }
           }
          ],
          "scattercarpet": [
           {
            "type": "scattercarpet",
            "marker": {
             "colorbar": {
              "outlinewidth": 0,
              "ticks": ""
             }
            }
           }
          ],
          "carpet": [
           {
            "aaxis": {
             "endlinecolor": "#2a3f5f",
             "gridcolor": "white",
             "linecolor": "white",
             "minorgridcolor": "white",
             "startlinecolor": "#2a3f5f"
            },
            "baxis": {
             "endlinecolor": "#2a3f5f",
             "gridcolor": "white",
             "linecolor": "white",
             "minorgridcolor": "white",
             "startlinecolor": "#2a3f5f"
            },
            "type": "carpet"
           }
          ],
          "table": [
           {
            "cells": {
             "fill": {
              "color": "#EBF0F8"
             },
             "line": {
              "color": "white"
             }
            },
            "header": {
             "fill": {
              "color": "#C8D4E3"
             },
             "line": {
              "color": "white"
             }
            },
            "type": "table"
           }
          ],
          "barpolar": [
           {
            "marker": {
             "line": {
              "color": "#E5ECF6",
              "width": 0.5
             },
             "pattern": {
              "fillmode": "overlay",
              "size": 10,
              "solidity": 0.2
             }
            },
            "type": "barpolar"
           }
          ],
          "pie": [
           {
            "automargin": true,
            "type": "pie"
           }
          ]
         },
         "layout": {
          "autotypenumbers": "strict",
          "colorway": [
           "#636efa",
           "#EF553B",
           "#00cc96",
           "#ab63fa",
           "#FFA15A",
           "#19d3f3",
           "#FF6692",
           "#B6E880",
           "#FF97FF",
           "#FECB52"
          ],
          "font": {
           "color": "#2a3f5f"
          },
          "hovermode": "closest",
          "hoverlabel": {
           "align": "left"
          },
          "paper_bgcolor": "white",
          "plot_bgcolor": "#E5ECF6",
          "polar": {
           "bgcolor": "#E5ECF6",
           "angularaxis": {
            "gridcolor": "white",
            "linecolor": "white",
            "ticks": ""
           },
           "radialaxis": {
            "gridcolor": "white",
            "linecolor": "white",
            "ticks": ""
           }
          },
          "ternary": {
           "bgcolor": "#E5ECF6",
           "aaxis": {
            "gridcolor": "white",
            "linecolor": "white",
            "ticks": ""
           },
           "baxis": {
            "gridcolor": "white",
            "linecolor": "white",
            "ticks": ""
           },
           "caxis": {
            "gridcolor": "white",
            "linecolor": "white",
            "ticks": ""
           }
          },
          "coloraxis": {
           "colorbar": {
            "outlinewidth": 0,
            "ticks": ""
           }
          },
          "colorscale": {
           "sequential": [
            [
             0.0,
             "#0d0887"
            ],
            [
             0.1111111111111111,
             "#46039f"
            ],
            [
             0.2222222222222222,
             "#7201a8"
            ],
            [
             0.3333333333333333,
             "#9c179e"
            ],
            [
             0.4444444444444444,
             "#bd3786"
            ],
            [
             0.5555555555555556,
             "#d8576b"
            ],
            [
             0.6666666666666666,
             "#ed7953"
            ],
            [
             0.7777777777777778,
             "#fb9f3a"
            ],
            [
             0.8888888888888888,
             "#fdca26"
            ],
            [
             1.0,
             "#f0f921"
            ]
           ],
           "sequentialminus": [
            [
             0.0,
             "#0d0887"
            ],
            [
             0.1111111111111111,
             "#46039f"
            ],
            [
             0.2222222222222222,
             "#7201a8"
            ],
            [
             0.3333333333333333,
             "#9c179e"
            ],
            [
             0.4444444444444444,
             "#bd3786"
            ],
            [
             0.5555555555555556,
             "#d8576b"
            ],
            [
             0.6666666666666666,
             "#ed7953"
            ],
            [
             0.7777777777777778,
             "#fb9f3a"
            ],
            [
             0.8888888888888888,
             "#fdca26"
            ],
            [
             1.0,
             "#f0f921"
            ]
           ],
           "diverging": [
            [
             0,
             "#8e0152"
            ],
            [
             0.1,
             "#c51b7d"
            ],
            [
             0.2,
             "#de77ae"
            ],
            [
             0.3,
             "#f1b6da"
            ],
            [
             0.4,
             "#fde0ef"
            ],
            [
             0.5,
             "#f7f7f7"
            ],
            [
             0.6,
             "#e6f5d0"
            ],
            [
             0.7,
             "#b8e186"
            ],
            [
             0.8,
             "#7fbc41"
            ],
            [
             0.9,
             "#4d9221"
            ],
            [
             1,
             "#276419"
            ]
           ]
          },
          "xaxis": {
           "gridcolor": "white",
           "linecolor": "white",
           "ticks": "",
           "title": {
            "standoff": 15
           },
           "zerolinecolor": "white",
           "automargin": true,
           "zerolinewidth": 2
          },
          "yaxis": {
           "gridcolor": "white",
           "linecolor": "white",
           "ticks": "",
           "title": {
            "standoff": 15
           },
           "zerolinecolor": "white",
           "automargin": true,
           "zerolinewidth": 2
          },
          "scene": {
           "xaxis": {
            "backgroundcolor": "#E5ECF6",
            "gridcolor": "white",
            "linecolor": "white",
            "showbackground": true,
            "ticks": "",
            "zerolinecolor": "white",
            "gridwidth": 2
           },
           "yaxis": {
            "backgroundcolor": "#E5ECF6",
            "gridcolor": "white",
            "linecolor": "white",
            "showbackground": true,
            "ticks": "",
            "zerolinecolor": "white",
            "gridwidth": 2
           },
           "zaxis": {
            "backgroundcolor": "#E5ECF6",
            "gridcolor": "white",
            "linecolor": "white",
            "showbackground": true,
            "ticks": "",
            "zerolinecolor": "white",
            "gridwidth": 2
           }
          },
          "shapedefaults": {
           "line": {
            "color": "#2a3f5f"
           }
          },
          "annotationdefaults": {
           "arrowcolor": "#2a3f5f",
           "arrowhead": 0,
           "arrowwidth": 1
          },
          "geo": {
           "bgcolor": "white",
           "landcolor": "#E5ECF6",
           "subunitcolor": "white",
           "showland": true,
           "showlakes": true,
           "lakecolor": "white"
          },
          "title": {
           "x": 0.05
          },
          "mapbox": {
           "style": "light"
          }
         }
        },
        "xaxis": {
         "anchor": "y",
         "domain": [
          0.0,
          0.31999999999999995
         ]
        },
        "yaxis": {
         "anchor": "x",
         "domain": [
          0.0,
          1.0
         ],
         "title": {
          "text": "Circuit Albert Park Grand Prix Circuit \n Pit Stop Durations (seconds)"
         }
        },
        "xaxis2": {
         "anchor": "y2",
         "domain": [
          0.33999999999999997,
          0.6599999999999999
         ],
         "matches": "x"
        },
        "yaxis2": {
         "anchor": "x2",
         "domain": [
          0.0,
          1.0
         ],
         "matches": "y",
         "showticklabels": false,
         "title": {
          "text": "Circuit Circuit de Barcelona-Catalunya \n Pit Stop Durations (seconds)"
         }
        },
        "xaxis3": {
         "anchor": "y3",
         "domain": [
          0.6799999999999999,
          0.9999999999999999
         ],
         "matches": "x"
        },
        "yaxis3": {
         "anchor": "x3",
         "domain": [
          0.0,
          1.0
         ],
         "matches": "y",
         "showticklabels": false,
         "title": {
          "text": "Circuit Circuit de Monaco \n Pit Stop Durations (seconds)"
         }
        },
        "annotations": [
         {
          "showarrow": false,
          "text": "Circuit ID=1",
          "x": 0.15999999999999998,
          "xanchor": "center",
          "xref": "paper",
          "y": 1.0,
          "yanchor": "bottom",
          "yref": "paper"
         },
         {
          "showarrow": false,
          "text": "Circuit ID=4",
          "x": 0.49999999999999994,
          "xanchor": "center",
          "xref": "paper",
          "y": 1.0,
          "yanchor": "bottom",
          "yref": "paper"
         },
         {
          "showarrow": false,
          "text": "Circuit ID=6",
          "x": 0.8399999999999999,
          "xanchor": "center",
          "xref": "paper",
          "y": 1.0,
          "yanchor": "bottom",
          "yref": "paper"
         },
         {
          "showarrow": false,
          "text": "Mean: 23.08s",
          "x": 1,
          "xanchor": "right",
          "xref": "x domain",
          "y": 23.07856329113924,
          "yanchor": "bottom",
          "yref": "y"
         },
         {
          "showarrow": false,
          "text": "10th Percentile: 19.08s",
          "x": 1,
          "xanchor": "right",
          "xref": "x domain",
          "y": 19.075000000000003,
          "yanchor": "bottom",
          "yref": "y"
         },
         {
          "showarrow": false,
          "text": "90th Percentile: 25.54s",
          "x": 1,
          "xanchor": "right",
          "xref": "x domain",
          "y": 25.542,
          "yanchor": "bottom",
          "yref": "y"
         },
         {
          "showarrow": false,
          "text": "Mean: 22.33s",
          "x": 1,
          "xanchor": "right",
          "xref": "x2 domain",
          "y": 22.325256,
          "yanchor": "bottom",
          "yref": "y2"
         },
         {
          "showarrow": false,
          "text": "10th Percentile: 20.04s",
          "x": 1,
          "xanchor": "right",
          "xref": "x2 domain",
          "y": 20.0428,
          "yanchor": "bottom",
          "yref": "y2"
         },
         {
          "showarrow": false,
          "text": "90th Percentile: 24.00s",
          "x": 1,
          "xanchor": "right",
          "xref": "x2 domain",
          "y": 24.004,
          "yanchor": "bottom",
          "yref": "y2"
         },
         {
          "showarrow": false,
          "text": "Mean: 26.61s",
          "x": 1,
          "xanchor": "right",
          "xref": "x3 domain",
          "y": 26.6143306010929,
          "yanchor": "bottom",
          "yref": "y3"
         },
         {
          "showarrow": false,
          "text": "10th Percentile: 24.24s",
          "x": 1,
          "xanchor": "right",
          "xref": "x3 domain",
          "y": 24.2425,
          "yanchor": "bottom",
          "yref": "y3"
         },
         {
          "showarrow": false,
          "text": "90th Percentile: 31.41s",
          "x": 1,
          "xanchor": "right",
          "xref": "x3 domain",
          "y": 31.4135,
          "yanchor": "bottom",
          "yref": "y3"
         }
        ],
        "legend": {
         "tracegroupgap": 0
        },
        "title": {
         "text": "Distribution of Pit Stop Durations for Selected Circuits",
         "font": {
          "size": 12
         }
        },
        "boxmode": "group",
        "shapes": [
         {
          "line": {
           "color": "blue",
           "dash": "solid"
          },
          "type": "line",
          "x0": 0,
          "x1": 1,
          "xref": "x domain",
          "y0": 23.07856329113924,
          "y1": 23.07856329113924,
          "yref": "y"
         },
         {
          "line": {
           "color": "green",
           "dash": "dot"
          },
          "type": "line",
          "x0": 0,
          "x1": 1,
          "xref": "x domain",
          "y0": 19.075000000000003,
          "y1": 19.075000000000003,
          "yref": "y"
         },
         {
          "line": {
           "color": "red",
           "dash": "dot"
          },
          "type": "line",
          "x0": 0,
          "x1": 1,
          "xref": "x domain",
          "y0": 25.542,
          "y1": 25.542,
          "yref": "y"
         },
         {
          "line": {
           "color": "blue",
           "dash": "solid"
          },
          "type": "line",
          "x0": 0,
          "x1": 1,
          "xref": "x2 domain",
          "y0": 22.325256,
          "y1": 22.325256,
          "yref": "y2"
         },
         {
          "line": {
           "color": "green",
           "dash": "dot"
          },
          "type": "line",
          "x0": 0,
          "x1": 1,
          "xref": "x2 domain",
          "y0": 20.0428,
          "y1": 20.0428,
          "yref": "y2"
         },
         {
          "line": {
           "color": "red",
           "dash": "dot"
          },
          "type": "line",
          "x0": 0,
          "x1": 1,
          "xref": "x2 domain",
          "y0": 24.004,
          "y1": 24.004,
          "yref": "y2"
         },
         {
          "line": {
           "color": "blue",
           "dash": "solid"
          },
          "type": "line",
          "x0": 0,
          "x1": 1,
          "xref": "x3 domain",
          "y0": 26.6143306010929,
          "y1": 26.6143306010929,
          "yref": "y3"
         },
         {
          "line": {
           "color": "green",
           "dash": "dot"
          },
          "type": "line",
          "x0": 0,
          "x1": 1,
          "xref": "x3 domain",
          "y0": 24.2425,
          "y1": 24.2425,
          "yref": "y3"
         },
         {
          "line": {
           "color": "red",
           "dash": "dot"
          },
          "type": "line",
          "x0": 0,
          "x1": 1,
          "xref": "x3 domain",
          "y0": 31.4135,
          "y1": 31.4135,
          "yref": "y3"
         }
        ],
        "margin": {
         "autoexpand": true
        },
        "font": {
         "size": 10
        }
       },
       "config": {
        "plotlyServerURL": "https://plot.ly"
       }
      },
      "text/html": "<div>                            <div id=\"dc2d2fce-4a57-453b-8340-288e44f130b3\" class=\"plotly-graph-div\" style=\"height:525px; width:100%;\"></div>            <script type=\"text/javascript\">                require([\"plotly\"], function(Plotly) {                    window.PLOTLYENV=window.PLOTLYENV || {};                                    if (document.getElementById(\"dc2d2fce-4a57-453b-8340-288e44f130b3\")) {                    Plotly.newPlot(                        \"dc2d2fce-4a57-453b-8340-288e44f130b3\",                        [{\"alignmentgroup\":\"True\",\"hovertemplate\":\"Circuit ID=1\\u003cbr\\u003ePit Stop Duration (seconds)=%{y}\\u003cextra\\u003e\\u003c\\u002fextra\\u003e\",\"legendgroup\":\"\",\"marker\":{\"color\":\"#636efa\"},\"name\":\"\",\"notched\":false,\"offsetgroup\":\"\",\"orientation\":\"v\",\"showlegend\":false,\"x0\":\" \",\"xaxis\":\"x\",\"y\":[26.898,24.463,26.348,25.021,23.988,23.426,22.52,26.23,23.251,24.733,24.181,23.842,24.5,24.095,23.643,37.856,16.892,26.309,22.603,24.036,24.863,24.332,25.259,26.446,25.342,23.1,22.994,25.098,23.227,23.199,24.535,25.683,23.716,24.064,24.192,25.978,23.871,24.899,24.848,16.867,23.303,22.681,24.865,23.792,23.438,24.599,23.777,30.888,32.319,23.257,24.348,22.313,22.528,22.103,23.203,23.017,22.035,21.91,25.346,24.162,24.933,24.579,23.302,22.915,24.397,24.58,28.888,23.275,22.837,24.256,24.131,23.427,23.166,22.862,23.464,24.579,24.881,23.31,23.203,23.569,26.322,25.046,25.303,48.984,17.088,23.882,22.282,23.571,21.538,24.24,21.717,21.515,22.239,22.133,22.534,22.316,22.315,23.528,23.215,24.06,36.564,30.838,22.948,21.807,22.704,21.596,24.104,23.834,23.917,21.754,21.511,21.509,23.01,23.051,23.394,23.509,21.792,21.606,21.704,22.709,22.181,23.074,24.688,23.16,23.371,23.387,22.669,23.099,22.155,22.015,21.778,22.274,23.435,24.177,23.677,22.004,21.705,22.693,22.749,17.255,22.264,32.657,23.797,25.541,22.497,22.526,22.411,22.399,24.331,23.673,22.994,22.427,23.15,22.273,22.615,22.933,22.887,21.978,25.543,21.825,23.124,22.978,30.514,23.92,23.238,24.209,23.493,23.821,22.656,22.847,34.921,23.117,24.305,22.681,23.254,22.353,27.465,22.405,22.062,22.137,21.612,22.535,22.694,22.295,22.933,22.105,23.353,23.532,26.009,27.831,22.079,22.414,22.392,22.701,21.55,26.206,23.895,22.357,16.936,21.531,22.245,21.981,21.796,23.286,23.224,21.339,24.548,22.303,29.066,22.616,21.837,22.508,21.94,22.167,24.719,21.376,31.336,22.189,22.293,22.38,39.562,22.154,28.591,22.484,23.13,23.159,21.709,22.045,21.762,21.568,21.988,21.44,22.208,22.033,25.559,24.026,22.213,22.296,21.421,21.821,22.242,22.836,20.953,21.983,23.868,21.854,23.054,22.628,22.327,22.474,21.664,25.504,21.397,21.787,21.44,22.573,32.997,22.343,21.889,33.027,23.299,21.588,23.234,21.995,22.388,21.78,21.515,29.981,21.627,22.014,21.157,22.086,21.689,21.543,22.471,27.172,22.306,21.269,18.242,18.56,20.402,18.552,17.936,19.039,19.128,18.281,18.443,17.434,17.556,18.15,18.926,18.38,17.973,17.877,18.413,18.479,18.796,18.394,19.111,19.845,18.056,18.951,21.881,18.382,19.158,19.018,17.657,17.814,21.659,19.825,19.146,18.319,20.789,18.258,19.442,18.08],\"y0\":\" \",\"yaxis\":\"y\",\"type\":\"box\"},{\"alignmentgroup\":\"True\",\"hovertemplate\":\"Circuit ID=4\\u003cbr\\u003ePit Stop Duration (seconds)=%{y}\\u003cextra\\u003e\\u003c\\u002fextra\\u003e\",\"legendgroup\":\"\",\"marker\":{\"color\":\"#636efa\"},\"name\":\"\",\"notched\":false,\"offsetgroup\":\"\",\"orientation\":\"v\",\"showlegend\":false,\"x0\":\" \",\"xaxis\":\"x2\",\"y\":[24.871,21.128,20.5,23.592,21.143,21.829,22.689,24.821,21.574,22.077,20.253,19.887,20.426,20.292,20.818,24.745,20.819,20.567,20.238,20.738,20.38,20.881,20.079,20.279,19.984,20.084,20.487,20.451,19.761,20.235,20.473,20.988,21.856,24.232,21.739,20.647,19.534,20.395,20.8,21.635,22.419,20.741,20.872,21.019,23.143,29.936,21.226,20.65,20.637,20.773,20.267,23.23,20.015,20.763,20.107,24.843,24.448,24.298,20.07,20.126,20.573,22.364,21.723,23.001,21.019,20.807,23.068,23.157,22.744,21.632,21.17,23.176,22.982,21.708,21.322,21.953,20.796,21.864,21.055,28.531,20.119,24.864,20.129,19.745,19.624,13.335,26.143,22.26,20.381,21.311,20.502,20.059,20.197,20.333,21.061,19.888,19.987,21.68,19.867,19.456,20.028,20.105,20.223,21.215,21.035,20.113,20.388,22.645,20.46,20.13,13.259,19.699,22.645,20.521,20.558,20.515,24.856,23.072,21.817,22.275,22.135,21.543,21.471,20.62,20.218,22.829,19.777,21.301,20.073,21.101,20.114,20.059,21.518,22.515,21.29,22.566,21.275,21.963,19.98,21.082,20.902,20.669,20.936,21.338,29.994,20.656,19.904,19.83,19.668,19.151,19.17,18.931,19.49,19.373,19.326,19.001,19.993,19.402,22.324,24.001,28.971,20.314,20.205,13.266,23.139,20.8,19.723,20.734,20.87,21.202,18.909,19.952,19.519,18.471,22.018,20.132,19.7,19.457,20.615,19.792,19.822,19.481,19.772,20.671,25.362,29.74,21.686,22.029,21.171,20.533,19.908,19.414,20.032,19.352,18.606,18.708,19.551,18.694,19.978,19.743,20.184,19.25,20.578,19.866,19.993,19.795,20.1,19.498,19.857,18.81,19.196,19.29,22.144,19.988,20.082,19.324,25.294,21.582,21.34,20.306,19.591,22.931,21.974,21.599,21.608,21.969,21.83,22.126,22.078,22.89,22.381,22.304,27.851,22.024,21.97,22.014,21.664,22.976,22.056,22.727,22.355,22.724,21.81,24.408,28.013,23.378,24.337,23.232,23.586,22.951,23.59,22.367,22.282,22.703,22.841,22.984,23.063,24.78,23.025,23.091,26.671,21.894,21.768,22.824,22.701,22.254,22.309,22.928,22.568,22.789,22.659,22.534,22.545,22.667,22.273,22.589,23.327,24.066,22.677,23.186,24.586,22.727,21.965,22.44,24.884,24.396,22.607,21.762,21.836,22.139,22.629,22.257,24.976,32.459,22.575,22.859,22.178,21.87,22.452,22.082,21.8,23.309,33.256,24.687,23.043,22.796,22.623,21.789,24.631,23.07,24.2,25.272,22.872,22.468,22.426,23.728,21.384,22.568,21.831,22.679,21.918,23.277,22.234,22.769,22.84,23.122,22.897,22.874,22.937,22.28,22.59,22.176,22.843,23.165,22.122,21.738,22.104,21.683,23.133,21.795,22.987,23.283,22.397,24.554,24.387,22.369,22.348,22.107,22.169,21.856,22.443,22.976,23.09,21.643,22.617,21.603,23.187,22.844,34.832,23.206,22.43,28.753,26.186,22.235,22.117,40.612,22.292,23.066,23.159,22.762,24.75,22.69,23.354,22.923,22.1,22.071,22.547,22.703,23.814,25.052,22.432,21.934,22.499,22.307,22.49,22.362,22.616,22.643,25.082,23.107,22.995,22.775,22.866,22.641,21.544,21.722,21.811,21.918,21.689,23.445,22.631,22.472,22.049,22.034,23.865,22.054,24.273,23.213,21.995,21.351,21.721,22.085,22.409,22.438,22.242,47.91,22.917,21.618,21.74,27.416,22.1,22.381,23.507,23.746,21.643,22.417,22.54,22.049,33.821,22.563,22.095,23.321,22.025,22.992,22.379,22.702,21.468,21.545,22.781,22.896,23.646,21.638,23.591,37.345,22.034,22.018,22.379,22.732,21.579,22.265,22.511,22.342,22.549,21.954,22.142,22.442,21.846,22.193,21.663,21.804,22.708,21.889,22.314,22.197,21.532,21.601,22.241,22.394,22.099,21.761,23.036,22.079,22.243,21.794,22.078,22.166,23.377,21.853,22.31,22.143,22.607,22.351,22.388,24.148,22.322,22.475,22.641,22.274,21.82,23.212,24.01,22.366,21.837,22.871,23.814,21.919,26.672,21.424,22.405,28.042,26.065,22.043,23.479,23.087,21.973,21.779,21.856,21.756,21.432,23.098,22.502,22.311,21.638,22.798,21.864,22.467,24.006,22.31,23.565,21.592,22.406,21.762,22.382,21.345,22.22,22.078,21.613,22.292,21.572,31.054,22.105,22.241,29.632,23.878,22.341,21.867,22.302,22.375,21.914,25.407,22.008,27.947,21.838,23.109,23.083,22.802,22.316,22.124,22.399,22.154,23.419,22.657,23.328,23.404,21.916,23.341,22.165,23.582,23.127,23.189,22.311,22.761,22.154,22.039,22.815,22.173,21.966,21.941,22.137,22.953,22.033,22.987,22.541,22.833,23.394,23.812,22.032,21.619,21.694,21.794,22.536,22.456,37.736,22.85,22.062,23.691,24.097,22.298,23.257,24.484,23.43,22.889,22.522,21.976,22.176,22.009,22.124,24.8,22.291,22.112,24.11,22.355,23.371,22.321,22.375,21.778,23.003,23.319,23.449,22.37,22.862,22.583,23.827,22.558,22.896,23.388,23.61,22.575,22.731,22.275,22.054,22.241,22.357,21.775,21.537],\"y0\":\" \",\"yaxis\":\"y2\",\"type\":\"box\"},{\"alignmentgroup\":\"True\",\"hovertemplate\":\"Circuit ID=6\\u003cbr\\u003ePit Stop Duration (seconds)=%{y}\\u003cextra\\u003e\\u003c\\u002fextra\\u003e\",\"legendgroup\":\"\",\"marker\":{\"color\":\"#636efa\"},\"name\":\"\",\"notched\":false,\"offsetgroup\":\"\",\"orientation\":\"v\",\"showlegend\":false,\"x0\":\" \",\"xaxis\":\"x3\",\"y\":[35.084,25.28,26.421,24.67,25.189,25.31,25.116,28.536,37.735,26.269,25.352,31.382,26.477,25.878,24.97,19.36,47.226,31.445,19.347,26.977,26.827,25.595,26.065,26.468,25.687,26.615,28.325,39.917,28.856,25.907,27.55,25.921,25.675,25.851,26.281,26.073,25.045,28.298,27.577,26.464,28.642,25.037,27.879,28.39,39.391,26.063,26.157,24.874,25.566,25.748,26.38,26.447,26.41,27.306,26.973,25.22,26.066,31.293,25.567,36.503,24.993,27.186,25.117,25.666,19.677,25.642,25.219,25.335,25.079,40.507,26.146,35.1,25.676,25.862,25.643,25.225,25.098,25.215,25.337,19.553,26.198,24.316,24.42,25.125,24.585,25.331,24.974,24.489,25.364,25.926,24.672,24.827,24.375,25.274,29.063,24.565,39.98,25.2,24.801,26.312,25.029,33.207,33.074,37.352,26.137,25.992,25.906,25.421,25.116,32.658,24.672,27.509,28.091,25.585,25.282,25.684,31.896,26.584,26.499,28.943,25.444,19.385,25.714,25.595,24.264,34.773,24.758,42.934,24.97,24.395,25.306,24.641,24.412,25.618,25.398,25.234,25.077,25.732,26.42,25.119,25.736,30.345,28.606,25.062,24.661,24.851,24.501,24.244,24.733,25.119,24.789,27.554,24.177,24.181,25.495,19.918,27.698,25.583,38.811,25.879,31.241,25.766,25.45,28.242,27.166,45.7,27.176,26.435,33.342,29.117,27.38,26.292,25.604,25.459,25.114,25.561,25.512,26.836,25.215,27.064,27.364,25.478,24.673,33.49,25.111,26.044,27.407,26.698,27.68,24.934,25.182,27.738,28.112,25.714,25.608,25.054,35.327,26.315,26.517,25.813,24.465,26.057,31.313,25.026,35.485,25.343,25.678,24.308,24.833,24.949,24.406,24.299,24.496,24.642,24.427,24.979,26.04,24.183,24.353,25.123,24.306,24.66,26.69,25.248,25.472,24.768,24.155,31.81,25.17,25.563,33.887,31.104,24.852,23.739,24.326,23.87,24.741,24.568,23.964,24.874,24.542,24.263,24.02,24.291,24.237,24.241,26.817,25.438,29.379,24.663,24.296,24.111,25.213,25.532,25.964,25.705,26.165,24.266,25.03,24.776,24.011,24.483,24.269,25.419,28.463,23.946,24.161,23.858,23.795,24.023,24.591,25.062,35.651,26.299,25.026,24.219,23.783,24.244,23.874,24.428,24.369,23.928,24.15,24.521,23.746,24.548,25.202,24.715,23.935,24.797,24.077,23.703,23.803,23.474,24.43,26.731,32.75,25.65,36.773,36.351,26.91,35.486,28.77,27.637,36.854,24.965,25.133,25.068,26.021,25.266,24.796,24.507,24.409,24.536,24.872,24.76,24.607,25.71,28.034,27.009,26.93,27.231,31.518,26.056,25.594,25.865,24.666,25.352,24.526,24.875,32.494,34.725,25.672,26.141,25.26,24.887,32.749,24.217,29.337,25.466,24.29,26.99,24.376,27.774,25.946,24.594,26.685,25.833,24.707,24.252,29.3,24.192,25.713,23.902,29.949,24.663,33.428,30.395,24.656,33.706,24.414,25.916,24.539,30.98,24.798,25.851],\"y0\":\" \",\"yaxis\":\"y3\",\"type\":\"box\"}],                        {\"template\":{\"data\":{\"histogram2dcontour\":[{\"type\":\"histogram2dcontour\",\"colorbar\":{\"outlinewidth\":0,\"ticks\":\"\"},\"colorscale\":[[0.0,\"#0d0887\"],[0.1111111111111111,\"#46039f\"],[0.2222222222222222,\"#7201a8\"],[0.3333333333333333,\"#9c179e\"],[0.4444444444444444,\"#bd3786\"],[0.5555555555555556,\"#d8576b\"],[0.6666666666666666,\"#ed7953\"],[0.7777777777777778,\"#fb9f3a\"],[0.8888888888888888,\"#fdca26\"],[1.0,\"#f0f921\"]]}],\"choropleth\":[{\"type\":\"choropleth\",\"colorbar\":{\"outlinewidth\":0,\"ticks\":\"\"}}],\"histogram2d\":[{\"type\":\"histogram2d\",\"colorbar\":{\"outlinewidth\":0,\"ticks\":\"\"},\"colorscale\":[[0.0,\"#0d0887\"],[0.1111111111111111,\"#46039f\"],[0.2222222222222222,\"#7201a8\"],[0.3333333333333333,\"#9c179e\"],[0.4444444444444444,\"#bd3786\"],[0.5555555555555556,\"#d8576b\"],[0.6666666666666666,\"#ed7953\"],[0.7777777777777778,\"#fb9f3a\"],[0.8888888888888888,\"#fdca26\"],[1.0,\"#f0f921\"]]}],\"heatmap\":[{\"type\":\"heatmap\",\"colorbar\":{\"outlinewidth\":0,\"ticks\":\"\"},\"colorscale\":[[0.0,\"#0d0887\"],[0.1111111111111111,\"#46039f\"],[0.2222222222222222,\"#7201a8\"],[0.3333333333333333,\"#9c179e\"],[0.4444444444444444,\"#bd3786\"],[0.5555555555555556,\"#d8576b\"],[0.6666666666666666,\"#ed7953\"],[0.7777777777777778,\"#fb9f3a\"],[0.8888888888888888,\"#fdca26\"],[1.0,\"#f0f921\"]]}],\"heatmapgl\":[{\"type\":\"heatmapgl\",\"colorbar\":{\"outlinewidth\":0,\"ticks\":\"\"},\"colorscale\":[[0.0,\"#0d0887\"],[0.1111111111111111,\"#46039f\"],[0.2222222222222222,\"#7201a8\"],[0.3333333333333333,\"#9c179e\"],[0.4444444444444444,\"#bd3786\"],[0.5555555555555556,\"#d8576b\"],[0.6666666666666666,\"#ed7953\"],[0.7777777777777778,\"#fb9f3a\"],[0.8888888888888888,\"#fdca26\"],[1.0,\"#f0f921\"]]}],\"contourcarpet\":[{\"type\":\"contourcarpet\",\"colorbar\":{\"outlinewidth\":0,\"ticks\":\"\"}}],\"contour\":[{\"type\":\"contour\",\"colorbar\":{\"outlinewidth\":0,\"ticks\":\"\"},\"colorscale\":[[0.0,\"#0d0887\"],[0.1111111111111111,\"#46039f\"],[0.2222222222222222,\"#7201a8\"],[0.3333333333333333,\"#9c179e\"],[0.4444444444444444,\"#bd3786\"],[0.5555555555555556,\"#d8576b\"],[0.6666666666666666,\"#ed7953\"],[0.7777777777777778,\"#fb9f3a\"],[0.8888888888888888,\"#fdca26\"],[1.0,\"#f0f921\"]]}],\"surface\":[{\"type\":\"surface\",\"colorbar\":{\"outlinewidth\":0,\"ticks\":\"\"},\"colorscale\":[[0.0,\"#0d0887\"],[0.1111111111111111,\"#46039f\"],[0.2222222222222222,\"#7201a8\"],[0.3333333333333333,\"#9c179e\"],[0.4444444444444444,\"#bd3786\"],[0.5555555555555556,\"#d8576b\"],[0.6666666666666666,\"#ed7953\"],[0.7777777777777778,\"#fb9f3a\"],[0.8888888888888888,\"#fdca26\"],[1.0,\"#f0f921\"]]}],\"mesh3d\":[{\"type\":\"mesh3d\",\"colorbar\":{\"outlinewidth\":0,\"ticks\":\"\"}}],\"scatter\":[{\"fillpattern\":{\"fillmode\":\"overlay\",\"size\":10,\"solidity\":0.2},\"type\":\"scatter\"}],\"parcoords\":[{\"type\":\"parcoords\",\"line\":{\"colorbar\":{\"outlinewidth\":0,\"ticks\":\"\"}}}],\"scatterpolargl\":[{\"type\":\"scatterpolargl\",\"marker\":{\"colorbar\":{\"outlinewidth\":0,\"ticks\":\"\"}}}],\"bar\":[{\"error_x\":{\"color\":\"#2a3f5f\"},\"error_y\":{\"color\":\"#2a3f5f\"},\"marker\":{\"line\":{\"color\":\"#E5ECF6\",\"width\":0.5},\"pattern\":{\"fillmode\":\"overlay\",\"size\":10,\"solidity\":0.2}},\"type\":\"bar\"}],\"scattergeo\":[{\"type\":\"scattergeo\",\"marker\":{\"colorbar\":{\"outlinewidth\":0,\"ticks\":\"\"}}}],\"scatterpolar\":[{\"type\":\"scatterpolar\",\"marker\":{\"colorbar\":{\"outlinewidth\":0,\"ticks\":\"\"}}}],\"histogram\":[{\"marker\":{\"pattern\":{\"fillmode\":\"overlay\",\"size\":10,\"solidity\":0.2}},\"type\":\"histogram\"}],\"scattergl\":[{\"type\":\"scattergl\",\"marker\":{\"colorbar\":{\"outlinewidth\":0,\"ticks\":\"\"}}}],\"scatter3d\":[{\"type\":\"scatter3d\",\"line\":{\"colorbar\":{\"outlinewidth\":0,\"ticks\":\"\"}},\"marker\":{\"colorbar\":{\"outlinewidth\":0,\"ticks\":\"\"}}}],\"scattermapbox\":[{\"type\":\"scattermapbox\",\"marker\":{\"colorbar\":{\"outlinewidth\":0,\"ticks\":\"\"}}}],\"scatterternary\":[{\"type\":\"scatterternary\",\"marker\":{\"colorbar\":{\"outlinewidth\":0,\"ticks\":\"\"}}}],\"scattercarpet\":[{\"type\":\"scattercarpet\",\"marker\":{\"colorbar\":{\"outlinewidth\":0,\"ticks\":\"\"}}}],\"carpet\":[{\"aaxis\":{\"endlinecolor\":\"#2a3f5f\",\"gridcolor\":\"white\",\"linecolor\":\"white\",\"minorgridcolor\":\"white\",\"startlinecolor\":\"#2a3f5f\"},\"baxis\":{\"endlinecolor\":\"#2a3f5f\",\"gridcolor\":\"white\",\"linecolor\":\"white\",\"minorgridcolor\":\"white\",\"startlinecolor\":\"#2a3f5f\"},\"type\":\"carpet\"}],\"table\":[{\"cells\":{\"fill\":{\"color\":\"#EBF0F8\"},\"line\":{\"color\":\"white\"}},\"header\":{\"fill\":{\"color\":\"#C8D4E3\"},\"line\":{\"color\":\"white\"}},\"type\":\"table\"}],\"barpolar\":[{\"marker\":{\"line\":{\"color\":\"#E5ECF6\",\"width\":0.5},\"pattern\":{\"fillmode\":\"overlay\",\"size\":10,\"solidity\":0.2}},\"type\":\"barpolar\"}],\"pie\":[{\"automargin\":true,\"type\":\"pie\"}]},\"layout\":{\"autotypenumbers\":\"strict\",\"colorway\":[\"#636efa\",\"#EF553B\",\"#00cc96\",\"#ab63fa\",\"#FFA15A\",\"#19d3f3\",\"#FF6692\",\"#B6E880\",\"#FF97FF\",\"#FECB52\"],\"font\":{\"color\":\"#2a3f5f\"},\"hovermode\":\"closest\",\"hoverlabel\":{\"align\":\"left\"},\"paper_bgcolor\":\"white\",\"plot_bgcolor\":\"#E5ECF6\",\"polar\":{\"bgcolor\":\"#E5ECF6\",\"angularaxis\":{\"gridcolor\":\"white\",\"linecolor\":\"white\",\"ticks\":\"\"},\"radialaxis\":{\"gridcolor\":\"white\",\"linecolor\":\"white\",\"ticks\":\"\"}},\"ternary\":{\"bgcolor\":\"#E5ECF6\",\"aaxis\":{\"gridcolor\":\"white\",\"linecolor\":\"white\",\"ticks\":\"\"},\"baxis\":{\"gridcolor\":\"white\",\"linecolor\":\"white\",\"ticks\":\"\"},\"caxis\":{\"gridcolor\":\"white\",\"linecolor\":\"white\",\"ticks\":\"\"}},\"coloraxis\":{\"colorbar\":{\"outlinewidth\":0,\"ticks\":\"\"}},\"colorscale\":{\"sequential\":[[0.0,\"#0d0887\"],[0.1111111111111111,\"#46039f\"],[0.2222222222222222,\"#7201a8\"],[0.3333333333333333,\"#9c179e\"],[0.4444444444444444,\"#bd3786\"],[0.5555555555555556,\"#d8576b\"],[0.6666666666666666,\"#ed7953\"],[0.7777777777777778,\"#fb9f3a\"],[0.8888888888888888,\"#fdca26\"],[1.0,\"#f0f921\"]],\"sequentialminus\":[[0.0,\"#0d0887\"],[0.1111111111111111,\"#46039f\"],[0.2222222222222222,\"#7201a8\"],[0.3333333333333333,\"#9c179e\"],[0.4444444444444444,\"#bd3786\"],[0.5555555555555556,\"#d8576b\"],[0.6666666666666666,\"#ed7953\"],[0.7777777777777778,\"#fb9f3a\"],[0.8888888888888888,\"#fdca26\"],[1.0,\"#f0f921\"]],\"diverging\":[[0,\"#8e0152\"],[0.1,\"#c51b7d\"],[0.2,\"#de77ae\"],[0.3,\"#f1b6da\"],[0.4,\"#fde0ef\"],[0.5,\"#f7f7f7\"],[0.6,\"#e6f5d0\"],[0.7,\"#b8e186\"],[0.8,\"#7fbc41\"],[0.9,\"#4d9221\"],[1,\"#276419\"]]},\"xaxis\":{\"gridcolor\":\"white\",\"linecolor\":\"white\",\"ticks\":\"\",\"title\":{\"standoff\":15},\"zerolinecolor\":\"white\",\"automargin\":true,\"zerolinewidth\":2},\"yaxis\":{\"gridcolor\":\"white\",\"linecolor\":\"white\",\"ticks\":\"\",\"title\":{\"standoff\":15},\"zerolinecolor\":\"white\",\"automargin\":true,\"zerolinewidth\":2},\"scene\":{\"xaxis\":{\"backgroundcolor\":\"#E5ECF6\",\"gridcolor\":\"white\",\"linecolor\":\"white\",\"showbackground\":true,\"ticks\":\"\",\"zerolinecolor\":\"white\",\"gridwidth\":2},\"yaxis\":{\"backgroundcolor\":\"#E5ECF6\",\"gridcolor\":\"white\",\"linecolor\":\"white\",\"showbackground\":true,\"ticks\":\"\",\"zerolinecolor\":\"white\",\"gridwidth\":2},\"zaxis\":{\"backgroundcolor\":\"#E5ECF6\",\"gridcolor\":\"white\",\"linecolor\":\"white\",\"showbackground\":true,\"ticks\":\"\",\"zerolinecolor\":\"white\",\"gridwidth\":2}},\"shapedefaults\":{\"line\":{\"color\":\"#2a3f5f\"}},\"annotationdefaults\":{\"arrowcolor\":\"#2a3f5f\",\"arrowhead\":0,\"arrowwidth\":1},\"geo\":{\"bgcolor\":\"white\",\"landcolor\":\"#E5ECF6\",\"subunitcolor\":\"white\",\"showland\":true,\"showlakes\":true,\"lakecolor\":\"white\"},\"title\":{\"x\":0.05},\"mapbox\":{\"style\":\"light\"}}},\"xaxis\":{\"anchor\":\"y\",\"domain\":[0.0,0.31999999999999995]},\"yaxis\":{\"anchor\":\"x\",\"domain\":[0.0,1.0],\"title\":{\"text\":\"Circuit Albert Park Grand Prix Circuit \\n Pit Stop Durations (seconds)\"}},\"xaxis2\":{\"anchor\":\"y2\",\"domain\":[0.33999999999999997,0.6599999999999999],\"matches\":\"x\"},\"yaxis2\":{\"anchor\":\"x2\",\"domain\":[0.0,1.0],\"matches\":\"y\",\"showticklabels\":false,\"title\":{\"text\":\"Circuit Circuit de Barcelona-Catalunya \\n Pit Stop Durations (seconds)\"}},\"xaxis3\":{\"anchor\":\"y3\",\"domain\":[0.6799999999999999,0.9999999999999999],\"matches\":\"x\"},\"yaxis3\":{\"anchor\":\"x3\",\"domain\":[0.0,1.0],\"matches\":\"y\",\"showticklabels\":false,\"title\":{\"text\":\"Circuit Circuit de Monaco \\n Pit Stop Durations (seconds)\"}},\"annotations\":[{\"showarrow\":false,\"text\":\"Circuit ID=1\",\"x\":0.15999999999999998,\"xanchor\":\"center\",\"xref\":\"paper\",\"y\":1.0,\"yanchor\":\"bottom\",\"yref\":\"paper\"},{\"showarrow\":false,\"text\":\"Circuit ID=4\",\"x\":0.49999999999999994,\"xanchor\":\"center\",\"xref\":\"paper\",\"y\":1.0,\"yanchor\":\"bottom\",\"yref\":\"paper\"},{\"showarrow\":false,\"text\":\"Circuit ID=6\",\"x\":0.8399999999999999,\"xanchor\":\"center\",\"xref\":\"paper\",\"y\":1.0,\"yanchor\":\"bottom\",\"yref\":\"paper\"},{\"showarrow\":false,\"text\":\"Mean: 23.08s\",\"x\":1,\"xanchor\":\"right\",\"xref\":\"x domain\",\"y\":23.07856329113924,\"yanchor\":\"bottom\",\"yref\":\"y\"},{\"showarrow\":false,\"text\":\"10th Percentile: 19.08s\",\"x\":1,\"xanchor\":\"right\",\"xref\":\"x domain\",\"y\":19.075000000000003,\"yanchor\":\"bottom\",\"yref\":\"y\"},{\"showarrow\":false,\"text\":\"90th Percentile: 25.54s\",\"x\":1,\"xanchor\":\"right\",\"xref\":\"x domain\",\"y\":25.542,\"yanchor\":\"bottom\",\"yref\":\"y\"},{\"showarrow\":false,\"text\":\"Mean: 22.33s\",\"x\":1,\"xanchor\":\"right\",\"xref\":\"x2 domain\",\"y\":22.325256,\"yanchor\":\"bottom\",\"yref\":\"y2\"},{\"showarrow\":false,\"text\":\"10th Percentile: 20.04s\",\"x\":1,\"xanchor\":\"right\",\"xref\":\"x2 domain\",\"y\":20.0428,\"yanchor\":\"bottom\",\"yref\":\"y2\"},{\"showarrow\":false,\"text\":\"90th Percentile: 24.00s\",\"x\":1,\"xanchor\":\"right\",\"xref\":\"x2 domain\",\"y\":24.004,\"yanchor\":\"bottom\",\"yref\":\"y2\"},{\"showarrow\":false,\"text\":\"Mean: 26.61s\",\"x\":1,\"xanchor\":\"right\",\"xref\":\"x3 domain\",\"y\":26.6143306010929,\"yanchor\":\"bottom\",\"yref\":\"y3\"},{\"showarrow\":false,\"text\":\"10th Percentile: 24.24s\",\"x\":1,\"xanchor\":\"right\",\"xref\":\"x3 domain\",\"y\":24.2425,\"yanchor\":\"bottom\",\"yref\":\"y3\"},{\"showarrow\":false,\"text\":\"90th Percentile: 31.41s\",\"x\":1,\"xanchor\":\"right\",\"xref\":\"x3 domain\",\"y\":31.4135,\"yanchor\":\"bottom\",\"yref\":\"y3\"}],\"legend\":{\"tracegroupgap\":0},\"title\":{\"text\":\"Distribution of Pit Stop Durations for Selected Circuits\",\"font\":{\"size\":12}},\"boxmode\":\"group\",\"shapes\":[{\"line\":{\"color\":\"blue\",\"dash\":\"solid\"},\"type\":\"line\",\"x0\":0,\"x1\":1,\"xref\":\"x domain\",\"y0\":23.07856329113924,\"y1\":23.07856329113924,\"yref\":\"y\"},{\"line\":{\"color\":\"green\",\"dash\":\"dot\"},\"type\":\"line\",\"x0\":0,\"x1\":1,\"xref\":\"x domain\",\"y0\":19.075000000000003,\"y1\":19.075000000000003,\"yref\":\"y\"},{\"line\":{\"color\":\"red\",\"dash\":\"dot\"},\"type\":\"line\",\"x0\":0,\"x1\":1,\"xref\":\"x domain\",\"y0\":25.542,\"y1\":25.542,\"yref\":\"y\"},{\"line\":{\"color\":\"blue\",\"dash\":\"solid\"},\"type\":\"line\",\"x0\":0,\"x1\":1,\"xref\":\"x2 domain\",\"y0\":22.325256,\"y1\":22.325256,\"yref\":\"y2\"},{\"line\":{\"color\":\"green\",\"dash\":\"dot\"},\"type\":\"line\",\"x0\":0,\"x1\":1,\"xref\":\"x2 domain\",\"y0\":20.0428,\"y1\":20.0428,\"yref\":\"y2\"},{\"line\":{\"color\":\"red\",\"dash\":\"dot\"},\"type\":\"line\",\"x0\":0,\"x1\":1,\"xref\":\"x2 domain\",\"y0\":24.004,\"y1\":24.004,\"yref\":\"y2\"},{\"line\":{\"color\":\"blue\",\"dash\":\"solid\"},\"type\":\"line\",\"x0\":0,\"x1\":1,\"xref\":\"x3 domain\",\"y0\":26.6143306010929,\"y1\":26.6143306010929,\"yref\":\"y3\"},{\"line\":{\"color\":\"green\",\"dash\":\"dot\"},\"type\":\"line\",\"x0\":0,\"x1\":1,\"xref\":\"x3 domain\",\"y0\":24.2425,\"y1\":24.2425,\"yref\":\"y3\"},{\"line\":{\"color\":\"red\",\"dash\":\"dot\"},\"type\":\"line\",\"x0\":0,\"x1\":1,\"xref\":\"x3 domain\",\"y0\":31.4135,\"y1\":31.4135,\"yref\":\"y3\"}],\"margin\":{\"autoexpand\":true},\"font\":{\"size\":10}},                        {\"responsive\": true}                    ).then(function(){\n                            \nvar gd = document.getElementById('dc2d2fce-4a57-453b-8340-288e44f130b3');\nvar x = new MutationObserver(function (mutations, observer) {{\n        var display = window.getComputedStyle(gd).display;\n        if (!display || display === 'none') {{\n            console.log([gd, 'removed!']);\n            Plotly.purge(gd);\n            observer.disconnect();\n        }}\n}});\n\n// Listen for the removal of the full notebook cells\nvar notebookContainer = gd.closest('#notebook-container');\nif (notebookContainer) {{\n    x.observe(notebookContainer, {childList: true});\n}}\n\n// Listen for the clearing of the current output cell\nvar outputEl = gd.closest('.output');\nif (outputEl) {{\n    x.observe(outputEl, {childList: true});\n}}\n\n                        })                };                });            </script>        </div>"
     },
     "metadata": {},
     "output_type": "display_data"
    }
   ],
   "source": [
    "import plotly.express as px\n",
    "\n",
    "# Filter pit stop data for circuit IDs 1, 4, and 6\n",
    "filtered_pit_stops = newPitStops[newPitStops['circuitId'].isin([1, 4, 6]) & (newPitStops['seconds'] < 50)]\n",
    "\n",
    "# Create the box plot with facets for each circuit\n",
    "fig = px.box(filtered_pit_stops, y='seconds', facet_col='circuitId', \n",
    "             title='Distribution of Pit Stop Durations for Selected Circuits',\n",
    "             labels={'seconds': 'Pit Stop Duration (seconds)', 'circuitId': 'Circuit ID'})\n",
    "\n",
    "# Update layout with mean, 10th percentile, and 90th percentile annotations for each subplot\n",
    "for i, circuit_id in enumerate([1, 4, 6]):\n",
    "    data = filtered_pit_stops[filtered_pit_stops['circuitId'] == circuit_id]['seconds']\n",
    "    mean_value = data.mean()\n",
    "    percentile_10 = data.quantile(0.1)\n",
    "    percentile_90 = data.quantile(0.9)\n",
    "    fig.update_yaxes(title_text=f'Circuit {circuit_names[i]} \\n Pit Stop Durations (seconds)', col=i+1)\n",
    "    fig.add_hline(y=mean_value, col=i+1,\n",
    "                  annotation_text=f\"Mean: {mean_value:.2f}s\", line_dash='solid', line_color='blue')\n",
    "    fig.add_hline(y=percentile_10, col=i+1,\n",
    "                  annotation_text=f\"10th Percentile: {percentile_10:.2f}s\", line_dash='dot', line_color='green')\n",
    "    fig.add_hline(y=percentile_90, col=i+1,\n",
    "                  annotation_text=f\"90th Percentile: {percentile_90:.2f}s\", line_dash='dot', line_color='red')\n",
    "\n",
    "# Update title and annotation font sizes\n",
    "fig.update_layout(\n",
    "    margin = {\"autoexpand\" : True},\n",
    "    title_font=dict(size=12),  # Increase title font size\n",
    "    font=dict(size=10)  # Increase annotation font size\n",
    ")\n",
    "\n",
    "# Show the plot\n",
    "fig.show()\n"
   ]
  },
  {
   "cell_type": "code",
   "execution_count": 61,
   "id": "8b600a5f",
   "metadata": {
    "ExecuteTime": {
     "end_time": "2024-05-23T17:24:35.565890400Z",
     "start_time": "2024-05-23T17:24:35.506980500Z"
    }
   },
   "outputs": [
    {
     "data": {
      "application/vnd.plotly.v1+json": {
       "data": [
        {
         "alignmentgroup": "True",
         "bingroup": "x",
         "hovertemplate": "circuitName=Albert Park Grand Prix Circuit<br>seconds=%{x}<br>count=%{y}<extra></extra>",
         "legendgroup": "Albert Park Grand Prix Circuit",
         "marker": {
          "color": "#636efa",
          "opacity": 0.5,
          "pattern": {
           "shape": ""
          }
         },
         "name": "Albert Park Grand Prix Circuit",
         "offsetgroup": "Albert Park Grand Prix Circuit",
         "orientation": "v",
         "showlegend": true,
         "x": [
          26.898,
          24.463,
          26.348,
          25.021,
          23.988,
          23.426,
          22.52,
          26.23,
          23.251,
          24.733,
          24.181,
          23.842,
          24.5,
          24.095,
          23.643,
          37.856,
          16.892,
          26.309,
          22.603,
          24.036,
          24.863,
          24.332,
          25.259,
          26.446,
          25.342,
          23.1,
          22.994,
          25.098,
          23.227,
          23.199,
          24.535,
          25.683,
          23.716,
          24.064,
          24.192,
          25.978,
          23.871,
          24.899,
          24.848,
          16.867,
          23.303,
          22.681,
          24.865,
          23.792,
          23.438,
          24.599,
          23.777,
          30.888,
          32.319,
          23.257,
          24.348,
          22.313,
          22.528,
          22.103,
          23.203,
          23.017,
          22.035,
          21.91,
          25.346,
          24.162,
          24.933,
          24.579,
          23.302,
          22.915,
          24.397,
          24.58,
          28.888,
          23.275,
          22.837,
          24.256,
          24.131,
          23.427,
          23.166,
          22.862,
          23.464,
          24.579,
          24.881,
          23.31,
          23.203,
          23.569,
          26.322,
          25.046,
          25.303,
          48.984,
          17.088,
          23.882,
          22.282,
          23.571,
          21.538,
          24.24,
          21.717,
          21.515,
          22.239,
          22.133,
          22.534,
          22.316,
          22.315,
          23.528,
          23.215,
          24.06,
          36.564,
          30.838,
          22.948,
          21.807,
          22.704,
          21.596,
          24.104,
          23.834,
          23.917,
          21.754,
          21.511,
          21.509,
          23.01,
          23.051,
          23.394,
          23.509,
          21.792,
          21.606,
          21.704,
          22.709,
          22.181,
          23.074,
          24.688,
          23.16,
          23.371,
          23.387,
          22.669,
          23.099,
          22.155,
          22.015,
          21.778,
          22.274,
          23.435,
          24.177,
          23.677,
          22.004,
          21.705,
          22.693,
          22.749,
          17.255,
          22.264,
          32.657,
          23.797,
          25.541,
          22.497,
          22.526,
          22.411,
          22.399,
          24.331,
          23.673,
          22.994,
          22.427,
          23.15,
          22.273,
          22.615,
          22.933,
          22.887,
          21.978,
          25.543,
          21.825,
          23.124,
          22.978,
          30.514,
          23.92,
          23.238,
          24.209,
          23.493,
          23.821,
          22.656,
          22.847,
          34.921,
          23.117,
          24.305,
          22.681,
          23.254,
          22.353,
          27.465,
          22.405,
          22.062,
          22.137,
          21.612,
          22.535,
          22.694,
          22.295,
          22.933,
          22.105,
          23.353,
          23.532,
          26.009,
          27.831,
          22.079,
          22.414,
          22.392,
          22.701,
          21.55,
          26.206,
          23.895,
          22.357,
          16.936,
          21.531,
          22.245,
          21.981,
          21.796,
          23.286,
          23.224,
          21.339,
          24.548,
          22.303,
          29.066,
          22.616,
          21.837,
          22.508,
          21.94,
          22.167,
          24.719,
          21.376,
          31.336,
          22.189,
          22.293,
          22.38,
          39.562,
          22.154,
          28.591,
          22.484,
          23.13,
          23.159,
          21.709,
          22.045,
          21.762,
          21.568,
          21.988,
          21.44,
          22.208,
          22.033,
          25.559,
          24.026,
          22.213,
          22.296,
          21.421,
          21.821,
          22.242,
          22.836,
          20.953,
          21.983,
          23.868,
          21.854,
          23.054,
          22.628,
          22.327,
          22.474,
          21.664,
          25.504,
          21.397,
          21.787,
          21.44,
          22.573,
          32.997,
          22.343,
          21.889,
          33.027,
          23.299,
          21.588,
          23.234,
          21.995,
          22.388,
          21.78,
          21.515,
          29.981,
          21.627,
          22.014,
          21.157,
          22.086,
          21.689,
          21.543,
          22.471,
          27.172,
          22.306,
          21.269,
          18.242,
          18.56,
          20.402,
          18.552,
          17.936,
          19.039,
          19.128,
          18.281,
          18.443,
          17.434,
          17.556,
          18.15,
          18.926,
          18.38,
          17.973,
          17.877,
          18.413,
          18.479,
          18.796,
          18.394,
          19.111,
          19.845,
          18.056,
          18.951,
          21.881,
          18.382,
          19.158,
          19.018,
          17.657,
          17.814,
          21.659,
          19.825,
          19.146,
          18.319,
          20.789,
          18.258,
          19.442,
          18.08
         ],
         "xaxis": "x",
         "yaxis": "y",
         "type": "histogram",
         "opacity": 0.9
        },
        {
         "alignmentgroup": "True",
         "bingroup": "x",
         "hovertemplate": "circuitName=Circuit de Barcelona-Catalunya<br>seconds=%{x}<br>count=%{y}<extra></extra>",
         "legendgroup": "Circuit de Barcelona-Catalunya",
         "marker": {
          "color": "#EF553B",
          "opacity": 0.5,
          "pattern": {
           "shape": ""
          }
         },
         "name": "Circuit de Barcelona-Catalunya",
         "offsetgroup": "Circuit de Barcelona-Catalunya",
         "orientation": "v",
         "showlegend": true,
         "x": [
          24.871,
          21.128,
          20.5,
          23.592,
          21.143,
          21.829,
          22.689,
          24.821,
          21.574,
          22.077,
          20.253,
          19.887,
          20.426,
          20.292,
          20.818,
          24.745,
          20.819,
          20.567,
          20.238,
          20.738,
          20.38,
          20.881,
          20.079,
          20.279,
          19.984,
          20.084,
          20.487,
          20.451,
          19.761,
          20.235,
          20.473,
          20.988,
          21.856,
          24.232,
          21.739,
          20.647,
          19.534,
          20.395,
          20.8,
          21.635,
          22.419,
          20.741,
          20.872,
          21.019,
          23.143,
          29.936,
          21.226,
          20.65,
          20.637,
          20.773,
          20.267,
          23.23,
          20.015,
          20.763,
          20.107,
          24.843,
          24.448,
          24.298,
          20.07,
          20.126,
          20.573,
          22.364,
          21.723,
          23.001,
          21.019,
          20.807,
          23.068,
          23.157,
          22.744,
          21.632,
          21.17,
          23.176,
          22.982,
          21.708,
          21.322,
          21.953,
          20.796,
          21.864,
          21.055,
          28.531,
          20.119,
          24.864,
          20.129,
          19.745,
          19.624,
          13.335,
          26.143,
          22.26,
          20.381,
          21.311,
          20.502,
          20.059,
          20.197,
          20.333,
          21.061,
          19.888,
          19.987,
          21.68,
          19.867,
          19.456,
          20.028,
          20.105,
          20.223,
          21.215,
          21.035,
          20.113,
          20.388,
          22.645,
          20.46,
          20.13,
          13.259,
          19.699,
          22.645,
          20.521,
          20.558,
          20.515,
          24.856,
          23.072,
          21.817,
          22.275,
          22.135,
          21.543,
          21.471,
          20.62,
          20.218,
          22.829,
          19.777,
          21.301,
          20.073,
          21.101,
          20.114,
          20.059,
          21.518,
          22.515,
          21.29,
          22.566,
          21.275,
          21.963,
          19.98,
          21.082,
          20.902,
          20.669,
          20.936,
          21.338,
          29.994,
          20.656,
          19.904,
          19.83,
          19.668,
          19.151,
          19.17,
          18.931,
          19.49,
          19.373,
          19.326,
          19.001,
          19.993,
          19.402,
          22.324,
          24.001,
          28.971,
          20.314,
          20.205,
          13.266,
          23.139,
          20.8,
          19.723,
          20.734,
          20.87,
          21.202,
          18.909,
          19.952,
          19.519,
          18.471,
          22.018,
          20.132,
          19.7,
          19.457,
          20.615,
          19.792,
          19.822,
          19.481,
          19.772,
          20.671,
          25.362,
          29.74,
          21.686,
          22.029,
          21.171,
          20.533,
          19.908,
          19.414,
          20.032,
          19.352,
          18.606,
          18.708,
          19.551,
          18.694,
          19.978,
          19.743,
          20.184,
          19.25,
          20.578,
          19.866,
          19.993,
          19.795,
          20.1,
          19.498,
          19.857,
          18.81,
          19.196,
          19.29,
          22.144,
          19.988,
          20.082,
          19.324,
          25.294,
          21.582,
          21.34,
          20.306,
          19.591,
          22.931,
          21.974,
          21.599,
          21.608,
          21.969,
          21.83,
          22.126,
          22.078,
          22.89,
          22.381,
          22.304,
          27.851,
          22.024,
          21.97,
          22.014,
          21.664,
          22.976,
          22.056,
          22.727,
          22.355,
          22.724,
          21.81,
          24.408,
          28.013,
          23.378,
          24.337,
          23.232,
          23.586,
          22.951,
          23.59,
          22.367,
          22.282,
          22.703,
          22.841,
          22.984,
          23.063,
          24.78,
          23.025,
          23.091,
          26.671,
          21.894,
          21.768,
          22.824,
          22.701,
          22.254,
          22.309,
          22.928,
          22.568,
          22.789,
          22.659,
          22.534,
          22.545,
          22.667,
          22.273,
          22.589,
          23.327,
          24.066,
          22.677,
          23.186,
          24.586,
          22.727,
          21.965,
          22.44,
          24.884,
          24.396,
          22.607,
          21.762,
          21.836,
          22.139,
          22.629,
          22.257,
          24.976,
          32.459,
          22.575,
          22.859,
          22.178,
          21.87,
          22.452,
          22.082,
          21.8,
          23.309,
          33.256,
          24.687,
          23.043,
          22.796,
          22.623,
          21.789,
          24.631,
          23.07,
          24.2,
          25.272,
          22.872,
          22.468,
          22.426,
          23.728,
          21.384,
          22.568,
          21.831,
          22.679,
          21.918,
          23.277,
          22.234,
          22.769,
          22.84,
          23.122,
          22.897,
          22.874,
          22.937,
          22.28,
          22.59,
          22.176,
          22.843,
          23.165,
          22.122,
          21.738,
          22.104,
          21.683,
          23.133,
          21.795,
          22.987,
          23.283,
          22.397,
          24.554,
          24.387,
          22.369,
          22.348,
          22.107,
          22.169,
          21.856,
          22.443,
          22.976,
          23.09,
          21.643,
          22.617,
          21.603,
          23.187,
          22.844,
          34.832,
          23.206,
          22.43,
          28.753,
          26.186,
          22.235,
          22.117,
          40.612,
          22.292,
          23.066,
          23.159,
          22.762,
          24.75,
          22.69,
          23.354,
          22.923,
          22.1,
          22.071,
          22.547,
          22.703,
          23.814,
          25.052,
          22.432,
          21.934,
          22.499,
          22.307,
          22.49,
          22.362,
          22.616,
          22.643,
          25.082,
          23.107,
          22.995,
          22.775,
          22.866,
          22.641,
          21.544,
          21.722,
          21.811,
          21.918,
          21.689,
          23.445,
          22.631,
          22.472,
          22.049,
          22.034,
          23.865,
          22.054,
          24.273,
          23.213,
          21.995,
          21.351,
          21.721,
          22.085,
          22.409,
          22.438,
          22.242,
          47.91,
          22.917,
          21.618,
          21.74,
          27.416,
          22.1,
          22.381,
          23.507,
          23.746,
          21.643,
          22.417,
          22.54,
          22.049,
          33.821,
          22.563,
          22.095,
          23.321,
          22.025,
          22.992,
          22.379,
          22.702,
          21.468,
          21.545,
          22.781,
          22.896,
          23.646,
          21.638,
          23.591,
          37.345,
          22.034,
          22.018,
          22.379,
          22.732,
          21.579,
          22.265,
          22.511,
          22.342,
          22.549,
          21.954,
          22.142,
          22.442,
          21.846,
          22.193,
          21.663,
          21.804,
          22.708,
          21.889,
          22.314,
          22.197,
          21.532,
          21.601,
          22.241,
          22.394,
          22.099,
          21.761,
          23.036,
          22.079,
          22.243,
          21.794,
          22.078,
          22.166,
          23.377,
          21.853,
          22.31,
          22.143,
          22.607,
          22.351,
          22.388,
          24.148,
          22.322,
          22.475,
          22.641,
          22.274,
          21.82,
          23.212,
          24.01,
          22.366,
          21.837,
          22.871,
          23.814,
          21.919,
          26.672,
          21.424,
          22.405,
          28.042,
          26.065,
          22.043,
          23.479,
          23.087,
          21.973,
          21.779,
          21.856,
          21.756,
          21.432,
          23.098,
          22.502,
          22.311,
          21.638,
          22.798,
          21.864,
          22.467,
          24.006,
          22.31,
          23.565,
          21.592,
          22.406,
          21.762,
          22.382,
          21.345,
          22.22,
          22.078,
          21.613,
          22.292,
          21.572,
          31.054,
          22.105,
          22.241,
          29.632,
          23.878,
          22.341,
          21.867,
          22.302,
          22.375,
          21.914,
          25.407,
          22.008,
          27.947,
          21.838,
          23.109,
          23.083,
          22.802,
          22.316,
          22.124,
          22.399,
          22.154,
          23.419,
          22.657,
          23.328,
          23.404,
          21.916,
          23.341,
          22.165,
          23.582,
          23.127,
          23.189,
          22.311,
          22.761,
          22.154,
          22.039,
          22.815,
          22.173,
          21.966,
          21.941,
          22.137,
          22.953,
          22.033,
          22.987,
          22.541,
          22.833,
          23.394,
          23.812,
          22.032,
          21.619,
          21.694,
          21.794,
          22.536,
          22.456,
          37.736,
          22.85,
          22.062,
          23.691,
          24.097,
          22.298,
          23.257,
          24.484,
          23.43,
          22.889,
          22.522,
          21.976,
          22.176,
          22.009,
          22.124,
          24.8,
          22.291,
          22.112,
          24.11,
          22.355,
          23.371,
          22.321,
          22.375,
          21.778,
          23.003,
          23.319,
          23.449,
          22.37,
          22.862,
          22.583,
          23.827,
          22.558,
          22.896,
          23.388,
          23.61,
          22.575,
          22.731,
          22.275,
          22.054,
          22.241,
          22.357,
          21.775,
          21.537
         ],
         "xaxis": "x",
         "yaxis": "y",
         "type": "histogram",
         "opacity": 0.9
        },
        {
         "alignmentgroup": "True",
         "bingroup": "x",
         "hovertemplate": "circuitName=Circuit de Monaco<br>seconds=%{x}<br>count=%{y}<extra></extra>",
         "legendgroup": "Circuit de Monaco",
         "marker": {
          "color": "#00cc96",
          "opacity": 0.5,
          "pattern": {
           "shape": ""
          }
         },
         "name": "Circuit de Monaco",
         "offsetgroup": "Circuit de Monaco",
         "orientation": "v",
         "showlegend": true,
         "x": [
          35.084,
          25.28,
          26.421,
          24.67,
          25.189,
          25.31,
          25.116,
          28.536,
          37.735,
          26.269,
          25.352,
          31.382,
          26.477,
          25.878,
          24.97,
          19.36,
          47.226,
          31.445,
          19.347,
          26.977,
          26.827,
          25.595,
          26.065,
          26.468,
          25.687,
          26.615,
          28.325,
          39.917,
          28.856,
          25.907,
          27.55,
          25.921,
          25.675,
          25.851,
          26.281,
          26.073,
          25.045,
          28.298,
          27.577,
          26.464,
          28.642,
          25.037,
          27.879,
          28.39,
          39.391,
          26.063,
          26.157,
          24.874,
          25.566,
          25.748,
          26.38,
          26.447,
          26.41,
          27.306,
          26.973,
          25.22,
          26.066,
          31.293,
          25.567,
          36.503,
          24.993,
          27.186,
          25.117,
          25.666,
          19.677,
          25.642,
          25.219,
          25.335,
          25.079,
          40.507,
          26.146,
          35.1,
          25.676,
          25.862,
          25.643,
          25.225,
          25.098,
          25.215,
          25.337,
          19.553,
          26.198,
          24.316,
          24.42,
          25.125,
          24.585,
          25.331,
          24.974,
          24.489,
          25.364,
          25.926,
          24.672,
          24.827,
          24.375,
          25.274,
          29.063,
          24.565,
          39.98,
          25.2,
          24.801,
          26.312,
          25.029,
          33.207,
          33.074,
          37.352,
          26.137,
          25.992,
          25.906,
          25.421,
          25.116,
          32.658,
          24.672,
          27.509,
          28.091,
          25.585,
          25.282,
          25.684,
          31.896,
          26.584,
          26.499,
          28.943,
          25.444,
          19.385,
          25.714,
          25.595,
          24.264,
          34.773,
          24.758,
          42.934,
          24.97,
          24.395,
          25.306,
          24.641,
          24.412,
          25.618,
          25.398,
          25.234,
          25.077,
          25.732,
          26.42,
          25.119,
          25.736,
          30.345,
          28.606,
          25.062,
          24.661,
          24.851,
          24.501,
          24.244,
          24.733,
          25.119,
          24.789,
          27.554,
          24.177,
          24.181,
          25.495,
          19.918,
          27.698,
          25.583,
          38.811,
          25.879,
          31.241,
          25.766,
          25.45,
          28.242,
          27.166,
          45.7,
          27.176,
          26.435,
          33.342,
          29.117,
          27.38,
          26.292,
          25.604,
          25.459,
          25.114,
          25.561,
          25.512,
          26.836,
          25.215,
          27.064,
          27.364,
          25.478,
          24.673,
          33.49,
          25.111,
          26.044,
          27.407,
          26.698,
          27.68,
          24.934,
          25.182,
          27.738,
          28.112,
          25.714,
          25.608,
          25.054,
          35.327,
          26.315,
          26.517,
          25.813,
          24.465,
          26.057,
          31.313,
          25.026,
          35.485,
          25.343,
          25.678,
          24.308,
          24.833,
          24.949,
          24.406,
          24.299,
          24.496,
          24.642,
          24.427,
          24.979,
          26.04,
          24.183,
          24.353,
          25.123,
          24.306,
          24.66,
          26.69,
          25.248,
          25.472,
          24.768,
          24.155,
          31.81,
          25.17,
          25.563,
          33.887,
          31.104,
          24.852,
          23.739,
          24.326,
          23.87,
          24.741,
          24.568,
          23.964,
          24.874,
          24.542,
          24.263,
          24.02,
          24.291,
          24.237,
          24.241,
          26.817,
          25.438,
          29.379,
          24.663,
          24.296,
          24.111,
          25.213,
          25.532,
          25.964,
          25.705,
          26.165,
          24.266,
          25.03,
          24.776,
          24.011,
          24.483,
          24.269,
          25.419,
          28.463,
          23.946,
          24.161,
          23.858,
          23.795,
          24.023,
          24.591,
          25.062,
          35.651,
          26.299,
          25.026,
          24.219,
          23.783,
          24.244,
          23.874,
          24.428,
          24.369,
          23.928,
          24.15,
          24.521,
          23.746,
          24.548,
          25.202,
          24.715,
          23.935,
          24.797,
          24.077,
          23.703,
          23.803,
          23.474,
          24.43,
          26.731,
          32.75,
          25.65,
          36.773,
          36.351,
          26.91,
          35.486,
          28.77,
          27.637,
          36.854,
          24.965,
          25.133,
          25.068,
          26.021,
          25.266,
          24.796,
          24.507,
          24.409,
          24.536,
          24.872,
          24.76,
          24.607,
          25.71,
          28.034,
          27.009,
          26.93,
          27.231,
          31.518,
          26.056,
          25.594,
          25.865,
          24.666,
          25.352,
          24.526,
          24.875,
          32.494,
          34.725,
          25.672,
          26.141,
          25.26,
          24.887,
          32.749,
          24.217,
          29.337,
          25.466,
          24.29,
          26.99,
          24.376,
          27.774,
          25.946,
          24.594,
          26.685,
          25.833,
          24.707,
          24.252,
          29.3,
          24.192,
          25.713,
          23.902,
          29.949,
          24.663,
          33.428,
          30.395,
          24.656,
          33.706,
          24.414,
          25.916,
          24.539,
          30.98,
          24.798,
          25.851
         ],
         "xaxis": "x",
         "yaxis": "y",
         "type": "histogram",
         "opacity": 0.9
        }
       ],
       "layout": {
        "template": {
         "data": {
          "histogram2dcontour": [
           {
            "type": "histogram2dcontour",
            "colorbar": {
             "outlinewidth": 0,
             "ticks": ""
            },
            "colorscale": [
             [
              0.0,
              "#0d0887"
             ],
             [
              0.1111111111111111,
              "#46039f"
             ],
             [
              0.2222222222222222,
              "#7201a8"
             ],
             [
              0.3333333333333333,
              "#9c179e"
             ],
             [
              0.4444444444444444,
              "#bd3786"
             ],
             [
              0.5555555555555556,
              "#d8576b"
             ],
             [
              0.6666666666666666,
              "#ed7953"
             ],
             [
              0.7777777777777778,
              "#fb9f3a"
             ],
             [
              0.8888888888888888,
              "#fdca26"
             ],
             [
              1.0,
              "#f0f921"
             ]
            ]
           }
          ],
          "choropleth": [
           {
            "type": "choropleth",
            "colorbar": {
             "outlinewidth": 0,
             "ticks": ""
            }
           }
          ],
          "histogram2d": [
           {
            "type": "histogram2d",
            "colorbar": {
             "outlinewidth": 0,
             "ticks": ""
            },
            "colorscale": [
             [
              0.0,
              "#0d0887"
             ],
             [
              0.1111111111111111,
              "#46039f"
             ],
             [
              0.2222222222222222,
              "#7201a8"
             ],
             [
              0.3333333333333333,
              "#9c179e"
             ],
             [
              0.4444444444444444,
              "#bd3786"
             ],
             [
              0.5555555555555556,
              "#d8576b"
             ],
             [
              0.6666666666666666,
              "#ed7953"
             ],
             [
              0.7777777777777778,
              "#fb9f3a"
             ],
             [
              0.8888888888888888,
              "#fdca26"
             ],
             [
              1.0,
              "#f0f921"
             ]
            ]
           }
          ],
          "heatmap": [
           {
            "type": "heatmap",
            "colorbar": {
             "outlinewidth": 0,
             "ticks": ""
            },
            "colorscale": [
             [
              0.0,
              "#0d0887"
             ],
             [
              0.1111111111111111,
              "#46039f"
             ],
             [
              0.2222222222222222,
              "#7201a8"
             ],
             [
              0.3333333333333333,
              "#9c179e"
             ],
             [
              0.4444444444444444,
              "#bd3786"
             ],
             [
              0.5555555555555556,
              "#d8576b"
             ],
             [
              0.6666666666666666,
              "#ed7953"
             ],
             [
              0.7777777777777778,
              "#fb9f3a"
             ],
             [
              0.8888888888888888,
              "#fdca26"
             ],
             [
              1.0,
              "#f0f921"
             ]
            ]
           }
          ],
          "heatmapgl": [
           {
            "type": "heatmapgl",
            "colorbar": {
             "outlinewidth": 0,
             "ticks": ""
            },
            "colorscale": [
             [
              0.0,
              "#0d0887"
             ],
             [
              0.1111111111111111,
              "#46039f"
             ],
             [
              0.2222222222222222,
              "#7201a8"
             ],
             [
              0.3333333333333333,
              "#9c179e"
             ],
             [
              0.4444444444444444,
              "#bd3786"
             ],
             [
              0.5555555555555556,
              "#d8576b"
             ],
             [
              0.6666666666666666,
              "#ed7953"
             ],
             [
              0.7777777777777778,
              "#fb9f3a"
             ],
             [
              0.8888888888888888,
              "#fdca26"
             ],
             [
              1.0,
              "#f0f921"
             ]
            ]
           }
          ],
          "contourcarpet": [
           {
            "type": "contourcarpet",
            "colorbar": {
             "outlinewidth": 0,
             "ticks": ""
            }
           }
          ],
          "contour": [
           {
            "type": "contour",
            "colorbar": {
             "outlinewidth": 0,
             "ticks": ""
            },
            "colorscale": [
             [
              0.0,
              "#0d0887"
             ],
             [
              0.1111111111111111,
              "#46039f"
             ],
             [
              0.2222222222222222,
              "#7201a8"
             ],
             [
              0.3333333333333333,
              "#9c179e"
             ],
             [
              0.4444444444444444,
              "#bd3786"
             ],
             [
              0.5555555555555556,
              "#d8576b"
             ],
             [
              0.6666666666666666,
              "#ed7953"
             ],
             [
              0.7777777777777778,
              "#fb9f3a"
             ],
             [
              0.8888888888888888,
              "#fdca26"
             ],
             [
              1.0,
              "#f0f921"
             ]
            ]
           }
          ],
          "surface": [
           {
            "type": "surface",
            "colorbar": {
             "outlinewidth": 0,
             "ticks": ""
            },
            "colorscale": [
             [
              0.0,
              "#0d0887"
             ],
             [
              0.1111111111111111,
              "#46039f"
             ],
             [
              0.2222222222222222,
              "#7201a8"
             ],
             [
              0.3333333333333333,
              "#9c179e"
             ],
             [
              0.4444444444444444,
              "#bd3786"
             ],
             [
              0.5555555555555556,
              "#d8576b"
             ],
             [
              0.6666666666666666,
              "#ed7953"
             ],
             [
              0.7777777777777778,
              "#fb9f3a"
             ],
             [
              0.8888888888888888,
              "#fdca26"
             ],
             [
              1.0,
              "#f0f921"
             ]
            ]
           }
          ],
          "mesh3d": [
           {
            "type": "mesh3d",
            "colorbar": {
             "outlinewidth": 0,
             "ticks": ""
            }
           }
          ],
          "scatter": [
           {
            "fillpattern": {
             "fillmode": "overlay",
             "size": 10,
             "solidity": 0.2
            },
            "type": "scatter"
           }
          ],
          "parcoords": [
           {
            "type": "parcoords",
            "line": {
             "colorbar": {
              "outlinewidth": 0,
              "ticks": ""
             }
            }
           }
          ],
          "scatterpolargl": [
           {
            "type": "scatterpolargl",
            "marker": {
             "colorbar": {
              "outlinewidth": 0,
              "ticks": ""
             }
            }
           }
          ],
          "bar": [
           {
            "error_x": {
             "color": "#2a3f5f"
            },
            "error_y": {
             "color": "#2a3f5f"
            },
            "marker": {
             "line": {
              "color": "#E5ECF6",
              "width": 0.5
             },
             "pattern": {
              "fillmode": "overlay",
              "size": 10,
              "solidity": 0.2
             }
            },
            "type": "bar"
           }
          ],
          "scattergeo": [
           {
            "type": "scattergeo",
            "marker": {
             "colorbar": {
              "outlinewidth": 0,
              "ticks": ""
             }
            }
           }
          ],
          "scatterpolar": [
           {
            "type": "scatterpolar",
            "marker": {
             "colorbar": {
              "outlinewidth": 0,
              "ticks": ""
             }
            }
           }
          ],
          "histogram": [
           {
            "marker": {
             "pattern": {
              "fillmode": "overlay",
              "size": 10,
              "solidity": 0.2
             }
            },
            "type": "histogram"
           }
          ],
          "scattergl": [
           {
            "type": "scattergl",
            "marker": {
             "colorbar": {
              "outlinewidth": 0,
              "ticks": ""
             }
            }
           }
          ],
          "scatter3d": [
           {
            "type": "scatter3d",
            "line": {
             "colorbar": {
              "outlinewidth": 0,
              "ticks": ""
             }
            },
            "marker": {
             "colorbar": {
              "outlinewidth": 0,
              "ticks": ""
             }
            }
           }
          ],
          "scattermapbox": [
           {
            "type": "scattermapbox",
            "marker": {
             "colorbar": {
              "outlinewidth": 0,
              "ticks": ""
             }
            }
           }
          ],
          "scatterternary": [
           {
            "type": "scatterternary",
            "marker": {
             "colorbar": {
              "outlinewidth": 0,
              "ticks": ""
             }
            }
           }
          ],
          "scattercarpet": [
           {
            "type": "scattercarpet",
            "marker": {
             "colorbar": {
              "outlinewidth": 0,
              "ticks": ""
             }
            }
           }
          ],
          "carpet": [
           {
            "aaxis": {
             "endlinecolor": "#2a3f5f",
             "gridcolor": "white",
             "linecolor": "white",
             "minorgridcolor": "white",
             "startlinecolor": "#2a3f5f"
            },
            "baxis": {
             "endlinecolor": "#2a3f5f",
             "gridcolor": "white",
             "linecolor": "white",
             "minorgridcolor": "white",
             "startlinecolor": "#2a3f5f"
            },
            "type": "carpet"
           }
          ],
          "table": [
           {
            "cells": {
             "fill": {
              "color": "#EBF0F8"
             },
             "line": {
              "color": "white"
             }
            },
            "header": {
             "fill": {
              "color": "#C8D4E3"
             },
             "line": {
              "color": "white"
             }
            },
            "type": "table"
           }
          ],
          "barpolar": [
           {
            "marker": {
             "line": {
              "color": "#E5ECF6",
              "width": 0.5
             },
             "pattern": {
              "fillmode": "overlay",
              "size": 10,
              "solidity": 0.2
             }
            },
            "type": "barpolar"
           }
          ],
          "pie": [
           {
            "automargin": true,
            "type": "pie"
           }
          ]
         },
         "layout": {
          "autotypenumbers": "strict",
          "colorway": [
           "#636efa",
           "#EF553B",
           "#00cc96",
           "#ab63fa",
           "#FFA15A",
           "#19d3f3",
           "#FF6692",
           "#B6E880",
           "#FF97FF",
           "#FECB52"
          ],
          "font": {
           "color": "#2a3f5f"
          },
          "hovermode": "closest",
          "hoverlabel": {
           "align": "left"
          },
          "paper_bgcolor": "white",
          "plot_bgcolor": "#E5ECF6",
          "polar": {
           "bgcolor": "#E5ECF6",
           "angularaxis": {
            "gridcolor": "white",
            "linecolor": "white",
            "ticks": ""
           },
           "radialaxis": {
            "gridcolor": "white",
            "linecolor": "white",
            "ticks": ""
           }
          },
          "ternary": {
           "bgcolor": "#E5ECF6",
           "aaxis": {
            "gridcolor": "white",
            "linecolor": "white",
            "ticks": ""
           },
           "baxis": {
            "gridcolor": "white",
            "linecolor": "white",
            "ticks": ""
           },
           "caxis": {
            "gridcolor": "white",
            "linecolor": "white",
            "ticks": ""
           }
          },
          "coloraxis": {
           "colorbar": {
            "outlinewidth": 0,
            "ticks": ""
           }
          },
          "colorscale": {
           "sequential": [
            [
             0.0,
             "#0d0887"
            ],
            [
             0.1111111111111111,
             "#46039f"
            ],
            [
             0.2222222222222222,
             "#7201a8"
            ],
            [
             0.3333333333333333,
             "#9c179e"
            ],
            [
             0.4444444444444444,
             "#bd3786"
            ],
            [
             0.5555555555555556,
             "#d8576b"
            ],
            [
             0.6666666666666666,
             "#ed7953"
            ],
            [
             0.7777777777777778,
             "#fb9f3a"
            ],
            [
             0.8888888888888888,
             "#fdca26"
            ],
            [
             1.0,
             "#f0f921"
            ]
           ],
           "sequentialminus": [
            [
             0.0,
             "#0d0887"
            ],
            [
             0.1111111111111111,
             "#46039f"
            ],
            [
             0.2222222222222222,
             "#7201a8"
            ],
            [
             0.3333333333333333,
             "#9c179e"
            ],
            [
             0.4444444444444444,
             "#bd3786"
            ],
            [
             0.5555555555555556,
             "#d8576b"
            ],
            [
             0.6666666666666666,
             "#ed7953"
            ],
            [
             0.7777777777777778,
             "#fb9f3a"
            ],
            [
             0.8888888888888888,
             "#fdca26"
            ],
            [
             1.0,
             "#f0f921"
            ]
           ],
           "diverging": [
            [
             0,
             "#8e0152"
            ],
            [
             0.1,
             "#c51b7d"
            ],
            [
             0.2,
             "#de77ae"
            ],
            [
             0.3,
             "#f1b6da"
            ],
            [
             0.4,
             "#fde0ef"
            ],
            [
             0.5,
             "#f7f7f7"
            ],
            [
             0.6,
             "#e6f5d0"
            ],
            [
             0.7,
             "#b8e186"
            ],
            [
             0.8,
             "#7fbc41"
            ],
            [
             0.9,
             "#4d9221"
            ],
            [
             1,
             "#276419"
            ]
           ]
          },
          "xaxis": {
           "gridcolor": "white",
           "linecolor": "white",
           "ticks": "",
           "title": {
            "standoff": 15
           },
           "zerolinecolor": "white",
           "automargin": true,
           "zerolinewidth": 2
          },
          "yaxis": {
           "gridcolor": "white",
           "linecolor": "white",
           "ticks": "",
           "title": {
            "standoff": 15
           },
           "zerolinecolor": "white",
           "automargin": true,
           "zerolinewidth": 2
          },
          "scene": {
           "xaxis": {
            "backgroundcolor": "#E5ECF6",
            "gridcolor": "white",
            "linecolor": "white",
            "showbackground": true,
            "ticks": "",
            "zerolinecolor": "white",
            "gridwidth": 2
           },
           "yaxis": {
            "backgroundcolor": "#E5ECF6",
            "gridcolor": "white",
            "linecolor": "white",
            "showbackground": true,
            "ticks": "",
            "zerolinecolor": "white",
            "gridwidth": 2
           },
           "zaxis": {
            "backgroundcolor": "#E5ECF6",
            "gridcolor": "white",
            "linecolor": "white",
            "showbackground": true,
            "ticks": "",
            "zerolinecolor": "white",
            "gridwidth": 2
           }
          },
          "shapedefaults": {
           "line": {
            "color": "#2a3f5f"
           }
          },
          "annotationdefaults": {
           "arrowcolor": "#2a3f5f",
           "arrowhead": 0,
           "arrowwidth": 1
          },
          "geo": {
           "bgcolor": "white",
           "landcolor": "#E5ECF6",
           "subunitcolor": "white",
           "showland": true,
           "showlakes": true,
           "lakecolor": "white"
          },
          "title": {
           "x": 0.05
          },
          "mapbox": {
           "style": "light"
          }
         }
        },
        "xaxis": {
         "anchor": "y",
         "domain": [
          0.0,
          1.0
         ],
         "title": {
          "text": "seconds"
         }
        },
        "yaxis": {
         "anchor": "x",
         "domain": [
          0.0,
          1.0
         ],
         "title": {
          "text": "count"
         }
        },
        "legend": {
         "title": {
          "text": "circuitName"
         },
         "tracegroupgap": 0
        },
        "title": {
         "text": "Pit Stop Duration Distribution by Circuit",
         "font": {
          "size": 25
         }
        },
        "barmode": "overlay",
        "shapes": [
         {
          "type": "line",
          "x0": 23.70845906656465,
          "x1": 23.70845906656465,
          "xref": "x",
          "y0": 0,
          "y1": 1,
          "yref": "y domain"
         },
         {
          "line": {
           "dash": "dash"
          },
          "type": "line",
          "x0": 20.2368,
          "x1": 20.2368,
          "xref": "x",
          "y0": 0,
          "y1": 1,
          "yref": "y domain"
         },
         {
          "line": {
           "dash": "dash"
          },
          "type": "line",
          "x0": 26.902800000000003,
          "x1": 26.902800000000003,
          "xref": "x",
          "y0": 0,
          "y1": 1,
          "yref": "y domain"
         }
        ],
        "annotations": [
         {
          "showarrow": false,
          "text": "Average: 23.71s",
          "x": 23.70845906656465,
          "xanchor": "center",
          "xref": "x",
          "y": 1,
          "yanchor": "bottom",
          "yref": "y domain",
          "font": {
           "size": 14
          }
         },
         {
          "showarrow": false,
          "text": "Top Decile: 20.24s",
          "x": 20.2368,
          "xanchor": "right",
          "xref": "x",
          "y": 1,
          "yanchor": "top",
          "yref": "y domain",
          "font": {
           "size": 14
          }
         },
         {
          "showarrow": false,
          "text": "Bottom Decile: 26.90s",
          "x": 26.902800000000003,
          "xanchor": "left",
          "xref": "x",
          "y": 0,
          "yanchor": "bottom",
          "yref": "y domain",
          "font": {
           "size": 14
          }
         }
        ]
       },
       "config": {
        "plotlyServerURL": "https://plot.ly"
       }
      },
      "text/html": "<div>                            <div id=\"200109c9-4405-4be8-b511-08e54771d7af\" class=\"plotly-graph-div\" style=\"height:525px; width:100%;\"></div>            <script type=\"text/javascript\">                require([\"plotly\"], function(Plotly) {                    window.PLOTLYENV=window.PLOTLYENV || {};                                    if (document.getElementById(\"200109c9-4405-4be8-b511-08e54771d7af\")) {                    Plotly.newPlot(                        \"200109c9-4405-4be8-b511-08e54771d7af\",                        [{\"alignmentgroup\":\"True\",\"bingroup\":\"x\",\"hovertemplate\":\"circuitName=Albert Park Grand Prix Circuit\\u003cbr\\u003eseconds=%{x}\\u003cbr\\u003ecount=%{y}\\u003cextra\\u003e\\u003c\\u002fextra\\u003e\",\"legendgroup\":\"Albert Park Grand Prix Circuit\",\"marker\":{\"color\":\"#636efa\",\"opacity\":0.5,\"pattern\":{\"shape\":\"\"}},\"name\":\"Albert Park Grand Prix Circuit\",\"offsetgroup\":\"Albert Park Grand Prix Circuit\",\"orientation\":\"v\",\"showlegend\":true,\"x\":[26.898,24.463,26.348,25.021,23.988,23.426,22.52,26.23,23.251,24.733,24.181,23.842,24.5,24.095,23.643,37.856,16.892,26.309,22.603,24.036,24.863,24.332,25.259,26.446,25.342,23.1,22.994,25.098,23.227,23.199,24.535,25.683,23.716,24.064,24.192,25.978,23.871,24.899,24.848,16.867,23.303,22.681,24.865,23.792,23.438,24.599,23.777,30.888,32.319,23.257,24.348,22.313,22.528,22.103,23.203,23.017,22.035,21.91,25.346,24.162,24.933,24.579,23.302,22.915,24.397,24.58,28.888,23.275,22.837,24.256,24.131,23.427,23.166,22.862,23.464,24.579,24.881,23.31,23.203,23.569,26.322,25.046,25.303,48.984,17.088,23.882,22.282,23.571,21.538,24.24,21.717,21.515,22.239,22.133,22.534,22.316,22.315,23.528,23.215,24.06,36.564,30.838,22.948,21.807,22.704,21.596,24.104,23.834,23.917,21.754,21.511,21.509,23.01,23.051,23.394,23.509,21.792,21.606,21.704,22.709,22.181,23.074,24.688,23.16,23.371,23.387,22.669,23.099,22.155,22.015,21.778,22.274,23.435,24.177,23.677,22.004,21.705,22.693,22.749,17.255,22.264,32.657,23.797,25.541,22.497,22.526,22.411,22.399,24.331,23.673,22.994,22.427,23.15,22.273,22.615,22.933,22.887,21.978,25.543,21.825,23.124,22.978,30.514,23.92,23.238,24.209,23.493,23.821,22.656,22.847,34.921,23.117,24.305,22.681,23.254,22.353,27.465,22.405,22.062,22.137,21.612,22.535,22.694,22.295,22.933,22.105,23.353,23.532,26.009,27.831,22.079,22.414,22.392,22.701,21.55,26.206,23.895,22.357,16.936,21.531,22.245,21.981,21.796,23.286,23.224,21.339,24.548,22.303,29.066,22.616,21.837,22.508,21.94,22.167,24.719,21.376,31.336,22.189,22.293,22.38,39.562,22.154,28.591,22.484,23.13,23.159,21.709,22.045,21.762,21.568,21.988,21.44,22.208,22.033,25.559,24.026,22.213,22.296,21.421,21.821,22.242,22.836,20.953,21.983,23.868,21.854,23.054,22.628,22.327,22.474,21.664,25.504,21.397,21.787,21.44,22.573,32.997,22.343,21.889,33.027,23.299,21.588,23.234,21.995,22.388,21.78,21.515,29.981,21.627,22.014,21.157,22.086,21.689,21.543,22.471,27.172,22.306,21.269,18.242,18.56,20.402,18.552,17.936,19.039,19.128,18.281,18.443,17.434,17.556,18.15,18.926,18.38,17.973,17.877,18.413,18.479,18.796,18.394,19.111,19.845,18.056,18.951,21.881,18.382,19.158,19.018,17.657,17.814,21.659,19.825,19.146,18.319,20.789,18.258,19.442,18.08],\"xaxis\":\"x\",\"yaxis\":\"y\",\"type\":\"histogram\",\"opacity\":0.9},{\"alignmentgroup\":\"True\",\"bingroup\":\"x\",\"hovertemplate\":\"circuitName=Circuit de Barcelona-Catalunya\\u003cbr\\u003eseconds=%{x}\\u003cbr\\u003ecount=%{y}\\u003cextra\\u003e\\u003c\\u002fextra\\u003e\",\"legendgroup\":\"Circuit de Barcelona-Catalunya\",\"marker\":{\"color\":\"#EF553B\",\"opacity\":0.5,\"pattern\":{\"shape\":\"\"}},\"name\":\"Circuit de Barcelona-Catalunya\",\"offsetgroup\":\"Circuit de Barcelona-Catalunya\",\"orientation\":\"v\",\"showlegend\":true,\"x\":[24.871,21.128,20.5,23.592,21.143,21.829,22.689,24.821,21.574,22.077,20.253,19.887,20.426,20.292,20.818,24.745,20.819,20.567,20.238,20.738,20.38,20.881,20.079,20.279,19.984,20.084,20.487,20.451,19.761,20.235,20.473,20.988,21.856,24.232,21.739,20.647,19.534,20.395,20.8,21.635,22.419,20.741,20.872,21.019,23.143,29.936,21.226,20.65,20.637,20.773,20.267,23.23,20.015,20.763,20.107,24.843,24.448,24.298,20.07,20.126,20.573,22.364,21.723,23.001,21.019,20.807,23.068,23.157,22.744,21.632,21.17,23.176,22.982,21.708,21.322,21.953,20.796,21.864,21.055,28.531,20.119,24.864,20.129,19.745,19.624,13.335,26.143,22.26,20.381,21.311,20.502,20.059,20.197,20.333,21.061,19.888,19.987,21.68,19.867,19.456,20.028,20.105,20.223,21.215,21.035,20.113,20.388,22.645,20.46,20.13,13.259,19.699,22.645,20.521,20.558,20.515,24.856,23.072,21.817,22.275,22.135,21.543,21.471,20.62,20.218,22.829,19.777,21.301,20.073,21.101,20.114,20.059,21.518,22.515,21.29,22.566,21.275,21.963,19.98,21.082,20.902,20.669,20.936,21.338,29.994,20.656,19.904,19.83,19.668,19.151,19.17,18.931,19.49,19.373,19.326,19.001,19.993,19.402,22.324,24.001,28.971,20.314,20.205,13.266,23.139,20.8,19.723,20.734,20.87,21.202,18.909,19.952,19.519,18.471,22.018,20.132,19.7,19.457,20.615,19.792,19.822,19.481,19.772,20.671,25.362,29.74,21.686,22.029,21.171,20.533,19.908,19.414,20.032,19.352,18.606,18.708,19.551,18.694,19.978,19.743,20.184,19.25,20.578,19.866,19.993,19.795,20.1,19.498,19.857,18.81,19.196,19.29,22.144,19.988,20.082,19.324,25.294,21.582,21.34,20.306,19.591,22.931,21.974,21.599,21.608,21.969,21.83,22.126,22.078,22.89,22.381,22.304,27.851,22.024,21.97,22.014,21.664,22.976,22.056,22.727,22.355,22.724,21.81,24.408,28.013,23.378,24.337,23.232,23.586,22.951,23.59,22.367,22.282,22.703,22.841,22.984,23.063,24.78,23.025,23.091,26.671,21.894,21.768,22.824,22.701,22.254,22.309,22.928,22.568,22.789,22.659,22.534,22.545,22.667,22.273,22.589,23.327,24.066,22.677,23.186,24.586,22.727,21.965,22.44,24.884,24.396,22.607,21.762,21.836,22.139,22.629,22.257,24.976,32.459,22.575,22.859,22.178,21.87,22.452,22.082,21.8,23.309,33.256,24.687,23.043,22.796,22.623,21.789,24.631,23.07,24.2,25.272,22.872,22.468,22.426,23.728,21.384,22.568,21.831,22.679,21.918,23.277,22.234,22.769,22.84,23.122,22.897,22.874,22.937,22.28,22.59,22.176,22.843,23.165,22.122,21.738,22.104,21.683,23.133,21.795,22.987,23.283,22.397,24.554,24.387,22.369,22.348,22.107,22.169,21.856,22.443,22.976,23.09,21.643,22.617,21.603,23.187,22.844,34.832,23.206,22.43,28.753,26.186,22.235,22.117,40.612,22.292,23.066,23.159,22.762,24.75,22.69,23.354,22.923,22.1,22.071,22.547,22.703,23.814,25.052,22.432,21.934,22.499,22.307,22.49,22.362,22.616,22.643,25.082,23.107,22.995,22.775,22.866,22.641,21.544,21.722,21.811,21.918,21.689,23.445,22.631,22.472,22.049,22.034,23.865,22.054,24.273,23.213,21.995,21.351,21.721,22.085,22.409,22.438,22.242,47.91,22.917,21.618,21.74,27.416,22.1,22.381,23.507,23.746,21.643,22.417,22.54,22.049,33.821,22.563,22.095,23.321,22.025,22.992,22.379,22.702,21.468,21.545,22.781,22.896,23.646,21.638,23.591,37.345,22.034,22.018,22.379,22.732,21.579,22.265,22.511,22.342,22.549,21.954,22.142,22.442,21.846,22.193,21.663,21.804,22.708,21.889,22.314,22.197,21.532,21.601,22.241,22.394,22.099,21.761,23.036,22.079,22.243,21.794,22.078,22.166,23.377,21.853,22.31,22.143,22.607,22.351,22.388,24.148,22.322,22.475,22.641,22.274,21.82,23.212,24.01,22.366,21.837,22.871,23.814,21.919,26.672,21.424,22.405,28.042,26.065,22.043,23.479,23.087,21.973,21.779,21.856,21.756,21.432,23.098,22.502,22.311,21.638,22.798,21.864,22.467,24.006,22.31,23.565,21.592,22.406,21.762,22.382,21.345,22.22,22.078,21.613,22.292,21.572,31.054,22.105,22.241,29.632,23.878,22.341,21.867,22.302,22.375,21.914,25.407,22.008,27.947,21.838,23.109,23.083,22.802,22.316,22.124,22.399,22.154,23.419,22.657,23.328,23.404,21.916,23.341,22.165,23.582,23.127,23.189,22.311,22.761,22.154,22.039,22.815,22.173,21.966,21.941,22.137,22.953,22.033,22.987,22.541,22.833,23.394,23.812,22.032,21.619,21.694,21.794,22.536,22.456,37.736,22.85,22.062,23.691,24.097,22.298,23.257,24.484,23.43,22.889,22.522,21.976,22.176,22.009,22.124,24.8,22.291,22.112,24.11,22.355,23.371,22.321,22.375,21.778,23.003,23.319,23.449,22.37,22.862,22.583,23.827,22.558,22.896,23.388,23.61,22.575,22.731,22.275,22.054,22.241,22.357,21.775,21.537],\"xaxis\":\"x\",\"yaxis\":\"y\",\"type\":\"histogram\",\"opacity\":0.9},{\"alignmentgroup\":\"True\",\"bingroup\":\"x\",\"hovertemplate\":\"circuitName=Circuit de Monaco\\u003cbr\\u003eseconds=%{x}\\u003cbr\\u003ecount=%{y}\\u003cextra\\u003e\\u003c\\u002fextra\\u003e\",\"legendgroup\":\"Circuit de Monaco\",\"marker\":{\"color\":\"#00cc96\",\"opacity\":0.5,\"pattern\":{\"shape\":\"\"}},\"name\":\"Circuit de Monaco\",\"offsetgroup\":\"Circuit de Monaco\",\"orientation\":\"v\",\"showlegend\":true,\"x\":[35.084,25.28,26.421,24.67,25.189,25.31,25.116,28.536,37.735,26.269,25.352,31.382,26.477,25.878,24.97,19.36,47.226,31.445,19.347,26.977,26.827,25.595,26.065,26.468,25.687,26.615,28.325,39.917,28.856,25.907,27.55,25.921,25.675,25.851,26.281,26.073,25.045,28.298,27.577,26.464,28.642,25.037,27.879,28.39,39.391,26.063,26.157,24.874,25.566,25.748,26.38,26.447,26.41,27.306,26.973,25.22,26.066,31.293,25.567,36.503,24.993,27.186,25.117,25.666,19.677,25.642,25.219,25.335,25.079,40.507,26.146,35.1,25.676,25.862,25.643,25.225,25.098,25.215,25.337,19.553,26.198,24.316,24.42,25.125,24.585,25.331,24.974,24.489,25.364,25.926,24.672,24.827,24.375,25.274,29.063,24.565,39.98,25.2,24.801,26.312,25.029,33.207,33.074,37.352,26.137,25.992,25.906,25.421,25.116,32.658,24.672,27.509,28.091,25.585,25.282,25.684,31.896,26.584,26.499,28.943,25.444,19.385,25.714,25.595,24.264,34.773,24.758,42.934,24.97,24.395,25.306,24.641,24.412,25.618,25.398,25.234,25.077,25.732,26.42,25.119,25.736,30.345,28.606,25.062,24.661,24.851,24.501,24.244,24.733,25.119,24.789,27.554,24.177,24.181,25.495,19.918,27.698,25.583,38.811,25.879,31.241,25.766,25.45,28.242,27.166,45.7,27.176,26.435,33.342,29.117,27.38,26.292,25.604,25.459,25.114,25.561,25.512,26.836,25.215,27.064,27.364,25.478,24.673,33.49,25.111,26.044,27.407,26.698,27.68,24.934,25.182,27.738,28.112,25.714,25.608,25.054,35.327,26.315,26.517,25.813,24.465,26.057,31.313,25.026,35.485,25.343,25.678,24.308,24.833,24.949,24.406,24.299,24.496,24.642,24.427,24.979,26.04,24.183,24.353,25.123,24.306,24.66,26.69,25.248,25.472,24.768,24.155,31.81,25.17,25.563,33.887,31.104,24.852,23.739,24.326,23.87,24.741,24.568,23.964,24.874,24.542,24.263,24.02,24.291,24.237,24.241,26.817,25.438,29.379,24.663,24.296,24.111,25.213,25.532,25.964,25.705,26.165,24.266,25.03,24.776,24.011,24.483,24.269,25.419,28.463,23.946,24.161,23.858,23.795,24.023,24.591,25.062,35.651,26.299,25.026,24.219,23.783,24.244,23.874,24.428,24.369,23.928,24.15,24.521,23.746,24.548,25.202,24.715,23.935,24.797,24.077,23.703,23.803,23.474,24.43,26.731,32.75,25.65,36.773,36.351,26.91,35.486,28.77,27.637,36.854,24.965,25.133,25.068,26.021,25.266,24.796,24.507,24.409,24.536,24.872,24.76,24.607,25.71,28.034,27.009,26.93,27.231,31.518,26.056,25.594,25.865,24.666,25.352,24.526,24.875,32.494,34.725,25.672,26.141,25.26,24.887,32.749,24.217,29.337,25.466,24.29,26.99,24.376,27.774,25.946,24.594,26.685,25.833,24.707,24.252,29.3,24.192,25.713,23.902,29.949,24.663,33.428,30.395,24.656,33.706,24.414,25.916,24.539,30.98,24.798,25.851],\"xaxis\":\"x\",\"yaxis\":\"y\",\"type\":\"histogram\",\"opacity\":0.9}],                        {\"template\":{\"data\":{\"histogram2dcontour\":[{\"type\":\"histogram2dcontour\",\"colorbar\":{\"outlinewidth\":0,\"ticks\":\"\"},\"colorscale\":[[0.0,\"#0d0887\"],[0.1111111111111111,\"#46039f\"],[0.2222222222222222,\"#7201a8\"],[0.3333333333333333,\"#9c179e\"],[0.4444444444444444,\"#bd3786\"],[0.5555555555555556,\"#d8576b\"],[0.6666666666666666,\"#ed7953\"],[0.7777777777777778,\"#fb9f3a\"],[0.8888888888888888,\"#fdca26\"],[1.0,\"#f0f921\"]]}],\"choropleth\":[{\"type\":\"choropleth\",\"colorbar\":{\"outlinewidth\":0,\"ticks\":\"\"}}],\"histogram2d\":[{\"type\":\"histogram2d\",\"colorbar\":{\"outlinewidth\":0,\"ticks\":\"\"},\"colorscale\":[[0.0,\"#0d0887\"],[0.1111111111111111,\"#46039f\"],[0.2222222222222222,\"#7201a8\"],[0.3333333333333333,\"#9c179e\"],[0.4444444444444444,\"#bd3786\"],[0.5555555555555556,\"#d8576b\"],[0.6666666666666666,\"#ed7953\"],[0.7777777777777778,\"#fb9f3a\"],[0.8888888888888888,\"#fdca26\"],[1.0,\"#f0f921\"]]}],\"heatmap\":[{\"type\":\"heatmap\",\"colorbar\":{\"outlinewidth\":0,\"ticks\":\"\"},\"colorscale\":[[0.0,\"#0d0887\"],[0.1111111111111111,\"#46039f\"],[0.2222222222222222,\"#7201a8\"],[0.3333333333333333,\"#9c179e\"],[0.4444444444444444,\"#bd3786\"],[0.5555555555555556,\"#d8576b\"],[0.6666666666666666,\"#ed7953\"],[0.7777777777777778,\"#fb9f3a\"],[0.8888888888888888,\"#fdca26\"],[1.0,\"#f0f921\"]]}],\"heatmapgl\":[{\"type\":\"heatmapgl\",\"colorbar\":{\"outlinewidth\":0,\"ticks\":\"\"},\"colorscale\":[[0.0,\"#0d0887\"],[0.1111111111111111,\"#46039f\"],[0.2222222222222222,\"#7201a8\"],[0.3333333333333333,\"#9c179e\"],[0.4444444444444444,\"#bd3786\"],[0.5555555555555556,\"#d8576b\"],[0.6666666666666666,\"#ed7953\"],[0.7777777777777778,\"#fb9f3a\"],[0.8888888888888888,\"#fdca26\"],[1.0,\"#f0f921\"]]}],\"contourcarpet\":[{\"type\":\"contourcarpet\",\"colorbar\":{\"outlinewidth\":0,\"ticks\":\"\"}}],\"contour\":[{\"type\":\"contour\",\"colorbar\":{\"outlinewidth\":0,\"ticks\":\"\"},\"colorscale\":[[0.0,\"#0d0887\"],[0.1111111111111111,\"#46039f\"],[0.2222222222222222,\"#7201a8\"],[0.3333333333333333,\"#9c179e\"],[0.4444444444444444,\"#bd3786\"],[0.5555555555555556,\"#d8576b\"],[0.6666666666666666,\"#ed7953\"],[0.7777777777777778,\"#fb9f3a\"],[0.8888888888888888,\"#fdca26\"],[1.0,\"#f0f921\"]]}],\"surface\":[{\"type\":\"surface\",\"colorbar\":{\"outlinewidth\":0,\"ticks\":\"\"},\"colorscale\":[[0.0,\"#0d0887\"],[0.1111111111111111,\"#46039f\"],[0.2222222222222222,\"#7201a8\"],[0.3333333333333333,\"#9c179e\"],[0.4444444444444444,\"#bd3786\"],[0.5555555555555556,\"#d8576b\"],[0.6666666666666666,\"#ed7953\"],[0.7777777777777778,\"#fb9f3a\"],[0.8888888888888888,\"#fdca26\"],[1.0,\"#f0f921\"]]}],\"mesh3d\":[{\"type\":\"mesh3d\",\"colorbar\":{\"outlinewidth\":0,\"ticks\":\"\"}}],\"scatter\":[{\"fillpattern\":{\"fillmode\":\"overlay\",\"size\":10,\"solidity\":0.2},\"type\":\"scatter\"}],\"parcoords\":[{\"type\":\"parcoords\",\"line\":{\"colorbar\":{\"outlinewidth\":0,\"ticks\":\"\"}}}],\"scatterpolargl\":[{\"type\":\"scatterpolargl\",\"marker\":{\"colorbar\":{\"outlinewidth\":0,\"ticks\":\"\"}}}],\"bar\":[{\"error_x\":{\"color\":\"#2a3f5f\"},\"error_y\":{\"color\":\"#2a3f5f\"},\"marker\":{\"line\":{\"color\":\"#E5ECF6\",\"width\":0.5},\"pattern\":{\"fillmode\":\"overlay\",\"size\":10,\"solidity\":0.2}},\"type\":\"bar\"}],\"scattergeo\":[{\"type\":\"scattergeo\",\"marker\":{\"colorbar\":{\"outlinewidth\":0,\"ticks\":\"\"}}}],\"scatterpolar\":[{\"type\":\"scatterpolar\",\"marker\":{\"colorbar\":{\"outlinewidth\":0,\"ticks\":\"\"}}}],\"histogram\":[{\"marker\":{\"pattern\":{\"fillmode\":\"overlay\",\"size\":10,\"solidity\":0.2}},\"type\":\"histogram\"}],\"scattergl\":[{\"type\":\"scattergl\",\"marker\":{\"colorbar\":{\"outlinewidth\":0,\"ticks\":\"\"}}}],\"scatter3d\":[{\"type\":\"scatter3d\",\"line\":{\"colorbar\":{\"outlinewidth\":0,\"ticks\":\"\"}},\"marker\":{\"colorbar\":{\"outlinewidth\":0,\"ticks\":\"\"}}}],\"scattermapbox\":[{\"type\":\"scattermapbox\",\"marker\":{\"colorbar\":{\"outlinewidth\":0,\"ticks\":\"\"}}}],\"scatterternary\":[{\"type\":\"scatterternary\",\"marker\":{\"colorbar\":{\"outlinewidth\":0,\"ticks\":\"\"}}}],\"scattercarpet\":[{\"type\":\"scattercarpet\",\"marker\":{\"colorbar\":{\"outlinewidth\":0,\"ticks\":\"\"}}}],\"carpet\":[{\"aaxis\":{\"endlinecolor\":\"#2a3f5f\",\"gridcolor\":\"white\",\"linecolor\":\"white\",\"minorgridcolor\":\"white\",\"startlinecolor\":\"#2a3f5f\"},\"baxis\":{\"endlinecolor\":\"#2a3f5f\",\"gridcolor\":\"white\",\"linecolor\":\"white\",\"minorgridcolor\":\"white\",\"startlinecolor\":\"#2a3f5f\"},\"type\":\"carpet\"}],\"table\":[{\"cells\":{\"fill\":{\"color\":\"#EBF0F8\"},\"line\":{\"color\":\"white\"}},\"header\":{\"fill\":{\"color\":\"#C8D4E3\"},\"line\":{\"color\":\"white\"}},\"type\":\"table\"}],\"barpolar\":[{\"marker\":{\"line\":{\"color\":\"#E5ECF6\",\"width\":0.5},\"pattern\":{\"fillmode\":\"overlay\",\"size\":10,\"solidity\":0.2}},\"type\":\"barpolar\"}],\"pie\":[{\"automargin\":true,\"type\":\"pie\"}]},\"layout\":{\"autotypenumbers\":\"strict\",\"colorway\":[\"#636efa\",\"#EF553B\",\"#00cc96\",\"#ab63fa\",\"#FFA15A\",\"#19d3f3\",\"#FF6692\",\"#B6E880\",\"#FF97FF\",\"#FECB52\"],\"font\":{\"color\":\"#2a3f5f\"},\"hovermode\":\"closest\",\"hoverlabel\":{\"align\":\"left\"},\"paper_bgcolor\":\"white\",\"plot_bgcolor\":\"#E5ECF6\",\"polar\":{\"bgcolor\":\"#E5ECF6\",\"angularaxis\":{\"gridcolor\":\"white\",\"linecolor\":\"white\",\"ticks\":\"\"},\"radialaxis\":{\"gridcolor\":\"white\",\"linecolor\":\"white\",\"ticks\":\"\"}},\"ternary\":{\"bgcolor\":\"#E5ECF6\",\"aaxis\":{\"gridcolor\":\"white\",\"linecolor\":\"white\",\"ticks\":\"\"},\"baxis\":{\"gridcolor\":\"white\",\"linecolor\":\"white\",\"ticks\":\"\"},\"caxis\":{\"gridcolor\":\"white\",\"linecolor\":\"white\",\"ticks\":\"\"}},\"coloraxis\":{\"colorbar\":{\"outlinewidth\":0,\"ticks\":\"\"}},\"colorscale\":{\"sequential\":[[0.0,\"#0d0887\"],[0.1111111111111111,\"#46039f\"],[0.2222222222222222,\"#7201a8\"],[0.3333333333333333,\"#9c179e\"],[0.4444444444444444,\"#bd3786\"],[0.5555555555555556,\"#d8576b\"],[0.6666666666666666,\"#ed7953\"],[0.7777777777777778,\"#fb9f3a\"],[0.8888888888888888,\"#fdca26\"],[1.0,\"#f0f921\"]],\"sequentialminus\":[[0.0,\"#0d0887\"],[0.1111111111111111,\"#46039f\"],[0.2222222222222222,\"#7201a8\"],[0.3333333333333333,\"#9c179e\"],[0.4444444444444444,\"#bd3786\"],[0.5555555555555556,\"#d8576b\"],[0.6666666666666666,\"#ed7953\"],[0.7777777777777778,\"#fb9f3a\"],[0.8888888888888888,\"#fdca26\"],[1.0,\"#f0f921\"]],\"diverging\":[[0,\"#8e0152\"],[0.1,\"#c51b7d\"],[0.2,\"#de77ae\"],[0.3,\"#f1b6da\"],[0.4,\"#fde0ef\"],[0.5,\"#f7f7f7\"],[0.6,\"#e6f5d0\"],[0.7,\"#b8e186\"],[0.8,\"#7fbc41\"],[0.9,\"#4d9221\"],[1,\"#276419\"]]},\"xaxis\":{\"gridcolor\":\"white\",\"linecolor\":\"white\",\"ticks\":\"\",\"title\":{\"standoff\":15},\"zerolinecolor\":\"white\",\"automargin\":true,\"zerolinewidth\":2},\"yaxis\":{\"gridcolor\":\"white\",\"linecolor\":\"white\",\"ticks\":\"\",\"title\":{\"standoff\":15},\"zerolinecolor\":\"white\",\"automargin\":true,\"zerolinewidth\":2},\"scene\":{\"xaxis\":{\"backgroundcolor\":\"#E5ECF6\",\"gridcolor\":\"white\",\"linecolor\":\"white\",\"showbackground\":true,\"ticks\":\"\",\"zerolinecolor\":\"white\",\"gridwidth\":2},\"yaxis\":{\"backgroundcolor\":\"#E5ECF6\",\"gridcolor\":\"white\",\"linecolor\":\"white\",\"showbackground\":true,\"ticks\":\"\",\"zerolinecolor\":\"white\",\"gridwidth\":2},\"zaxis\":{\"backgroundcolor\":\"#E5ECF6\",\"gridcolor\":\"white\",\"linecolor\":\"white\",\"showbackground\":true,\"ticks\":\"\",\"zerolinecolor\":\"white\",\"gridwidth\":2}},\"shapedefaults\":{\"line\":{\"color\":\"#2a3f5f\"}},\"annotationdefaults\":{\"arrowcolor\":\"#2a3f5f\",\"arrowhead\":0,\"arrowwidth\":1},\"geo\":{\"bgcolor\":\"white\",\"landcolor\":\"#E5ECF6\",\"subunitcolor\":\"white\",\"showland\":true,\"showlakes\":true,\"lakecolor\":\"white\"},\"title\":{\"x\":0.05},\"mapbox\":{\"style\":\"light\"}}},\"xaxis\":{\"anchor\":\"y\",\"domain\":[0.0,1.0],\"title\":{\"text\":\"seconds\"}},\"yaxis\":{\"anchor\":\"x\",\"domain\":[0.0,1.0],\"title\":{\"text\":\"count\"}},\"legend\":{\"title\":{\"text\":\"circuitName\"},\"tracegroupgap\":0},\"title\":{\"text\":\"Pit Stop Duration Distribution by Circuit\",\"font\":{\"size\":25}},\"barmode\":\"overlay\",\"shapes\":[{\"type\":\"line\",\"x0\":23.70845906656465,\"x1\":23.70845906656465,\"xref\":\"x\",\"y0\":0,\"y1\":1,\"yref\":\"y domain\"},{\"line\":{\"dash\":\"dash\"},\"type\":\"line\",\"x0\":20.2368,\"x1\":20.2368,\"xref\":\"x\",\"y0\":0,\"y1\":1,\"yref\":\"y domain\"},{\"line\":{\"dash\":\"dash\"},\"type\":\"line\",\"x0\":26.902800000000003,\"x1\":26.902800000000003,\"xref\":\"x\",\"y0\":0,\"y1\":1,\"yref\":\"y domain\"}],\"annotations\":[{\"showarrow\":false,\"text\":\"Average: 23.71s\",\"x\":23.70845906656465,\"xanchor\":\"center\",\"xref\":\"x\",\"y\":1,\"yanchor\":\"bottom\",\"yref\":\"y domain\",\"font\":{\"size\":14}},{\"showarrow\":false,\"text\":\"Top Decile: 20.24s\",\"x\":20.2368,\"xanchor\":\"right\",\"xref\":\"x\",\"y\":1,\"yanchor\":\"top\",\"yref\":\"y domain\",\"font\":{\"size\":14}},{\"showarrow\":false,\"text\":\"Bottom Decile: 26.90s\",\"x\":26.902800000000003,\"xanchor\":\"left\",\"xref\":\"x\",\"y\":0,\"yanchor\":\"bottom\",\"yref\":\"y domain\",\"font\":{\"size\":14}}]},                        {\"responsive\": true}                    ).then(function(){\n                            \nvar gd = document.getElementById('200109c9-4405-4be8-b511-08e54771d7af');\nvar x = new MutationObserver(function (mutations, observer) {{\n        var display = window.getComputedStyle(gd).display;\n        if (!display || display === 'none') {{\n            console.log([gd, 'removed!']);\n            Plotly.purge(gd);\n            observer.disconnect();\n        }}\n}});\n\n// Listen for the removal of the full notebook cells\nvar notebookContainer = gd.closest('#notebook-container');\nif (notebookContainer) {{\n    x.observe(notebookContainer, {childList: true});\n}}\n\n// Listen for the clearing of the current output cell\nvar outputEl = gd.closest('.output');\nif (outputEl) {{\n    x.observe(outputEl, {childList: true});\n}}\n\n                        })                };                });            </script>        </div>"
     },
     "metadata": {},
     "output_type": "display_data"
    }
   ],
   "source": [
    "import plotly.express as px\n",
    "\n",
    "# Filter the data for race circuits 1, 4, and 6\n",
    "filtered_data = newPitStops[newPitStops['circuitId'].isin([1, 4, 6]) & (newPitStops['seconds'] < 50)]\n",
    "\n",
    "# Create the histogram\n",
    "fig = px.histogram(filtered_data, x='seconds', color='circuitName', \n",
    "                   title='Pit Stop Duration Distribution by Circuit',\n",
    "                   barmode='overlay')\n",
    "\n",
    "# Add vertical lines for mean and quantiles\n",
    "fig.add_vline(x=filtered_data['seconds'].mean(), \n",
    "              annotation_text=f\"Average: {filtered_data['seconds'].mean():.2f}s\", \n",
    "              annotation_position='top')\n",
    "fig.add_vline(x=filtered_data['seconds'].quantile(0.1), \n",
    "              line_dash='dash', \n",
    "              annotation_text=f\"Top Decile: {filtered_data['seconds'].quantile(0.1):.2f}s\", \n",
    "              annotation_position='top left')\n",
    "fig.add_vline(x=filtered_data['seconds'].quantile(0.9), \n",
    "              line_dash='dash', \n",
    "              annotation_text=f\"Bottom Decile: {filtered_data['seconds'].quantile(0.9):.2f}s\", \n",
    "              annotation_position='bottom right')\n",
    "\n",
    "# Set opacity\n",
    "fig.update_traces(opacity=0.9)\n",
    "\n",
    "# Increase title font size\n",
    "fig.update_layout(\n",
    "    title_font=dict(size=25),\n",
    ")\n",
    "\n",
    "# Increase annotation font size\n",
    "fig.update_annotations(font_size=14)\n",
    "\n",
    "# Show the plot\n",
    "fig.show()\n"
   ]
  },
  {
   "cell_type": "raw",
   "id": "dbe8eaf5",
   "metadata": {},
   "source": [
    "The code generates a histogram showing the distribution of pit stop durations for three Formula 1 race circuits (1, 4, and 6). Each circuit's pit stop durations are represented by different colors, highlighting differences in pit stop performance across circuits."
   ]
  },
  {
   "cell_type": "markdown",
   "source": [],
   "metadata": {
    "collapsed": false
   },
   "id": "b8cc14beecd0bc9"
  }
 ],
 "metadata": {
  "kernelspec": {
   "display_name": "Python 3 (ipykernel)",
   "language": "python",
   "name": "python3"
  },
  "language_info": {
   "codemirror_mode": {
    "name": "ipython",
    "version": 3
   },
   "file_extension": ".py",
   "mimetype": "text/x-python",
   "name": "python",
   "nbconvert_exporter": "python",
   "pygments_lexer": "ipython3",
   "version": "3.9.13"
  }
 },
 "nbformat": 4,
 "nbformat_minor": 5
}
